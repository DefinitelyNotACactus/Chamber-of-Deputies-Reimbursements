{
 "cells": [
  {
   "cell_type": "markdown",
   "id": "alpha-mattress",
   "metadata": {},
   "source": [
    "## Importando Dados"
   ]
  },
  {
   "cell_type": "code",
   "execution_count": 38,
   "id": "advised-breed",
   "metadata": {
    "scrolled": true
   },
   "outputs": [
    {
     "data": {
      "text/html": [
       "<div>\n",
       "<style scoped>\n",
       "    .dataframe tbody tr th:only-of-type {\n",
       "        vertical-align: middle;\n",
       "    }\n",
       "\n",
       "    .dataframe tbody tr th {\n",
       "        vertical-align: top;\n",
       "    }\n",
       "\n",
       "    .dataframe thead th {\n",
       "        text-align: right;\n",
       "    }\n",
       "</style>\n",
       "<table border=\"1\" class=\"dataframe\">\n",
       "  <thead>\n",
       "    <tr style=\"text-align: right;\">\n",
       "      <th></th>\n",
       "      <th>Unnamed: 0</th>\n",
       "      <th>bugged_date</th>\n",
       "      <th>receipt_date</th>\n",
       "      <th>deputy_id</th>\n",
       "      <th>political_party</th>\n",
       "      <th>state_code</th>\n",
       "      <th>deputy_name</th>\n",
       "      <th>receipt_social_security_number</th>\n",
       "      <th>receipt_description</th>\n",
       "      <th>establishment_name</th>\n",
       "      <th>receipt_value</th>\n",
       "      <th>year</th>\n",
       "    </tr>\n",
       "  </thead>\n",
       "  <tbody>\n",
       "    <tr>\n",
       "      <th>0</th>\n",
       "      <td>2753519</td>\n",
       "      <td>0</td>\n",
       "      <td>2009-05-19 00:00:00</td>\n",
       "      <td>1772</td>\n",
       "      <td>PSB</td>\n",
       "      <td>SP</td>\n",
       "      <td>Abelardo Camarinha</td>\n",
       "      <td>4.206050e+12</td>\n",
       "      <td>Maintenance of Office</td>\n",
       "      <td>TIM CELULAR S/A</td>\n",
       "      <td>411</td>\n",
       "      <td>2009</td>\n",
       "    </tr>\n",
       "    <tr>\n",
       "      <th>1</th>\n",
       "      <td>2753520</td>\n",
       "      <td>0</td>\n",
       "      <td>2009-05-19 00:00:00</td>\n",
       "      <td>1772</td>\n",
       "      <td>PSB</td>\n",
       "      <td>SP</td>\n",
       "      <td>Abelardo Camarinha</td>\n",
       "      <td>4.206050e+12</td>\n",
       "      <td>Maintenance of Office</td>\n",
       "      <td>TIM CELULAR S/A</td>\n",
       "      <td>429</td>\n",
       "      <td>2009</td>\n",
       "    </tr>\n",
       "    <tr>\n",
       "      <th>2</th>\n",
       "      <td>2753521</td>\n",
       "      <td>0</td>\n",
       "      <td>2009-05-19 00:00:00</td>\n",
       "      <td>1772</td>\n",
       "      <td>PSB</td>\n",
       "      <td>SP</td>\n",
       "      <td>Abelardo Camarinha</td>\n",
       "      <td>4.206050e+12</td>\n",
       "      <td>Maintenance of Office</td>\n",
       "      <td>TIM CELULAR S/A</td>\n",
       "      <td>109</td>\n",
       "      <td>2009</td>\n",
       "    </tr>\n",
       "    <tr>\n",
       "      <th>3</th>\n",
       "      <td>2753522</td>\n",
       "      <td>0</td>\n",
       "      <td>2009-05-19 00:00:00</td>\n",
       "      <td>1772</td>\n",
       "      <td>PSB</td>\n",
       "      <td>SP</td>\n",
       "      <td>Abelardo Camarinha</td>\n",
       "      <td>4.206050e+12</td>\n",
       "      <td>Maintenance of Office</td>\n",
       "      <td>TIM CELULAR S/A</td>\n",
       "      <td>68</td>\n",
       "      <td>2009</td>\n",
       "    </tr>\n",
       "    <tr>\n",
       "      <th>4</th>\n",
       "      <td>2753523</td>\n",
       "      <td>0</td>\n",
       "      <td>2009-09-25 00:00:00</td>\n",
       "      <td>1772</td>\n",
       "      <td>PSB</td>\n",
       "      <td>SP</td>\n",
       "      <td>Abelardo Camarinha</td>\n",
       "      <td>2.418000e+12</td>\n",
       "      <td>Fuels and lubricants.</td>\n",
       "      <td>AUTO POSTO ALVORADA</td>\n",
       "      <td>4395</td>\n",
       "      <td>2009</td>\n",
       "    </tr>\n",
       "    <tr>\n",
       "      <th>...</th>\n",
       "      <td>...</td>\n",
       "      <td>...</td>\n",
       "      <td>...</td>\n",
       "      <td>...</td>\n",
       "      <td>...</td>\n",
       "      <td>...</td>\n",
       "      <td>...</td>\n",
       "      <td>...</td>\n",
       "      <td>...</td>\n",
       "      <td>...</td>\n",
       "      <td>...</td>\n",
       "      <td>...</td>\n",
       "    </tr>\n",
       "    <tr>\n",
       "      <th>251877</th>\n",
       "      <td>2050722</td>\n",
       "      <td>0</td>\n",
       "      <td>2017-06-29 00:00:00</td>\n",
       "      <td>2930</td>\n",
       "      <td>PR</td>\n",
       "      <td>RN</td>\n",
       "      <td>Zenaide Maia</td>\n",
       "      <td>2.012862e+12</td>\n",
       "      <td>Airline tickets</td>\n",
       "      <td>Cia Aérea - TAM</td>\n",
       "      <td>84</td>\n",
       "      <td>2017</td>\n",
       "    </tr>\n",
       "    <tr>\n",
       "      <th>251878</th>\n",
       "      <td>2050723</td>\n",
       "      <td>0</td>\n",
       "      <td>2017-07-06 00:00:00</td>\n",
       "      <td>2930</td>\n",
       "      <td>PR</td>\n",
       "      <td>RN</td>\n",
       "      <td>Zenaide Maia</td>\n",
       "      <td>2.012862e+12</td>\n",
       "      <td>Airline tickets</td>\n",
       "      <td>Cia Aérea - TAM</td>\n",
       "      <td>72</td>\n",
       "      <td>2017</td>\n",
       "    </tr>\n",
       "    <tr>\n",
       "      <th>251879</th>\n",
       "      <td>2050724</td>\n",
       "      <td>0</td>\n",
       "      <td>2017-07-06 00:00:00</td>\n",
       "      <td>2930</td>\n",
       "      <td>PR</td>\n",
       "      <td>RN</td>\n",
       "      <td>Zenaide Maia</td>\n",
       "      <td>2.012862e+12</td>\n",
       "      <td>Airline tickets</td>\n",
       "      <td>Cia Aérea - TAM</td>\n",
       "      <td>129</td>\n",
       "      <td>2017</td>\n",
       "    </tr>\n",
       "    <tr>\n",
       "      <th>251880</th>\n",
       "      <td>2050725</td>\n",
       "      <td>0</td>\n",
       "      <td>2017-08-10 00:00:00</td>\n",
       "      <td>2930</td>\n",
       "      <td>PR</td>\n",
       "      <td>RN</td>\n",
       "      <td>Zenaide Maia</td>\n",
       "      <td>2.012862e+12</td>\n",
       "      <td>Airline tickets</td>\n",
       "      <td>Cia Aérea - TAM</td>\n",
       "      <td>24</td>\n",
       "      <td>2017</td>\n",
       "    </tr>\n",
       "    <tr>\n",
       "      <th>251881</th>\n",
       "      <td>2050726</td>\n",
       "      <td>0</td>\n",
       "      <td>2017-08-28 00:00:00</td>\n",
       "      <td>2930</td>\n",
       "      <td>PR</td>\n",
       "      <td>RN</td>\n",
       "      <td>Zenaide Maia</td>\n",
       "      <td>2.012862e+12</td>\n",
       "      <td>Airline tickets</td>\n",
       "      <td>Cia Aérea - TAM</td>\n",
       "      <td>298</td>\n",
       "      <td>2017</td>\n",
       "    </tr>\n",
       "  </tbody>\n",
       "</table>\n",
       "<p>3014902 rows × 12 columns</p>\n",
       "</div>"
      ],
      "text/plain": [
       "        Unnamed: 0  bugged_date         receipt_date  deputy_id  \\\n",
       "0          2753519            0  2009-05-19 00:00:00       1772   \n",
       "1          2753520            0  2009-05-19 00:00:00       1772   \n",
       "2          2753521            0  2009-05-19 00:00:00       1772   \n",
       "3          2753522            0  2009-05-19 00:00:00       1772   \n",
       "4          2753523            0  2009-09-25 00:00:00       1772   \n",
       "...            ...          ...                  ...        ...   \n",
       "251877     2050722            0  2017-06-29 00:00:00       2930   \n",
       "251878     2050723            0  2017-07-06 00:00:00       2930   \n",
       "251879     2050724            0  2017-07-06 00:00:00       2930   \n",
       "251880     2050725            0  2017-08-10 00:00:00       2930   \n",
       "251881     2050726            0  2017-08-28 00:00:00       2930   \n",
       "\n",
       "       political_party state_code         deputy_name  \\\n",
       "0                  PSB         SP  Abelardo Camarinha   \n",
       "1                  PSB         SP  Abelardo Camarinha   \n",
       "2                  PSB         SP  Abelardo Camarinha   \n",
       "3                  PSB         SP  Abelardo Camarinha   \n",
       "4                  PSB         SP  Abelardo Camarinha   \n",
       "...                ...        ...                 ...   \n",
       "251877              PR         RN        Zenaide Maia   \n",
       "251878              PR         RN        Zenaide Maia   \n",
       "251879              PR         RN        Zenaide Maia   \n",
       "251880              PR         RN        Zenaide Maia   \n",
       "251881              PR         RN        Zenaide Maia   \n",
       "\n",
       "        receipt_social_security_number    receipt_description  \\\n",
       "0                         4.206050e+12  Maintenance of Office   \n",
       "1                         4.206050e+12  Maintenance of Office   \n",
       "2                         4.206050e+12  Maintenance of Office   \n",
       "3                         4.206050e+12  Maintenance of Office   \n",
       "4                         2.418000e+12  Fuels and lubricants.   \n",
       "...                                ...                    ...   \n",
       "251877                    2.012862e+12        Airline tickets   \n",
       "251878                    2.012862e+12        Airline tickets   \n",
       "251879                    2.012862e+12        Airline tickets   \n",
       "251880                    2.012862e+12        Airline tickets   \n",
       "251881                    2.012862e+12        Airline tickets   \n",
       "\n",
       "         establishment_name  receipt_value  year  \n",
       "0           TIM CELULAR S/A            411  2009  \n",
       "1           TIM CELULAR S/A            429  2009  \n",
       "2           TIM CELULAR S/A            109  2009  \n",
       "3           TIM CELULAR S/A             68  2009  \n",
       "4       AUTO POSTO ALVORADA           4395  2009  \n",
       "...                     ...            ...   ...  \n",
       "251877      Cia Aérea - TAM             84  2017  \n",
       "251878      Cia Aérea - TAM             72  2017  \n",
       "251879      Cia Aérea - TAM            129  2017  \n",
       "251880      Cia Aérea - TAM             24  2017  \n",
       "251881      Cia Aérea - TAM            298  2017  \n",
       "\n",
       "[3014902 rows x 12 columns]"
      ]
     },
     "execution_count": 38,
     "metadata": {},
     "output_type": "execute_result"
    }
   ],
   "source": [
    "import pandas as pd\n",
    "import matplotlib.pyplot as plt\n",
    "from IPython.display import clear_output\n",
    "\n",
    "dfs = []\n",
    "for csv in ['data/2009.csv', 'data/2010.csv', 'data/2011.csv','data/2012.csv','data/2013.csv','data/2014.csv','data/2015.csv','data/2016.csv','data/2017.csv']:\n",
    "    df = pd.read_csv(csv)\n",
    "    dfs.append(df)\n",
    "df = pd.concat(dfs) \n",
    "\n",
    "df"
   ]
  },
  {
   "cell_type": "markdown",
   "id": "thirty-chamber",
   "metadata": {},
   "source": [
    "### Cálculo das medidas de centralidade e dispersão dos valores disponíveis no dataset"
   ]
  },
  {
   "cell_type": "markdown",
   "id": "alike-proportion",
   "metadata": {},
   "source": [
    "O calculo será apenas feito na coluna **receipt_value**. Pois é uma columa da qual podemos obter informações sobre os valores gastos pelos deputados."
   ]
  },
  {
   "cell_type": "code",
   "execution_count": 30,
   "id": "received-drama",
   "metadata": {},
   "outputs": [
    {
     "name": "stdout",
     "output_type": "stream",
     "text": [
      "Média  = 579.15747   Mediana = 142.00000   Desvio Padrão = 1925.41824\n"
     ]
    }
   ],
   "source": [
    "media_receipt_value = df['receipt_value'].mean()\n",
    "mediana_receipt_value = df['receipt_value'].median()\n",
    "dp_receipt_value = df['receipt_value'].std()\n",
    "print('Média  = %.5f   Mediana = %.5f   Desvio Padrão = %.5f' %(media_receipt_value, mediana_receipt_value, dp_receipt_value))"
   ]
  },
  {
   "cell_type": "markdown",
   "id": "assured-stereo",
   "metadata": {},
   "source": [
    "### Boxplots para os dados disponíveis nos datasets"
   ]
  },
  {
   "cell_type": "code",
   "execution_count": 44,
   "id": "finished-progressive",
   "metadata": {},
   "outputs": [
    {
     "data": {
      "image/png": "[encoded data removed]",
      "text/plain": [
       "<Figure size 432x288 with 1 Axes>"
      ]
     },
     "metadata": {
      "needs_background": "light"
     },
     "output_type": "display_data"
    },
    {
     "data": {
      "image/png": "[encoded data removed]",
      "text/plain": [
       "<Figure size 432x288 with 1 Axes>"
      ]
     },
     "metadata": {
      "needs_background": "light"
     },
     "output_type": "display_data"
    },
    {
     "data": {
      "image/png": "[encoded data removed]",
      "text/plain": [
       "<Figure size 432x288 with 1 Axes>"
      ]
     },
     "metadata": {
      "needs_background": "light"
     },
     "output_type": "display_data"
    },
    {
     "data": {
      "image/png": "[encoded data removed]",
      "text/plain": [
       "<Figure size 432x288 with 1 Axes>"
      ]
     },
     "metadata": {
      "needs_background": "light"
     },
     "output_type": "display_data"
    }
   ],
   "source": [
    "labels = ['bugged_date','deputy_id','receipt_social_security_number','receipt_value']\n",
    "\n",
    "\n",
    "for label in labels:\n",
    "    df.boxplot(column=label)\n",
    "    plt.show()"
   ]
  }
 ],
 "metadata": {
  "kernelspec": {
   "display_name": "Python 3",
   "language": "python",
   "name": "python3"
  },
  "language_info": {
   "codemirror_mode": {
    "name": "ipython",
    "version": 3
   },
   "file_extension": ".py",
   "mimetype": "text/x-python",
   "name": "python",
   "nbconvert_exporter": "python",
   "pygments_lexer": "ipython3",
   "version": "3.7.4"
  }
 },
 "nbformat": 4,
 "nbformat_minor": 5
}
