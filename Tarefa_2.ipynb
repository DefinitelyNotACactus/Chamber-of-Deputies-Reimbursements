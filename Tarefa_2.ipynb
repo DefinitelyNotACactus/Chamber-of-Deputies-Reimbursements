{
 "cells": [
  {
   "cell_type": "markdown",
   "id": "cheap-lebanon",
   "metadata": {},
   "source": [
    "# Tarefa 2 - Exploração Inicial"
   ]
  },
  {
   "cell_type": "markdown",
   "id": "alpha-mattress",
   "metadata": {},
   "source": [
    "## Importando Dados"
   ]
  },
  {
   "cell_type": "code",
   "execution_count": 1,
   "id": "advised-breed",
   "metadata": {
    "scrolled": false
   },
   "outputs": [
    {
     "data": {
      "text/html": [
       "<div>\n",
       "<style scoped>\n",
       "    .dataframe tbody tr th:only-of-type {\n",
       "        vertical-align: middle;\n",
       "    }\n",
       "\n",
       "    .dataframe tbody tr th {\n",
       "        vertical-align: top;\n",
       "    }\n",
       "\n",
       "    .dataframe thead th {\n",
       "        text-align: right;\n",
       "    }\n",
       "</style>\n",
       "<table border=\"1\" class=\"dataframe\">\n",
       "  <thead>\n",
       "    <tr style=\"text-align: right;\">\n",
       "      <th></th>\n",
       "      <th>Unnamed: 0</th>\n",
       "      <th>bugged_date</th>\n",
       "      <th>receipt_date</th>\n",
       "      <th>deputy_id</th>\n",
       "      <th>political_party</th>\n",
       "      <th>state_code</th>\n",
       "      <th>deputy_name</th>\n",
       "      <th>receipt_social_security_number</th>\n",
       "      <th>receipt_description</th>\n",
       "      <th>establishment_name</th>\n",
       "      <th>receipt_value</th>\n",
       "      <th>year</th>\n",
       "    </tr>\n",
       "  </thead>\n",
       "  <tbody>\n",
       "    <tr>\n",
       "      <th>0</th>\n",
       "      <td>2753519</td>\n",
       "      <td>0</td>\n",
       "      <td>2009-05-19 00:00:00</td>\n",
       "      <td>1772</td>\n",
       "      <td>PSB</td>\n",
       "      <td>SP</td>\n",
       "      <td>Abelardo Camarinha</td>\n",
       "      <td>4.206050e+12</td>\n",
       "      <td>Maintenance of Office</td>\n",
       "      <td>TIM CELULAR S/A</td>\n",
       "      <td>411</td>\n",
       "      <td>2009</td>\n",
       "    </tr>\n",
       "    <tr>\n",
       "      <th>1</th>\n",
       "      <td>2753520</td>\n",
       "      <td>0</td>\n",
       "      <td>2009-05-19 00:00:00</td>\n",
       "      <td>1772</td>\n",
       "      <td>PSB</td>\n",
       "      <td>SP</td>\n",
       "      <td>Abelardo Camarinha</td>\n",
       "      <td>4.206050e+12</td>\n",
       "      <td>Maintenance of Office</td>\n",
       "      <td>TIM CELULAR S/A</td>\n",
       "      <td>429</td>\n",
       "      <td>2009</td>\n",
       "    </tr>\n",
       "    <tr>\n",
       "      <th>2</th>\n",
       "      <td>2753521</td>\n",
       "      <td>0</td>\n",
       "      <td>2009-05-19 00:00:00</td>\n",
       "      <td>1772</td>\n",
       "      <td>PSB</td>\n",
       "      <td>SP</td>\n",
       "      <td>Abelardo Camarinha</td>\n",
       "      <td>4.206050e+12</td>\n",
       "      <td>Maintenance of Office</td>\n",
       "      <td>TIM CELULAR S/A</td>\n",
       "      <td>109</td>\n",
       "      <td>2009</td>\n",
       "    </tr>\n",
       "    <tr>\n",
       "      <th>3</th>\n",
       "      <td>2753522</td>\n",
       "      <td>0</td>\n",
       "      <td>2009-05-19 00:00:00</td>\n",
       "      <td>1772</td>\n",
       "      <td>PSB</td>\n",
       "      <td>SP</td>\n",
       "      <td>Abelardo Camarinha</td>\n",
       "      <td>4.206050e+12</td>\n",
       "      <td>Maintenance of Office</td>\n",
       "      <td>TIM CELULAR S/A</td>\n",
       "      <td>68</td>\n",
       "      <td>2009</td>\n",
       "    </tr>\n",
       "    <tr>\n",
       "      <th>4</th>\n",
       "      <td>2753523</td>\n",
       "      <td>0</td>\n",
       "      <td>2009-09-25 00:00:00</td>\n",
       "      <td>1772</td>\n",
       "      <td>PSB</td>\n",
       "      <td>SP</td>\n",
       "      <td>Abelardo Camarinha</td>\n",
       "      <td>2.418000e+12</td>\n",
       "      <td>Fuels and lubricants.</td>\n",
       "      <td>AUTO POSTO ALVORADA</td>\n",
       "      <td>4395</td>\n",
       "      <td>2009</td>\n",
       "    </tr>\n",
       "    <tr>\n",
       "      <th>...</th>\n",
       "      <td>...</td>\n",
       "      <td>...</td>\n",
       "      <td>...</td>\n",
       "      <td>...</td>\n",
       "      <td>...</td>\n",
       "      <td>...</td>\n",
       "      <td>...</td>\n",
       "      <td>...</td>\n",
       "      <td>...</td>\n",
       "      <td>...</td>\n",
       "      <td>...</td>\n",
       "      <td>...</td>\n",
       "    </tr>\n",
       "    <tr>\n",
       "      <th>251877</th>\n",
       "      <td>2050722</td>\n",
       "      <td>0</td>\n",
       "      <td>2017-06-29 00:00:00</td>\n",
       "      <td>2930</td>\n",
       "      <td>PR</td>\n",
       "      <td>RN</td>\n",
       "      <td>Zenaide Maia</td>\n",
       "      <td>2.012862e+12</td>\n",
       "      <td>Airline tickets</td>\n",
       "      <td>Cia Aérea - TAM</td>\n",
       "      <td>84</td>\n",
       "      <td>2017</td>\n",
       "    </tr>\n",
       "    <tr>\n",
       "      <th>251878</th>\n",
       "      <td>2050723</td>\n",
       "      <td>0</td>\n",
       "      <td>2017-07-06 00:00:00</td>\n",
       "      <td>2930</td>\n",
       "      <td>PR</td>\n",
       "      <td>RN</td>\n",
       "      <td>Zenaide Maia</td>\n",
       "      <td>2.012862e+12</td>\n",
       "      <td>Airline tickets</td>\n",
       "      <td>Cia Aérea - TAM</td>\n",
       "      <td>72</td>\n",
       "      <td>2017</td>\n",
       "    </tr>\n",
       "    <tr>\n",
       "      <th>251879</th>\n",
       "      <td>2050724</td>\n",
       "      <td>0</td>\n",
       "      <td>2017-07-06 00:00:00</td>\n",
       "      <td>2930</td>\n",
       "      <td>PR</td>\n",
       "      <td>RN</td>\n",
       "      <td>Zenaide Maia</td>\n",
       "      <td>2.012862e+12</td>\n",
       "      <td>Airline tickets</td>\n",
       "      <td>Cia Aérea - TAM</td>\n",
       "      <td>129</td>\n",
       "      <td>2017</td>\n",
       "    </tr>\n",
       "    <tr>\n",
       "      <th>251880</th>\n",
       "      <td>2050725</td>\n",
       "      <td>0</td>\n",
       "      <td>2017-08-10 00:00:00</td>\n",
       "      <td>2930</td>\n",
       "      <td>PR</td>\n",
       "      <td>RN</td>\n",
       "      <td>Zenaide Maia</td>\n",
       "      <td>2.012862e+12</td>\n",
       "      <td>Airline tickets</td>\n",
       "      <td>Cia Aérea - TAM</td>\n",
       "      <td>24</td>\n",
       "      <td>2017</td>\n",
       "    </tr>\n",
       "    <tr>\n",
       "      <th>251881</th>\n",
       "      <td>2050726</td>\n",
       "      <td>0</td>\n",
       "      <td>2017-08-28 00:00:00</td>\n",
       "      <td>2930</td>\n",
       "      <td>PR</td>\n",
       "      <td>RN</td>\n",
       "      <td>Zenaide Maia</td>\n",
       "      <td>2.012862e+12</td>\n",
       "      <td>Airline tickets</td>\n",
       "      <td>Cia Aérea - TAM</td>\n",
       "      <td>298</td>\n",
       "      <td>2017</td>\n",
       "    </tr>\n",
       "  </tbody>\n",
       "</table>\n",
       "<p>3014902 rows × 12 columns</p>\n",
       "</div>"
      ],
      "text/plain": [
       "        Unnamed: 0  bugged_date         receipt_date  deputy_id  \\\n",
       "0          2753519            0  2009-05-19 00:00:00       1772   \n",
       "1          2753520            0  2009-05-19 00:00:00       1772   \n",
       "2          2753521            0  2009-05-19 00:00:00       1772   \n",
       "3          2753522            0  2009-05-19 00:00:00       1772   \n",
       "4          2753523            0  2009-09-25 00:00:00       1772   \n",
       "...            ...          ...                  ...        ...   \n",
       "251877     2050722            0  2017-06-29 00:00:00       2930   \n",
       "251878     2050723            0  2017-07-06 00:00:00       2930   \n",
       "251879     2050724            0  2017-07-06 00:00:00       2930   \n",
       "251880     2050725            0  2017-08-10 00:00:00       2930   \n",
       "251881     2050726            0  2017-08-28 00:00:00       2930   \n",
       "\n",
       "       political_party state_code         deputy_name  \\\n",
       "0                  PSB         SP  Abelardo Camarinha   \n",
       "1                  PSB         SP  Abelardo Camarinha   \n",
       "2                  PSB         SP  Abelardo Camarinha   \n",
       "3                  PSB         SP  Abelardo Camarinha   \n",
       "4                  PSB         SP  Abelardo Camarinha   \n",
       "...                ...        ...                 ...   \n",
       "251877              PR         RN        Zenaide Maia   \n",
       "251878              PR         RN        Zenaide Maia   \n",
       "251879              PR         RN        Zenaide Maia   \n",
       "251880              PR         RN        Zenaide Maia   \n",
       "251881              PR         RN        Zenaide Maia   \n",
       "\n",
       "        receipt_social_security_number    receipt_description  \\\n",
       "0                         4.206050e+12  Maintenance of Office   \n",
       "1                         4.206050e+12  Maintenance of Office   \n",
       "2                         4.206050e+12  Maintenance of Office   \n",
       "3                         4.206050e+12  Maintenance of Office   \n",
       "4                         2.418000e+12  Fuels and lubricants.   \n",
       "...                                ...                    ...   \n",
       "251877                    2.012862e+12        Airline tickets   \n",
       "251878                    2.012862e+12        Airline tickets   \n",
       "251879                    2.012862e+12        Airline tickets   \n",
       "251880                    2.012862e+12        Airline tickets   \n",
       "251881                    2.012862e+12        Airline tickets   \n",
       "\n",
       "         establishment_name  receipt_value  year  \n",
       "0           TIM CELULAR S/A            411  2009  \n",
       "1           TIM CELULAR S/A            429  2009  \n",
       "2           TIM CELULAR S/A            109  2009  \n",
       "3           TIM CELULAR S/A             68  2009  \n",
       "4       AUTO POSTO ALVORADA           4395  2009  \n",
       "...                     ...            ...   ...  \n",
       "251877      Cia Aérea - TAM             84  2017  \n",
       "251878      Cia Aérea - TAM             72  2017  \n",
       "251879      Cia Aérea - TAM            129  2017  \n",
       "251880      Cia Aérea - TAM             24  2017  \n",
       "251881      Cia Aérea - TAM            298  2017  \n",
       "\n",
       "[3014902 rows x 12 columns]"
      ]
     },
     "execution_count": 1,
     "metadata": {},
     "output_type": "execute_result"
    }
   ],
   "source": [
    "import pandas as pd\n",
    "import matplotlib.pyplot as plt\n",
    "from IPython.display import clear_output\n",
    "from concat_df import concat_df\n",
    "\n",
    "df = concat_df()\n",
    "\n",
    "df"
   ]
  },
  {
   "cell_type": "code",
   "execution_count": 2,
   "id": "early-blocking",
   "metadata": {},
   "outputs": [
    {
     "name": "stdout",
     "output_type": "stream",
     "text": [
      "<class 'pandas.core.frame.DataFrame'>\n",
      "Int64Index: 3014902 entries, 0 to 251881\n",
      "Data columns (total 12 columns):\n",
      " #   Column                          Dtype  \n",
      "---  ------                          -----  \n",
      " 0   Unnamed: 0                      int64  \n",
      " 1   bugged_date                     int64  \n",
      " 2   receipt_date                    object \n",
      " 3   deputy_id                       int64  \n",
      " 4   political_party                 object \n",
      " 5   state_code                      object \n",
      " 6   deputy_name                     object \n",
      " 7   receipt_social_security_number  float64\n",
      " 8   receipt_description             object \n",
      " 9   establishment_name              object \n",
      " 10  receipt_value                   int64  \n",
      " 11  year                            int64  \n",
      "dtypes: float64(1), int64(5), object(6)\n",
      "memory usage: 299.0+ MB\n"
     ]
    }
   ],
   "source": [
    "df.info()"
   ]
  },
  {
   "cell_type": "markdown",
   "id": "transsexual-discipline",
   "metadata": {},
   "source": [
    "Das colunas que possuímos, as seguintes contém dados numéricos:\n",
    "\n",
    "- Unnamed: 0 (Que na realidade aparenta ser uma de índice)\n",
    "- bugged_date (Contém somente valores booleanos, 0 ou 1)\n",
    "- deputy_id (Identificador do deputado(a))\n",
    "- receipt_social_security_number (Aparenta ser o CPF ou CNPJ de quem emitiu o recibo)\n",
    "- receipt_value (Valor do recibo)\n",
    "- year (Ano)"
   ]
  },
  {
   "cell_type": "markdown",
   "id": "thirty-chamber",
   "metadata": {},
   "source": [
    "### Cálculo das medidas de centralidade e dispersão dos valores disponíveis no dataset\n",
    "O calculo destas medidas será feito nas colunas numéricas."
   ]
  },
  {
   "cell_type": "code",
   "execution_count": 3,
   "id": "radical-livestock",
   "metadata": {},
   "outputs": [
    {
     "name": "stdout",
     "output_type": "stream",
     "text": [
      "(Coluna Unnamed: 0)\n",
      "Média = 1507450.500 Mediana = 1507450.500 Desvio padrão = 870327.385\n",
      "\n",
      "(Coluna bugged_date)\n",
      "Média = 0.016 Mediana = 0.000 Desvio padrão = 0.127\n",
      "\n",
      "(Coluna deputy_id)\n",
      "Média = 1869.101 Mediana = 1882.000 Desvio padrão = 701.475\n",
      "\n",
      "(Coluna receipt_social_security_number)\n",
      "Média = 13726644826123.602 Mediana = 7423935000120.000 Desvio padrão = 20572449800984.996\n",
      "\n",
      "(Coluna receipt_value)\n",
      "Média = 579.157 Mediana = 142.000 Desvio padrão = 1925.418\n",
      "\n",
      "(Coluna year)\n",
      "Média = 2012.989 Mediana = 2013.000 Desvio padrão = 2.460\n",
      "\n"
     ]
    }
   ],
   "source": [
    "num_columns = ['Unnamed: 0', 'bugged_date', 'deputy_id', 'receipt_social_security_number', 'receipt_value', 'year']\n",
    "\n",
    "for column in num_columns:\n",
    "    print('(Coluna %s)\\nMédia = %.3f Mediana = %.3f Desvio padrão = %.3f\\n' % (column, df[column].mean(), df[column].median(), df[column].std()))"
   ]
  },
  {
   "cell_type": "markdown",
   "id": "handled-measure",
   "metadata": {},
   "source": [
    "Como visto anteriormente, a coluna **Unnamed: 0** e **deputy_id** são identificadores e por isso as medidas calculadas não servem para tirar conclusões sobre os dados. A coluna **receipt_social_security_number** contém valores grandes e representam CPF ou CNPJ, e também a utilização dessas medidas não permite tirar conclusões. \n",
    "\n",
    "Pela coluna **receipt_value**, temos que a média é R\\\\$ 579,16 e a mediana R\\\\$ 142,00, enquanto que, o desvio padrão é de R\\\\$ 1925,42, tais métricas levam a entender que existem muitas notas de baixo valor o que acaba levar a mediana a ter valores bem inferiores a média, enquanto que, há quantidade considerável de notas com valores relativamente grandes, o que acaba a levar a média para valores muito maiores que a mediana, como resultado os valores devem estar consideravelmente dispersos, uma vez que o desvio padrão está bastante alto.\n",
    "\n",
    "Pela coluna **year**, temos uma mediana naquilo que se espera para o caso de uma distribuição uniforme, o que seria 2013, uma vez que os dados estão entre 2009 e 2017, contudo, pela média, percebe-se que há mais dados antes que 2013 do que depois, porém sem grandes desequilíbrios, uma vez que média é levemente menor que a mediana, o desvio padrão indica uma certa dispersão dos valores deste ano, mas deve ser pela distribuição dos dados ser próxima de algo uniforme.\n",
    "\n",
    "Por fim, a coluna **bugged_date** contém apenas valores em 0 e 1, a média e a mediana nos diz que tem mais valores 0 do que 1, uma vez que os valores estão próximos de 0 (sendo 0 para a mediana), já o desvio padrão indica uma dispersão dos dados maior que a média, mas vale salientar que como os dados para essa coluna são 0 **ou** 1 tal métrica pode enganar."
   ]
  },
  {
   "cell_type": "markdown",
   "id": "assured-stereo",
   "metadata": {},
   "source": [
    "### Boxplots para os dados disponíveis nos datasets"
   ]
  },
  {
   "cell_type": "code",
   "execution_count": 4,
   "id": "finished-progressive",
   "metadata": {},
   "outputs": [
    {
     "data": {
      "image/png": "[encoded data removed]",
      "text/plain": [
       "<Figure size 432x288 with 1 Axes>"
      ]
     },
     "metadata": {
      "needs_background": "light"
     },
     "output_type": "display_data"
    },
    {
     "data": {
      "image/png": "[encoded data removed]",
      "text/plain": [
       "<Figure size 432x288 with 1 Axes>"
      ]
     },
     "metadata": {
      "needs_background": "light"
     },
     "output_type": "display_data"
    },
    {
     "data": {
      "image/png": "[encoded data removed]",
      "text/plain": [
       "<Figure size 432x288 with 1 Axes>"
      ]
     },
     "metadata": {
      "needs_background": "light"
     },
     "output_type": "display_data"
    },
    {
     "data": {
      "image/png": "[encoded data removed]",
      "text/plain": [
       "<Figure size 432x288 with 1 Axes>"
      ]
     },
     "metadata": {
      "needs_background": "light"
     },
     "output_type": "display_data"
    },
    {
     "data": {
      "image/png": "[encoded data removed]",
      "text/plain": [
       "<Figure size 432x288 with 1 Axes>"
      ]
     },
     "metadata": {
      "needs_background": "light"
     },
     "output_type": "display_data"
    },
    {
     "data": {
      "image/png": "[encoded data removed]",
      "text/plain": [
       "<Figure size 432x288 with 1 Axes>"
      ]
     },
     "metadata": {
      "needs_background": "light"
     },
     "output_type": "display_data"
    }
   ],
   "source": [
    "for column in num_columns:\n",
    "    df.boxplot(column=column)\n",
    "    plt.show()"
   ]
  },
  {
   "cell_type": "markdown",
   "id": "incident-vegetarian",
   "metadata": {},
   "source": [
    "Os boxplots acima confirmam, em certo nível, hipóteses levantadas anteriormente para a coluna **receipt_value**, **year** e **bugged_date**. No caso de **bugged_date** todos os valores iguais a 1 são identificados como outliers pelo boxplot."
   ]
  }
 ],
 "metadata": {
  "kernelspec": {
   "display_name": "Python 3",
   "language": "python",
   "name": "python3"
  },
  "language_info": {
   "codemirror_mode": {
    "name": "ipython",
    "version": 3
   },
   "file_extension": ".py",
   "mimetype": "text/x-python",
   "name": "python",
   "nbconvert_exporter": "python",
   "pygments_lexer": "ipython3",
   "version": "3.8.2"
  }
 },
 "nbformat": 4,
 "nbformat_minor": 5
}
