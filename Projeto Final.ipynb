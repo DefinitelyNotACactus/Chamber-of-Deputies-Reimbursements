{
 "cells": [
  {
   "cell_type": "markdown",
   "id": "integrated-singing",
   "metadata": {},
   "source": [
    "# Relatório Final - Reembolsos da Câmara dos Deputados"
   ]
  },
  {
   "cell_type": "markdown",
   "id": "demonstrated-prevention",
   "metadata": {},
   "source": [
    "## Introdução"
   ]
  },
  {
   "cell_type": "markdown",
   "id": "congressional-morgan",
   "metadata": {},
   "source": [
    "A motivação em desenvolver esse trabalho advém do fato de querer investigar os gastos públicos dos deputados federais brasileiros. Cada político tem o direito a ter reembolso quando gastam seu dinheiro em atividade que permitam \"servir melhor o povo\". Então é importante que esses gastos sejam monitorados, para saber como cada deputados está utilizando recursos para pedir reembolso com verbas públicas.\n",
    "\n",
    "Com as diversas notícias e acusações de corrupção dos políticos é de se imaginar que quando envolve dinheiro é provável que se vá encontrar dados suspeitos. \n",
    "\n",
    "Sendo assim, com os conhecimentos adquiridos durante o curso, com a utlização da linguagem Python  e com a ajuda das suas bibliotecas, o objetivo do trabalho é analisar os gastos do deputados."
   ]
  },
  {
   "cell_type": "markdown",
   "id": "killing-principal",
   "metadata": {},
   "source": [
    "## Dados Utilizados \n",
    "\n",
    "Foi utilizada a base de dados a base [Brazil's House of Deputies Reimbursements](https://www.kaggle.com/epattaro/brazils-house-of-deputies-reimbursements), disponibilizada pelo usuário epattaro do site Kaggle usando dados obtidos do portal da transparência da Câmara dos Deputados. Esta base contém informações sobre os gastos dos deputados entre os anos de 2009 e 2017."
   ]
  },
  {
   "cell_type": "code",
   "execution_count": 2,
   "id": "phantom-thriller",
   "metadata": {},
   "outputs": [
    {
     "data": {
      "text/html": [
       "<div>\n",
       "<style scoped>\n",
       "    .dataframe tbody tr th:only-of-type {\n",
       "        vertical-align: middle;\n",
       "    }\n",
       "\n",
       "    .dataframe tbody tr th {\n",
       "        vertical-align: top;\n",
       "    }\n",
       "\n",
       "    .dataframe thead th {\n",
       "        text-align: right;\n",
       "    }\n",
       "</style>\n",
       "<table border=\"1\" class=\"dataframe\">\n",
       "  <thead>\n",
       "    <tr style=\"text-align: right;\">\n",
       "      <th></th>\n",
       "      <th>Unnamed: 0</th>\n",
       "      <th>bugged_date</th>\n",
       "      <th>receipt_date</th>\n",
       "      <th>deputy_id</th>\n",
       "      <th>political_party</th>\n",
       "      <th>state_code</th>\n",
       "      <th>deputy_name</th>\n",
       "      <th>receipt_social_security_number</th>\n",
       "      <th>receipt_description</th>\n",
       "      <th>establishment_name</th>\n",
       "      <th>receipt_value</th>\n",
       "      <th>year</th>\n",
       "      <th>month</th>\n",
       "      <th>day_of_week</th>\n",
       "    </tr>\n",
       "  </thead>\n",
       "  <tbody>\n",
       "    <tr>\n",
       "      <th>0</th>\n",
       "      <td>0</td>\n",
       "      <td>0</td>\n",
       "      <td>2009-05-19 00:00:00</td>\n",
       "      <td>1772</td>\n",
       "      <td>PSB</td>\n",
       "      <td>SP</td>\n",
       "      <td>Abelardo Camarinha</td>\n",
       "      <td>4.206050e+12</td>\n",
       "      <td>Maintenance of Office</td>\n",
       "      <td>TIM CELULAR S/A</td>\n",
       "      <td>411</td>\n",
       "      <td>2009</td>\n",
       "      <td>5</td>\n",
       "      <td>1</td>\n",
       "    </tr>\n",
       "    <tr>\n",
       "      <th>1</th>\n",
       "      <td>1</td>\n",
       "      <td>0</td>\n",
       "      <td>2009-05-19 00:00:00</td>\n",
       "      <td>1772</td>\n",
       "      <td>PSB</td>\n",
       "      <td>SP</td>\n",
       "      <td>Abelardo Camarinha</td>\n",
       "      <td>4.206050e+12</td>\n",
       "      <td>Maintenance of Office</td>\n",
       "      <td>TIM CELULAR S/A</td>\n",
       "      <td>429</td>\n",
       "      <td>2009</td>\n",
       "      <td>5</td>\n",
       "      <td>1</td>\n",
       "    </tr>\n",
       "    <tr>\n",
       "      <th>2</th>\n",
       "      <td>2</td>\n",
       "      <td>0</td>\n",
       "      <td>2009-05-19 00:00:00</td>\n",
       "      <td>1772</td>\n",
       "      <td>PSB</td>\n",
       "      <td>SP</td>\n",
       "      <td>Abelardo Camarinha</td>\n",
       "      <td>4.206050e+12</td>\n",
       "      <td>Maintenance of Office</td>\n",
       "      <td>TIM CELULAR S/A</td>\n",
       "      <td>109</td>\n",
       "      <td>2009</td>\n",
       "      <td>5</td>\n",
       "      <td>1</td>\n",
       "    </tr>\n",
       "    <tr>\n",
       "      <th>3</th>\n",
       "      <td>3</td>\n",
       "      <td>0</td>\n",
       "      <td>2009-05-19 00:00:00</td>\n",
       "      <td>1772</td>\n",
       "      <td>PSB</td>\n",
       "      <td>SP</td>\n",
       "      <td>Abelardo Camarinha</td>\n",
       "      <td>4.206050e+12</td>\n",
       "      <td>Maintenance of Office</td>\n",
       "      <td>TIM CELULAR S/A</td>\n",
       "      <td>68</td>\n",
       "      <td>2009</td>\n",
       "      <td>5</td>\n",
       "      <td>1</td>\n",
       "    </tr>\n",
       "    <tr>\n",
       "      <th>4</th>\n",
       "      <td>4</td>\n",
       "      <td>0</td>\n",
       "      <td>2009-09-25 00:00:00</td>\n",
       "      <td>1772</td>\n",
       "      <td>PSB</td>\n",
       "      <td>SP</td>\n",
       "      <td>Abelardo Camarinha</td>\n",
       "      <td>2.418000e+12</td>\n",
       "      <td>Fuels and lubricants.</td>\n",
       "      <td>AUTO POSTO ALVORADA</td>\n",
       "      <td>4395</td>\n",
       "      <td>2009</td>\n",
       "      <td>9</td>\n",
       "      <td>4</td>\n",
       "    </tr>\n",
       "  </tbody>\n",
       "</table>\n",
       "</div>"
      ],
      "text/plain": [
       "   Unnamed: 0  bugged_date         receipt_date  deputy_id political_party  \\\n",
       "0           0            0  2009-05-19 00:00:00       1772             PSB   \n",
       "1           1            0  2009-05-19 00:00:00       1772             PSB   \n",
       "2           2            0  2009-05-19 00:00:00       1772             PSB   \n",
       "3           3            0  2009-05-19 00:00:00       1772             PSB   \n",
       "4           4            0  2009-09-25 00:00:00       1772             PSB   \n",
       "\n",
       "  state_code         deputy_name  receipt_social_security_number  \\\n",
       "0         SP  Abelardo Camarinha                    4.206050e+12   \n",
       "1         SP  Abelardo Camarinha                    4.206050e+12   \n",
       "2         SP  Abelardo Camarinha                    4.206050e+12   \n",
       "3         SP  Abelardo Camarinha                    4.206050e+12   \n",
       "4         SP  Abelardo Camarinha                    2.418000e+12   \n",
       "\n",
       "     receipt_description   establishment_name  receipt_value  year  month  \\\n",
       "0  Maintenance of Office      TIM CELULAR S/A            411  2009      5   \n",
       "1  Maintenance of Office      TIM CELULAR S/A            429  2009      5   \n",
       "2  Maintenance of Office      TIM CELULAR S/A            109  2009      5   \n",
       "3  Maintenance of Office      TIM CELULAR S/A             68  2009      5   \n",
       "4  Fuels and lubricants.  AUTO POSTO ALVORADA           4395  2009      9   \n",
       "\n",
       "   day_of_week  \n",
       "0            1  \n",
       "1            1  \n",
       "2            1  \n",
       "3            1  \n",
       "4            4  "
      ]
     },
     "execution_count": 2,
     "metadata": {},
     "output_type": "execute_result"
    }
   ],
   "source": [
    "import pandas as pd\n",
    "from IPython.display import clear_output\n",
    "from concat_df import concat_df\n",
    "# Carregar os dados\n",
    "df = concat_df(processed=True)\n",
    "df.head()"
   ]
  },
  {
   "cell_type": "markdown",
   "id": "middle-october",
   "metadata": {},
   "source": [
    "## Pré-Processamento\n",
    "\n",
    "Realizamos o processo de limpeza e transformação dos dados acima, sendo o processo descrito a seguir.\n",
    "\n",
    "### Transformação de Dados\n",
    "\n",
    "#### receipt_social_security_number"
   ]
  },
  {
   "cell_type": "code",
   "execution_count": null,
   "id": "fluid-variation",
   "metadata": {},
   "outputs": [],
   "source": [
    "# ADICIONAR CÓDIGO AQUI"
   ]
  },
  {
   "cell_type": "markdown",
   "id": "endless-permission",
   "metadata": {},
   "source": [
    "### Limpeza de Dados"
   ]
  },
  {
   "cell_type": "code",
   "execution_count": null,
   "id": "ranking-chorus",
   "metadata": {},
   "outputs": [],
   "source": [
    "# ADICIONAR CÓDIGO AQUI"
   ]
  },
  {
   "cell_type": "markdown",
   "id": "statewide-letter",
   "metadata": {},
   "source": [
    "## Perguntas\n",
    "\n",
    "Foram elaboradas no total sete perguntas para serem respondidas com o conjunto de dados apresentado anteriormente, sendo estas perguntas apresentadas a seguir.\n",
    "\n",
    "### 1. Qual seria a média dos valores dos recibos para 2021? "
   ]
  },
  {
   "cell_type": "code",
   "execution_count": 18,
   "id": "heavy-dimension",
   "metadata": {},
   "outputs": [
    {
     "data": {
      "text/plain": [
       "<AxesSubplot:xlabel='year', ylabel='receipt_value'>"
      ]
     },
     "execution_count": 18,
     "metadata": {},
     "output_type": "execute_result"
    },
    {
     "data": {
      "image/png": "[encoded data removed]",
      "text/plain": [
       "<Figure size 432x288 with 1 Axes>"
      ]
     },
     "metadata": {
      "needs_background": "light"
     },
     "output_type": "display_data"
    }
   ],
   "source": [
    "import seaborn as sns\n",
    "import matplotlib.pyplot as plt\n",
    "\n",
    "#dft = df.groupby('year').mean()\n",
    "\n",
    "sns.scatterplot(data=dft, x='year', y='receipt_value')\n",
    "#dft['receipt_value'].plot()"
   ]
  },
  {
   "cell_type": "code",
   "execution_count": 12,
   "id": "bored-valuation",
   "metadata": {},
   "outputs": [
    {
     "data": {
      "text/plain": [
       "Int64Index([2009, 2010, 2011, 2012, 2013, 2014, 2015, 2016, 2017], dtype='int64', name='year')"
      ]
     },
     "execution_count": 12,
     "metadata": {},
     "output_type": "execute_result"
    }
   ],
   "source": [
    "dft.index"
   ]
  },
  {
   "cell_type": "code",
   "execution_count": 13,
   "id": "classical-dominant",
   "metadata": {},
   "outputs": [
    {
     "name": "stdout",
     "output_type": "stream",
     "text": [
      "a = 32.68 b = -65188.72\n"
     ]
    }
   ],
   "source": [
    "# ADICIONAR CÓDIGO AQUI\n",
    "from scipy.stats import linregress\n",
    "\n",
    "regress = linregress(dft.index, dft['receipt_value'])\n",
    "\n",
    "a = regress.slope\n",
    "b = regress.intercept\n",
    "\n",
    "def predict(year):\n",
    "    return year * a + b"
   ]
  },
  {
   "cell_type": "code",
   "execution_count": 32,
   "id": "public-tamil",
   "metadata": {},
   "outputs": [
    {
     "data": {
      "text/plain": [
       "array([[1.        , 0.97342783],\n",
       "       [0.97342783, 1.        ]])"
      ]
     },
     "execution_count": 32,
     "metadata": {},
     "output_type": "execute_result"
    }
   ],
   "source": [
    "import numpy as np\n",
    "\n",
    "np.corrcoef(dft.index, dft['receipt_value'])"
   ]
  },
  {
   "cell_type": "code",
   "execution_count": 28,
   "id": "consistent-testament",
   "metadata": {},
   "outputs": [
    {
     "data": {
      "text/plain": [
       "[<matplotlib.lines.Line2D at 0x1378d1a90>]"
      ]
     },
     "execution_count": 28,
     "metadata": {},
     "output_type": "execute_result"
    },
    {
     "data": {
      "image/png": "[encoded data removed]",
      "text/plain": [
       "<Figure size 432x288 with 1 Axes>"
      ]
     },
     "metadata": {
      "needs_background": "light"
     },
     "output_type": "display_data"
    }
   ],
   "source": [
    "yhat = [predict(year) for year in range(2009, 2018)]\n",
    "\n",
    "plt.plot(dft.index, dft['receipt_value'])\n",
    "plt.plot(dft.index, yhat, 'r--')"
   ]
  },
  {
   "cell_type": "code",
   "execution_count": 15,
   "id": "quick-transparency",
   "metadata": {},
   "outputs": [
    {
     "data": {
      "text/plain": [
       "848.7937243230772"
      ]
     },
     "execution_count": 15,
     "metadata": {},
     "output_type": "execute_result"
    }
   ],
   "source": [
    "predict(2021)"
   ]
  },
  {
   "cell_type": "markdown",
   "id": "matched-moisture",
   "metadata": {},
   "source": [
    "Como se percebe há uma correlação muito forte entre o ano e o valor médio dos recibos. Por meio de uma regressão linear, podemos obter uma boa estimativa de quanto será o valor médio do recibo neste ano de 2021, no caso, o valor obtido foi de **R\\$ 848,79**."
   ]
  },
  {
   "cell_type": "markdown",
   "id": "coupled-address",
   "metadata": {},
   "source": [
    "### 2. Existem deputados que são outliers com relação a gastos com gasolina? Se sim, quais? "
   ]
  },
  {
   "cell_type": "code",
   "execution_count": null,
   "id": "encouraging-index",
   "metadata": {},
   "outputs": [],
   "source": [
    "# ADICIONAR CÓDIGO AQUI"
   ]
  },
  {
   "cell_type": "markdown",
   "id": "returning-efficiency",
   "metadata": {},
   "source": [
    "### 3. Qual empresa de combustível recebeu mais? Existe alguma relação com possíveis outliers da análise anterior? "
   ]
  },
  {
   "cell_type": "code",
   "execution_count": null,
   "id": "earned-legislature",
   "metadata": {},
   "outputs": [],
   "source": [
    "# ADICIONAR CÓDIGO AQUI"
   ]
  },
  {
   "cell_type": "markdown",
   "id": "cleared-interaction",
   "metadata": {},
   "source": [
    "### 4. Existem estabelecimentos com compras de apenas um deputado? "
   ]
  },
  {
   "cell_type": "code",
   "execution_count": 1,
   "id": "operational-grace",
   "metadata": {},
   "outputs": [],
   "source": [
    "# ADICIONAR CÓDIGO AQUI"
   ]
  },
  {
   "cell_type": "markdown",
   "id": "mediterranean-genetics",
   "metadata": {},
   "source": [
    "### 5. Qual deputado tem a maior média de gastos? "
   ]
  },
  {
   "cell_type": "code",
   "execution_count": 2,
   "id": "scientific-registration",
   "metadata": {},
   "outputs": [],
   "source": [
    "# ADICIONAR CÓDIGO AQUI"
   ]
  },
  {
   "cell_type": "markdown",
   "id": "recent-bahrain",
   "metadata": {},
   "source": [
    "### 6. Qual foi o deputado que mais gastou em ano eleitoral? "
   ]
  },
  {
   "cell_type": "code",
   "execution_count": null,
   "id": "varied-carrier",
   "metadata": {},
   "outputs": [],
   "source": [
    "# ADICIONAR CÓDIGO AQUI"
   ]
  },
  {
   "cell_type": "markdown",
   "id": "perceived-diesel",
   "metadata": {},
   "source": [
    "### 7. Qual é a categoria onde os gastos são maiores? E qual é a categoria onde os gastos são menores?"
   ]
  },
  {
   "cell_type": "code",
   "execution_count": null,
   "id": "agricultural-foster",
   "metadata": {},
   "outputs": [],
   "source": [
    "# ADICIONAR CÓDIGO AQUI"
   ]
  },
  {
   "cell_type": "markdown",
   "id": "caring-appointment",
   "metadata": {},
   "source": [
    "## Conclusão\n",
    "\n",
    "ADICIONAR"
   ]
  }
 ],
 "metadata": {
  "kernelspec": {
   "display_name": "Python 3",
   "language": "python",
   "name": "python3"
  },
  "language_info": {
   "codemirror_mode": {
    "name": "ipython",
    "version": 3
   },
   "file_extension": ".py",
   "mimetype": "text/x-python",
   "name": "python",
   "nbconvert_exporter": "python",
   "pygments_lexer": "ipython3",
   "version": "3.8.2"
  }
 },
 "nbformat": 4,
 "nbformat_minor": 5
}
