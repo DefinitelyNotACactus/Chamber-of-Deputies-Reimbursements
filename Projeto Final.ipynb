{
 "cells": [
  {
   "cell_type": "markdown",
   "id": "assisted-boutique",
   "metadata": {},
   "source": [
    "<div align=\"center\"> \n",
    "   \n",
    "\n",
    "# Universidade Federal da Paraíba\n",
    "# Centro de Informática\n",
    "# Introdução à Ciência de Dados\n",
    "\n",
    "# Relatório Final - Reembolsos da Câmara dos Depultados\n",
    "\n",
    "## Integrantes:\n",
    "### David Pereira Galvão Junior - 20170013036\n",
    "### Luan Queiroz Pereira Barbosa - 20170011256\n",
    "### Luyza Ellen Domingos do Nascimento - 20170002257"
   ]
  },
  {
   "cell_type": "markdown",
   "id": "innovative-kitchen",
   "metadata": {},
   "source": [
    "# Introdução"
   ]
  },
  {
   "cell_type": "markdown",
   "id": "military-sleeping",
   "metadata": {},
   "source": [
    "A motivação em desenvolver esse trabalho advém do fato de querer investigar os gastos públicos dos deputados federais brasileiros. Cada político tem o direito a ter reembolso quando gastam seu dinheiro em atividade que permitam \"servir melhor o povo\". Então é importante que esses gastos sejam monitorados, para saber como cada deputados está utilizando recursos para pedir reembolso com verbas públicas.\n",
    "\n",
    "Com as diversas notícias e acusações de corrupção dos políticos é de se imaginar que quando envolve dinheiro é provável que se vá encontrar dados suspeitos. \n",
    "\n",
    "Sendo assim, com os conhecimentos adquiridos durante o curso, com a utlização da linguagem Python  e com a ajuda das suas bibliotecas, o objetivo do trabalho é analisar os gastos do deputados."
   ]
  },
  {
   "cell_type": "markdown",
   "id": "concerned-guarantee",
   "metadata": {},
   "source": [
    "# Dados Utilizados "
   ]
  },
  {
   "cell_type": "markdown",
   "id": "universal-advisory",
   "metadata": {},
   "source": [
    "# Pré - Processamento"
   ]
  },
  {
   "cell_type": "markdown",
   "id": "scenic-processor",
   "metadata": {},
   "source": [
    "# Perguntas"
   ]
  },
  {
   "cell_type": "markdown",
   "id": "superb-design",
   "metadata": {},
   "source": [
    "# Conclusão"
   ]
  }
 ],
 "metadata": {
  "kernelspec": {
   "display_name": "Python 3",
   "language": "python",
   "name": "python3"
  },
  "language_info": {
   "codemirror_mode": {
    "name": "ipython",
    "version": 3
   },
   "file_extension": ".py",
   "mimetype": "text/x-python",
   "name": "python",
   "nbconvert_exporter": "python",
   "pygments_lexer": "ipython3",
   "version": "3.7.4"
  }
 },
 "nbformat": 4,
 "nbformat_minor": 5
}
