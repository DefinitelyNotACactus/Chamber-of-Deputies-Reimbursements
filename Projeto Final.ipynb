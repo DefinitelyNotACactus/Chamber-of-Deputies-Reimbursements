{
 "cells": [
  {
   "cell_type": "markdown",
   "id": "integrated-singing",
   "metadata": {},
   "source": [
    "# Relatório Final - Reembolsos da Câmara dos Deputados"
   ]
  },
  {
   "cell_type": "markdown",
   "id": "demonstrated-prevention",
   "metadata": {},
   "source": [
    "## Introdução"
   ]
  },
  {
   "cell_type": "markdown",
   "id": "congressional-morgan",
   "metadata": {},
   "source": [
    "A motivação em desenvolver esse trabalho advém do fato de querer investigar os gastos públicos dos deputados federais brasileiros. Cada político tem o direito a ter reembolso quando gastam seu dinheiro em atividade que permitam \"servir melhor o povo\". Então é importante que esses gastos sejam monitorados, para saber como cada deputados está utilizando recursos para pedir reembolso com verbas públicas.\n",
    "\n",
    "Com as diversas notícias e acusações de corrupção dos políticos é de se imaginar que quando envolve dinheiro é provável que se vá encontrar dados suspeitos. \n",
    "\n",
    "Sendo assim, com os conhecimentos adquiridos durante o curso, com a utlização da linguagem Python  e com a ajuda das suas bibliotecas, o objetivo do trabalho é analisar os gastos do deputados."
   ]
  },
  {
   "cell_type": "markdown",
   "id": "killing-principal",
   "metadata": {},
   "source": [
    "## Dados Utilizados "
   ]
  },
  {
   "cell_type": "markdown",
   "id": "middle-october",
   "metadata": {},
   "source": [
    "## Pré-Processamento"
   ]
  },
  {
   "cell_type": "markdown",
   "id": "statewide-letter",
   "metadata": {},
   "source": [
    "## Perguntas\n",
    "\n",
    "Foram elaboradas no total sete perguntas para serem respondidas com o conjunto de dados apresentado anteriormente, sendo estas perguntas apresentadas a seguir.\n",
    "\n",
    "### 1. Qual seria a média dos valores dos recibos para 2021? "
   ]
  },
  {
   "cell_type": "code",
   "execution_count": null,
   "id": "classical-dominant",
   "metadata": {},
   "outputs": [],
   "source": [
    "# ADICIONAR CÓDIGO AQUI"
   ]
  },
  {
   "cell_type": "markdown",
   "id": "coupled-address",
   "metadata": {},
   "source": [
    "### 2. Existem deputados que são outliers com relação a gastos com gasolina? Se sim, quais? "
   ]
  },
  {
   "cell_type": "code",
   "execution_count": null,
   "id": "encouraging-index",
   "metadata": {},
   "outputs": [],
   "source": [
    "# ADICIONAR CÓDIGO AQUI"
   ]
  },
  {
   "cell_type": "markdown",
   "id": "returning-efficiency",
   "metadata": {},
   "source": [
    "### 3. Qual empresa de combustível recebeu mais? Existe alguma relação com possíveis outliers da análise anterior? "
   ]
  },
  {
   "cell_type": "code",
   "execution_count": null,
   "id": "earned-legislature",
   "metadata": {},
   "outputs": [],
   "source": [
    "# ADICIONAR CÓDIGO AQUI"
   ]
  },
  {
   "cell_type": "markdown",
   "id": "cleared-interaction",
   "metadata": {},
   "source": [
    "### 4. Existem estabelecimentos com compras de apenas um deputado? "
   ]
  },
  {
   "cell_type": "code",
   "execution_count": 1,
   "id": "operational-grace",
   "metadata": {},
   "outputs": [],
   "source": [
    "# ADICIONAR CÓDIGO AQUI"
   ]
  },
  {
   "cell_type": "markdown",
   "id": "mediterranean-genetics",
   "metadata": {},
   "source": [
    "### 5. Qual deputado tem a maior média de gastos? "
   ]
  },
  {
   "cell_type": "code",
   "execution_count": 2,
   "id": "scientific-registration",
   "metadata": {},
   "outputs": [],
   "source": [
    "# ADICIONAR CÓDIGO AQUI"
   ]
  },
  {
   "cell_type": "markdown",
   "id": "recent-bahrain",
   "metadata": {},
   "source": [
    "### 6. Qual foi o deputado que mais gastou em ano eleitoral? "
   ]
  },
  {
   "cell_type": "code",
   "execution_count": null,
   "id": "varied-carrier",
   "metadata": {},
   "outputs": [],
   "source": [
    "# ADICIONAR CÓDIGO AQUI"
   ]
  },
  {
   "cell_type": "markdown",
   "id": "perceived-diesel",
   "metadata": {},
   "source": [
    "### 7. Qual é a categoria onde os gastos são maiores? E qual é a categoria onde os gastos são menores?"
   ]
  },
  {
   "cell_type": "code",
   "execution_count": null,
   "id": "agricultural-foster",
   "metadata": {},
   "outputs": [],
   "source": [
    "# ADICIONAR CÓDIGO AQUI"
   ]
  },
  {
   "cell_type": "markdown",
   "id": "caring-appointment",
   "metadata": {},
   "source": [
    "## Conclusão"
   ]
  }
 ],
 "metadata": {
  "kernelspec": {
   "display_name": "Python 3",
   "language": "python",
   "name": "python3"
  },
  "language_info": {
   "codemirror_mode": {
    "name": "ipython",
    "version": 3
   },
   "file_extension": ".py",
   "mimetype": "text/x-python",
   "name": "python",
   "nbconvert_exporter": "python",
   "pygments_lexer": "ipython3",
   "version": "3.8.2"
  }
 },
 "nbformat": 4,
 "nbformat_minor": 5
}
