{
 "cells": [
  {
   "cell_type": "markdown",
   "id": "chinese-problem",
   "metadata": {},
   "source": [
    "# Relatório Final - Reembolsos da Câmara dos Deputados\n",
    "\n",
    "\n",
    "## Integrantes:\n",
    "* David Pereira Galvão Junior - 20170013036\n",
    "* Luan Queiroz Pereira Barbosa  - 20170011256\n",
    "* Luyza Ellen Domingos do Nascimento  - 20170002257"
   ]
  },
  {
   "cell_type": "markdown",
   "id": "lonely-anderson",
   "metadata": {},
   "source": [
    "## Introdução"
   ]
  },
  {
   "cell_type": "markdown",
   "id": "rubber-double",
   "metadata": {},
   "source": [
    "A motivação em desenvolver esse trabalho advém do fato de querer investigar os gastos públicos dos deputados federais brasileiros. Cada político tem o direito a ter reembolso quando gastam seu dinheiro em atividade que permitam \"servir melhor o povo\". Então é importante que esses gastos sejam monitorados, para saber como cada deputados está utilizando recursos para pedir reembolso com verbas públicas.\n",
    "\n",
    "Com as diversas notícias e acusações de corrupção dos políticos é de se imaginar que quando envolve dinheiro é provável que se vá encontrar dados suspeitos. \n",
    "\n",
    "Sendo assim, com os conhecimentos adquiridos durante o curso, com a utlização da linguagem Python  e com a ajuda das suas bibliotecas, o objetivo do trabalho é analisar os gastos do deputados."
   ]
  },
  {
   "cell_type": "markdown",
   "id": "choice-manual",
   "metadata": {},
   "source": [
    "## Dados Utilizados \n",
    "\n",
    "Foi utilizada a base de dados [Brazil's House of Deputies Reimbursements](https://www.kaggle.com/epattaro/brazils-house-of-deputies-reimbursements), disponibilizada pelo usuário epattaro do site Kaggle usando dados obtidos do portal da transparência da Câmara dos Deputados. Esta base contém informações sobre os gastos dos deputados entre os anos de 2009 e 2017."
   ]
  },
  {
   "cell_type": "code",
   "execution_count": 1,
   "id": "pediatric-words",
   "metadata": {},
   "outputs": [
    {
     "data": {
      "text/html": [
       "<div>\n",
       "<style scoped>\n",
       "    .dataframe tbody tr th:only-of-type {\n",
       "        vertical-align: middle;\n",
       "    }\n",
       "\n",
       "    .dataframe tbody tr th {\n",
       "        vertical-align: top;\n",
       "    }\n",
       "\n",
       "    .dataframe thead th {\n",
       "        text-align: right;\n",
       "    }\n",
       "</style>\n",
       "<table border=\"1\" class=\"dataframe\">\n",
       "  <thead>\n",
       "    <tr style=\"text-align: right;\">\n",
       "      <th></th>\n",
       "      <th>Unnamed: 0</th>\n",
       "      <th>bugged_date</th>\n",
       "      <th>receipt_date</th>\n",
       "      <th>deputy_id</th>\n",
       "      <th>political_party</th>\n",
       "      <th>state_code</th>\n",
       "      <th>deputy_name</th>\n",
       "      <th>receipt_social_security_number</th>\n",
       "      <th>receipt_description</th>\n",
       "      <th>establishment_name</th>\n",
       "      <th>receipt_value</th>\n",
       "      <th>year</th>\n",
       "    </tr>\n",
       "  </thead>\n",
       "  <tbody>\n",
       "    <tr>\n",
       "      <th>0</th>\n",
       "      <td>2753519</td>\n",
       "      <td>0</td>\n",
       "      <td>2009-05-19 00:00:00</td>\n",
       "      <td>1772</td>\n",
       "      <td>PSB</td>\n",
       "      <td>SP</td>\n",
       "      <td>Abelardo Camarinha</td>\n",
       "      <td>4.206050e+12</td>\n",
       "      <td>Maintenance of Office</td>\n",
       "      <td>TIM CELULAR S/A</td>\n",
       "      <td>411</td>\n",
       "      <td>2009</td>\n",
       "    </tr>\n",
       "    <tr>\n",
       "      <th>1</th>\n",
       "      <td>2753520</td>\n",
       "      <td>0</td>\n",
       "      <td>2009-05-19 00:00:00</td>\n",
       "      <td>1772</td>\n",
       "      <td>PSB</td>\n",
       "      <td>SP</td>\n",
       "      <td>Abelardo Camarinha</td>\n",
       "      <td>4.206050e+12</td>\n",
       "      <td>Maintenance of Office</td>\n",
       "      <td>TIM CELULAR S/A</td>\n",
       "      <td>429</td>\n",
       "      <td>2009</td>\n",
       "    </tr>\n",
       "    <tr>\n",
       "      <th>2</th>\n",
       "      <td>2753521</td>\n",
       "      <td>0</td>\n",
       "      <td>2009-05-19 00:00:00</td>\n",
       "      <td>1772</td>\n",
       "      <td>PSB</td>\n",
       "      <td>SP</td>\n",
       "      <td>Abelardo Camarinha</td>\n",
       "      <td>4.206050e+12</td>\n",
       "      <td>Maintenance of Office</td>\n",
       "      <td>TIM CELULAR S/A</td>\n",
       "      <td>109</td>\n",
       "      <td>2009</td>\n",
       "    </tr>\n",
       "    <tr>\n",
       "      <th>3</th>\n",
       "      <td>2753522</td>\n",
       "      <td>0</td>\n",
       "      <td>2009-05-19 00:00:00</td>\n",
       "      <td>1772</td>\n",
       "      <td>PSB</td>\n",
       "      <td>SP</td>\n",
       "      <td>Abelardo Camarinha</td>\n",
       "      <td>4.206050e+12</td>\n",
       "      <td>Maintenance of Office</td>\n",
       "      <td>TIM CELULAR S/A</td>\n",
       "      <td>68</td>\n",
       "      <td>2009</td>\n",
       "    </tr>\n",
       "    <tr>\n",
       "      <th>4</th>\n",
       "      <td>2753523</td>\n",
       "      <td>0</td>\n",
       "      <td>2009-09-25 00:00:00</td>\n",
       "      <td>1772</td>\n",
       "      <td>PSB</td>\n",
       "      <td>SP</td>\n",
       "      <td>Abelardo Camarinha</td>\n",
       "      <td>2.418000e+12</td>\n",
       "      <td>Fuels and lubricants.</td>\n",
       "      <td>AUTO POSTO ALVORADA</td>\n",
       "      <td>4395</td>\n",
       "      <td>2009</td>\n",
       "    </tr>\n",
       "  </tbody>\n",
       "</table>\n",
       "</div>"
      ],
      "text/plain": [
       "   Unnamed: 0  bugged_date         receipt_date  deputy_id political_party  \\\n",
       "0     2753519            0  2009-05-19 00:00:00       1772             PSB   \n",
       "1     2753520            0  2009-05-19 00:00:00       1772             PSB   \n",
       "2     2753521            0  2009-05-19 00:00:00       1772             PSB   \n",
       "3     2753522            0  2009-05-19 00:00:00       1772             PSB   \n",
       "4     2753523            0  2009-09-25 00:00:00       1772             PSB   \n",
       "\n",
       "  state_code         deputy_name  receipt_social_security_number  \\\n",
       "0         SP  Abelardo Camarinha                    4.206050e+12   \n",
       "1         SP  Abelardo Camarinha                    4.206050e+12   \n",
       "2         SP  Abelardo Camarinha                    4.206050e+12   \n",
       "3         SP  Abelardo Camarinha                    4.206050e+12   \n",
       "4         SP  Abelardo Camarinha                    2.418000e+12   \n",
       "\n",
       "     receipt_description   establishment_name  receipt_value  year  \n",
       "0  Maintenance of Office      TIM CELULAR S/A            411  2009  \n",
       "1  Maintenance of Office      TIM CELULAR S/A            429  2009  \n",
       "2  Maintenance of Office      TIM CELULAR S/A            109  2009  \n",
       "3  Maintenance of Office      TIM CELULAR S/A             68  2009  \n",
       "4  Fuels and lubricants.  AUTO POSTO ALVORADA           4395  2009  "
      ]
     },
     "execution_count": 1,
     "metadata": {},
     "output_type": "execute_result"
    }
   ],
   "source": [
    "import pandas as pd\n",
    "from unidecode import unidecode\n",
    "\n",
    "from IPython.display import clear_output\n",
    "from concat_df import concat_df\n",
    "# Carregar os dados\n",
    "df = concat_df(processed=False)\n",
    "df.head()"
   ]
  },
  {
   "cell_type": "markdown",
   "id": "coordinate-queensland",
   "metadata": {},
   "source": [
    "## Pré-Processamento\n",
    "\n",
    "Realizamos o processo de limpeza e transformação de dados, sendo o processo descrito a seguir.\n",
    "\n",
    "### Transformação de Dados\n",
    "\n",
    "Os dados que receberam transformação foram: **establishment_name, receipt_social_security_number, receipt_date e receipt_value.** \n",
    "\n",
    "A coluna **establishment_name** contém valores do tipo string, o que chama atenção é o fato de que existem casos de um mesmo estabelecimento possuir mais de um nome distinto. Se utilizada a função **unique**, isso se deve por ter sido anotado, na maior parte das vezes, os nomes em alguns casos com acento e em outros sem acentos. Logo, removeremos os acentos dos nomes, com fins de um estabelecimento igual ficar com mais de um nome distinto.\n",
    "\n",
    "Em **receipt_social_security_number** que era um atributo do tipo float foi transformado para o tipo string. Ou seja, aconteceu uma transformação de um tipo de dado. Além disso, houve um tratamento parcial para dados ausentes, um problema porém, é o que fazer para alguns dados, para determinar se estes constituem um CPF ou CNPJ.\n",
    "\n",
    "Já com o **receipt_date**, este foi transformado para o tipo datetime pois estava como object. Com isso, foi possível extrair o mês e o dia da semana no qual o recibo foi emitido.\n",
    "\n",
    "Por fim, o **receipt_value** possuia muitos valores pequenos, valores concatenados em uma pequena proporção de intervalo de valores. Então, foi realizado um redimensionamento para reduzir essa diferença desproporcional e para realizar uma melhor análise dos valores.\n",
    "\n",
    "A seguir segue o código da transformação dos dados.\n",
    "\n",
    "#### establishment_name"
   ]
  },
  {
   "cell_type": "code",
   "execution_count": 2,
   "id": "handed-brush",
   "metadata": {},
   "outputs": [],
   "source": [
    "df['establishment_name'] = df['establishment_name'].apply(lambda x: unidecode(x))"
   ]
  },
  {
   "cell_type": "markdown",
   "id": "cognitive-costa",
   "metadata": {},
   "source": [
    "#### receipt_social_security_number"
   ]
  },
  {
   "cell_type": "code",
   "execution_count": 3,
   "id": "technological-morgan",
   "metadata": {},
   "outputs": [
    {
     "data": {
      "text/html": [
       "<div>\n",
       "<style scoped>\n",
       "    .dataframe tbody tr th:only-of-type {\n",
       "        vertical-align: middle;\n",
       "    }\n",
       "\n",
       "    .dataframe tbody tr th {\n",
       "        vertical-align: top;\n",
       "    }\n",
       "\n",
       "    .dataframe thead th {\n",
       "        text-align: right;\n",
       "    }\n",
       "</style>\n",
       "<table border=\"1\" class=\"dataframe\">\n",
       "  <thead>\n",
       "    <tr style=\"text-align: right;\">\n",
       "      <th></th>\n",
       "      <th>Unnamed: 0</th>\n",
       "      <th>bugged_date</th>\n",
       "      <th>receipt_date</th>\n",
       "      <th>deputy_id</th>\n",
       "      <th>political_party</th>\n",
       "      <th>state_code</th>\n",
       "      <th>deputy_name</th>\n",
       "      <th>receipt_social_security_number</th>\n",
       "      <th>receipt_description</th>\n",
       "      <th>establishment_name</th>\n",
       "      <th>receipt_value</th>\n",
       "      <th>year</th>\n",
       "    </tr>\n",
       "  </thead>\n",
       "  <tbody>\n",
       "    <tr>\n",
       "      <th>0</th>\n",
       "      <td>2753519</td>\n",
       "      <td>0</td>\n",
       "      <td>2009-05-19 00:00:00</td>\n",
       "      <td>1772</td>\n",
       "      <td>PSB</td>\n",
       "      <td>SP</td>\n",
       "      <td>Abelardo Camarinha</td>\n",
       "      <td>4206050005140.0</td>\n",
       "      <td>Maintenance of Office</td>\n",
       "      <td>TIM CELULAR S/A</td>\n",
       "      <td>411</td>\n",
       "      <td>2009</td>\n",
       "    </tr>\n",
       "    <tr>\n",
       "      <th>1</th>\n",
       "      <td>2753520</td>\n",
       "      <td>0</td>\n",
       "      <td>2009-05-19 00:00:00</td>\n",
       "      <td>1772</td>\n",
       "      <td>PSB</td>\n",
       "      <td>SP</td>\n",
       "      <td>Abelardo Camarinha</td>\n",
       "      <td>4206050005140.0</td>\n",
       "      <td>Maintenance of Office</td>\n",
       "      <td>TIM CELULAR S/A</td>\n",
       "      <td>429</td>\n",
       "      <td>2009</td>\n",
       "    </tr>\n",
       "    <tr>\n",
       "      <th>2</th>\n",
       "      <td>2753521</td>\n",
       "      <td>0</td>\n",
       "      <td>2009-05-19 00:00:00</td>\n",
       "      <td>1772</td>\n",
       "      <td>PSB</td>\n",
       "      <td>SP</td>\n",
       "      <td>Abelardo Camarinha</td>\n",
       "      <td>4206050005140.0</td>\n",
       "      <td>Maintenance of Office</td>\n",
       "      <td>TIM CELULAR S/A</td>\n",
       "      <td>109</td>\n",
       "      <td>2009</td>\n",
       "    </tr>\n",
       "    <tr>\n",
       "      <th>3</th>\n",
       "      <td>2753522</td>\n",
       "      <td>0</td>\n",
       "      <td>2009-05-19 00:00:00</td>\n",
       "      <td>1772</td>\n",
       "      <td>PSB</td>\n",
       "      <td>SP</td>\n",
       "      <td>Abelardo Camarinha</td>\n",
       "      <td>4206050005140.0</td>\n",
       "      <td>Maintenance of Office</td>\n",
       "      <td>TIM CELULAR S/A</td>\n",
       "      <td>68</td>\n",
       "      <td>2009</td>\n",
       "    </tr>\n",
       "    <tr>\n",
       "      <th>4</th>\n",
       "      <td>2753523</td>\n",
       "      <td>0</td>\n",
       "      <td>2009-09-25 00:00:00</td>\n",
       "      <td>1772</td>\n",
       "      <td>PSB</td>\n",
       "      <td>SP</td>\n",
       "      <td>Abelardo Camarinha</td>\n",
       "      <td>2418000000131.0</td>\n",
       "      <td>Fuels and lubricants.</td>\n",
       "      <td>AUTO POSTO ALVORADA</td>\n",
       "      <td>4395</td>\n",
       "      <td>2009</td>\n",
       "    </tr>\n",
       "  </tbody>\n",
       "</table>\n",
       "</div>"
      ],
      "text/plain": [
       "   Unnamed: 0  bugged_date         receipt_date  deputy_id political_party  \\\n",
       "0     2753519            0  2009-05-19 00:00:00       1772             PSB   \n",
       "1     2753520            0  2009-05-19 00:00:00       1772             PSB   \n",
       "2     2753521            0  2009-05-19 00:00:00       1772             PSB   \n",
       "3     2753522            0  2009-05-19 00:00:00       1772             PSB   \n",
       "4     2753523            0  2009-09-25 00:00:00       1772             PSB   \n",
       "\n",
       "  state_code         deputy_name receipt_social_security_number  \\\n",
       "0         SP  Abelardo Camarinha                4206050005140.0   \n",
       "1         SP  Abelardo Camarinha                4206050005140.0   \n",
       "2         SP  Abelardo Camarinha                4206050005140.0   \n",
       "3         SP  Abelardo Camarinha                4206050005140.0   \n",
       "4         SP  Abelardo Camarinha                2418000000131.0   \n",
       "\n",
       "     receipt_description   establishment_name  receipt_value  year  \n",
       "0  Maintenance of Office      TIM CELULAR S/A            411  2009  \n",
       "1  Maintenance of Office      TIM CELULAR S/A            429  2009  \n",
       "2  Maintenance of Office      TIM CELULAR S/A            109  2009  \n",
       "3  Maintenance of Office      TIM CELULAR S/A             68  2009  \n",
       "4  Fuels and lubricants.  AUTO POSTO ALVORADA           4395  2009  "
      ]
     },
     "execution_count": 3,
     "metadata": {},
     "output_type": "execute_result"
    }
   ],
   "source": [
    "df = df.astype({\"receipt_social_security_number\": str})\n",
    "\n",
    "df.head()"
   ]
  },
  {
   "cell_type": "markdown",
   "id": "after-preview",
   "metadata": {},
   "source": [
    "Como originalmente os dados dessa coluna estavam como um ponto flutuante, acaba que os últimos caracteres sejam **'.0'**, mas vejamos se é em todos os casos:"
   ]
  },
  {
   "cell_type": "code",
   "execution_count": 4,
   "id": "growing-nature",
   "metadata": {},
   "outputs": [
    {
     "data": {
      "text/html": [
       "<div>\n",
       "<style scoped>\n",
       "    .dataframe tbody tr th:only-of-type {\n",
       "        vertical-align: middle;\n",
       "    }\n",
       "\n",
       "    .dataframe tbody tr th {\n",
       "        vertical-align: top;\n",
       "    }\n",
       "\n",
       "    .dataframe thead th {\n",
       "        text-align: right;\n",
       "    }\n",
       "</style>\n",
       "<table border=\"1\" class=\"dataframe\">\n",
       "  <thead>\n",
       "    <tr style=\"text-align: right;\">\n",
       "      <th></th>\n",
       "      <th>Unnamed: 0</th>\n",
       "      <th>bugged_date</th>\n",
       "      <th>receipt_date</th>\n",
       "      <th>deputy_id</th>\n",
       "      <th>political_party</th>\n",
       "      <th>state_code</th>\n",
       "      <th>deputy_name</th>\n",
       "      <th>receipt_social_security_number</th>\n",
       "      <th>receipt_description</th>\n",
       "      <th>establishment_name</th>\n",
       "      <th>receipt_value</th>\n",
       "      <th>year</th>\n",
       "      <th>l</th>\n",
       "    </tr>\n",
       "  </thead>\n",
       "  <tbody>\n",
       "    <tr>\n",
       "      <th>34</th>\n",
       "      <td>2753553</td>\n",
       "      <td>0</td>\n",
       "      <td>2009-06-07 00:00:00</td>\n",
       "      <td>1772</td>\n",
       "      <td>PSB</td>\n",
       "      <td>SP</td>\n",
       "      <td>Abelardo Camarinha</td>\n",
       "      <td>nan</td>\n",
       "      <td>Telephony</td>\n",
       "      <td>CELULAR FUNCIONAL</td>\n",
       "      <td>225</td>\n",
       "      <td>2009</td>\n",
       "      <td>False</td>\n",
       "    </tr>\n",
       "    <tr>\n",
       "      <th>35</th>\n",
       "      <td>2753554</td>\n",
       "      <td>0</td>\n",
       "      <td>2009-07-01 00:00:00</td>\n",
       "      <td>1772</td>\n",
       "      <td>PSB</td>\n",
       "      <td>SP</td>\n",
       "      <td>Abelardo Camarinha</td>\n",
       "      <td>nan</td>\n",
       "      <td>Telephony</td>\n",
       "      <td>CELULAR FUNCIONAL</td>\n",
       "      <td>984</td>\n",
       "      <td>2009</td>\n",
       "      <td>False</td>\n",
       "    </tr>\n",
       "    <tr>\n",
       "      <th>36</th>\n",
       "      <td>2753555</td>\n",
       "      <td>0</td>\n",
       "      <td>2009-07-21 00:00:00</td>\n",
       "      <td>1772</td>\n",
       "      <td>PSB</td>\n",
       "      <td>SP</td>\n",
       "      <td>Abelardo Camarinha</td>\n",
       "      <td>nan</td>\n",
       "      <td>Telephony</td>\n",
       "      <td>CELULAR FUNCIONAL</td>\n",
       "      <td>1889</td>\n",
       "      <td>2009</td>\n",
       "      <td>False</td>\n",
       "    </tr>\n",
       "    <tr>\n",
       "      <th>37</th>\n",
       "      <td>2753556</td>\n",
       "      <td>0</td>\n",
       "      <td>2009-07-24 00:00:00</td>\n",
       "      <td>1772</td>\n",
       "      <td>PSB</td>\n",
       "      <td>SP</td>\n",
       "      <td>Abelardo Camarinha</td>\n",
       "      <td>nan</td>\n",
       "      <td>Telephony</td>\n",
       "      <td>CELULAR FUNCIONAL</td>\n",
       "      <td>919</td>\n",
       "      <td>2009</td>\n",
       "      <td>False</td>\n",
       "    </tr>\n",
       "    <tr>\n",
       "      <th>38</th>\n",
       "      <td>2753557</td>\n",
       "      <td>0</td>\n",
       "      <td>2009-07-26 00:00:00</td>\n",
       "      <td>1772</td>\n",
       "      <td>PSB</td>\n",
       "      <td>SP</td>\n",
       "      <td>Abelardo Camarinha</td>\n",
       "      <td>nan</td>\n",
       "      <td>Telephony</td>\n",
       "      <td>CELULAR FUNCIONAL</td>\n",
       "      <td>89</td>\n",
       "      <td>2009</td>\n",
       "      <td>False</td>\n",
       "    </tr>\n",
       "    <tr>\n",
       "      <th>...</th>\n",
       "      <td>...</td>\n",
       "      <td>...</td>\n",
       "      <td>...</td>\n",
       "      <td>...</td>\n",
       "      <td>...</td>\n",
       "      <td>...</td>\n",
       "      <td>...</td>\n",
       "      <td>...</td>\n",
       "      <td>...</td>\n",
       "      <td>...</td>\n",
       "      <td>...</td>\n",
       "      <td>...</td>\n",
       "      <td>...</td>\n",
       "    </tr>\n",
       "    <tr>\n",
       "      <th>251673</th>\n",
       "      <td>2050518</td>\n",
       "      <td>0</td>\n",
       "      <td>2017-05-25 11:14:52</td>\n",
       "      <td>2930</td>\n",
       "      <td>PR</td>\n",
       "      <td>RN</td>\n",
       "      <td>Zenaide Maia</td>\n",
       "      <td>nan</td>\n",
       "      <td>Postal Services</td>\n",
       "      <td>CORREIOS - ENCOMENDA PAC</td>\n",
       "      <td>20</td>\n",
       "      <td>2017</td>\n",
       "      <td>False</td>\n",
       "    </tr>\n",
       "    <tr>\n",
       "      <th>251674</th>\n",
       "      <td>2050519</td>\n",
       "      <td>0</td>\n",
       "      <td>2017-05-25 11:14:06</td>\n",
       "      <td>2930</td>\n",
       "      <td>PR</td>\n",
       "      <td>RN</td>\n",
       "      <td>Zenaide Maia</td>\n",
       "      <td>nan</td>\n",
       "      <td>Postal Services</td>\n",
       "      <td>CORREIOS - ENCOMENDA PAC</td>\n",
       "      <td>174</td>\n",
       "      <td>2017</td>\n",
       "      <td>False</td>\n",
       "    </tr>\n",
       "    <tr>\n",
       "      <th>251675</th>\n",
       "      <td>2050520</td>\n",
       "      <td>0</td>\n",
       "      <td>2017-05-29 11:53:33</td>\n",
       "      <td>2930</td>\n",
       "      <td>PR</td>\n",
       "      <td>RN</td>\n",
       "      <td>Zenaide Maia</td>\n",
       "      <td>nan</td>\n",
       "      <td>Postal Services</td>\n",
       "      <td>CORREIOS - ENCOMENDA PAC</td>\n",
       "      <td>1140</td>\n",
       "      <td>2017</td>\n",
       "      <td>False</td>\n",
       "    </tr>\n",
       "    <tr>\n",
       "      <th>251676</th>\n",
       "      <td>2050521</td>\n",
       "      <td>0</td>\n",
       "      <td>2017-07-06 10:57:31</td>\n",
       "      <td>2930</td>\n",
       "      <td>PR</td>\n",
       "      <td>RN</td>\n",
       "      <td>Zenaide Maia</td>\n",
       "      <td>nan</td>\n",
       "      <td>Postal Services</td>\n",
       "      <td>CORREIOS - ENCOMENDA PAC</td>\n",
       "      <td>15</td>\n",
       "      <td>2017</td>\n",
       "      <td>False</td>\n",
       "    </tr>\n",
       "    <tr>\n",
       "      <th>251677</th>\n",
       "      <td>2050522</td>\n",
       "      <td>0</td>\n",
       "      <td>2017-08-17 12:22:43</td>\n",
       "      <td>2930</td>\n",
       "      <td>PR</td>\n",
       "      <td>RN</td>\n",
       "      <td>Zenaide Maia</td>\n",
       "      <td>nan</td>\n",
       "      <td>Postal Services</td>\n",
       "      <td>CORREIOS - ENCOMENDA PAC</td>\n",
       "      <td>68</td>\n",
       "      <td>2017</td>\n",
       "      <td>False</td>\n",
       "    </tr>\n",
       "  </tbody>\n",
       "</table>\n",
       "<p>520952 rows × 13 columns</p>\n",
       "</div>"
      ],
      "text/plain": [
       "        Unnamed: 0  bugged_date         receipt_date  deputy_id  \\\n",
       "34         2753553            0  2009-06-07 00:00:00       1772   \n",
       "35         2753554            0  2009-07-01 00:00:00       1772   \n",
       "36         2753555            0  2009-07-21 00:00:00       1772   \n",
       "37         2753556            0  2009-07-24 00:00:00       1772   \n",
       "38         2753557            0  2009-07-26 00:00:00       1772   \n",
       "...            ...          ...                  ...        ...   \n",
       "251673     2050518            0  2017-05-25 11:14:52       2930   \n",
       "251674     2050519            0  2017-05-25 11:14:06       2930   \n",
       "251675     2050520            0  2017-05-29 11:53:33       2930   \n",
       "251676     2050521            0  2017-07-06 10:57:31       2930   \n",
       "251677     2050522            0  2017-08-17 12:22:43       2930   \n",
       "\n",
       "       political_party state_code         deputy_name  \\\n",
       "34                 PSB         SP  Abelardo Camarinha   \n",
       "35                 PSB         SP  Abelardo Camarinha   \n",
       "36                 PSB         SP  Abelardo Camarinha   \n",
       "37                 PSB         SP  Abelardo Camarinha   \n",
       "38                 PSB         SP  Abelardo Camarinha   \n",
       "...                ...        ...                 ...   \n",
       "251673              PR         RN        Zenaide Maia   \n",
       "251674              PR         RN        Zenaide Maia   \n",
       "251675              PR         RN        Zenaide Maia   \n",
       "251676              PR         RN        Zenaide Maia   \n",
       "251677              PR         RN        Zenaide Maia   \n",
       "\n",
       "       receipt_social_security_number receipt_description  \\\n",
       "34                                nan           Telephony   \n",
       "35                                nan           Telephony   \n",
       "36                                nan           Telephony   \n",
       "37                                nan           Telephony   \n",
       "38                                nan           Telephony   \n",
       "...                               ...                 ...   \n",
       "251673                            nan     Postal Services   \n",
       "251674                            nan     Postal Services   \n",
       "251675                            nan     Postal Services   \n",
       "251676                            nan     Postal Services   \n",
       "251677                            nan     Postal Services   \n",
       "\n",
       "              establishment_name  receipt_value  year      l  \n",
       "34             CELULAR FUNCIONAL            225  2009  False  \n",
       "35             CELULAR FUNCIONAL            984  2009  False  \n",
       "36             CELULAR FUNCIONAL           1889  2009  False  \n",
       "37             CELULAR FUNCIONAL            919  2009  False  \n",
       "38             CELULAR FUNCIONAL             89  2009  False  \n",
       "...                          ...            ...   ...    ...  \n",
       "251673  CORREIOS - ENCOMENDA PAC             20  2017  False  \n",
       "251674  CORREIOS - ENCOMENDA PAC            174  2017  False  \n",
       "251675  CORREIOS - ENCOMENDA PAC           1140  2017  False  \n",
       "251676  CORREIOS - ENCOMENDA PAC             15  2017  False  \n",
       "251677  CORREIOS - ENCOMENDA PAC             68  2017  False  \n",
       "\n",
       "[520952 rows x 13 columns]"
      ]
     },
     "execution_count": 4,
     "metadata": {},
     "output_type": "execute_result"
    }
   ],
   "source": [
    "df['l'] = df['receipt_social_security_number'].apply(lambda x : x.endswith('0'))\n",
    "\n",
    "df[df['l'] == False]"
   ]
  },
  {
   "cell_type": "markdown",
   "id": "expanded-smith",
   "metadata": {},
   "source": [
    "Como se vê acima, aparentemente os casos em que o número não termina com **.0** se deve ao fato do valor da coluna ser **nan**"
   ]
  },
  {
   "cell_type": "code",
   "execution_count": 5,
   "id": "bridal-gates",
   "metadata": {},
   "outputs": [
    {
     "data": {
      "text/html": [
       "<div>\n",
       "<style scoped>\n",
       "    .dataframe tbody tr th:only-of-type {\n",
       "        vertical-align: middle;\n",
       "    }\n",
       "\n",
       "    .dataframe tbody tr th {\n",
       "        vertical-align: top;\n",
       "    }\n",
       "\n",
       "    .dataframe thead th {\n",
       "        text-align: right;\n",
       "    }\n",
       "</style>\n",
       "<table border=\"1\" class=\"dataframe\">\n",
       "  <thead>\n",
       "    <tr style=\"text-align: right;\">\n",
       "      <th></th>\n",
       "      <th>Unnamed: 0</th>\n",
       "      <th>bugged_date</th>\n",
       "      <th>receipt_date</th>\n",
       "      <th>deputy_id</th>\n",
       "      <th>political_party</th>\n",
       "      <th>state_code</th>\n",
       "      <th>deputy_name</th>\n",
       "      <th>receipt_social_security_number</th>\n",
       "      <th>receipt_description</th>\n",
       "      <th>establishment_name</th>\n",
       "      <th>receipt_value</th>\n",
       "      <th>year</th>\n",
       "      <th>l</th>\n",
       "    </tr>\n",
       "  </thead>\n",
       "  <tbody>\n",
       "  </tbody>\n",
       "</table>\n",
       "</div>"
      ],
      "text/plain": [
       "Empty DataFrame\n",
       "Columns: [Unnamed: 0, bugged_date, receipt_date, deputy_id, political_party, state_code, deputy_name, receipt_social_security_number, receipt_description, establishment_name, receipt_value, year, l]\n",
       "Index: []"
      ]
     },
     "execution_count": 5,
     "metadata": {},
     "output_type": "execute_result"
    }
   ],
   "source": [
    "df[(df['l'] == False) & (df['receipt_social_security_number'] != 'nan')]"
   ]
  },
  {
   "cell_type": "markdown",
   "id": "apparent-diabetes",
   "metadata": {},
   "source": [
    "O que se percebe é que aqueles que não terminam com  **'.0'** é pelo fato de serem **nan** antes da conversão."
   ]
  },
  {
   "cell_type": "code",
   "execution_count": 6,
   "id": "unable-windows",
   "metadata": {},
   "outputs": [
    {
     "data": {
      "text/plain": [
       "0         4206050005140\n",
       "1         4206050005140\n",
       "2         4206050005140\n",
       "3         4206050005140\n",
       "4         2418000000131\n",
       "              ...      \n",
       "251877    2012862000160\n",
       "251878    2012862000160\n",
       "251879    2012862000160\n",
       "251880    2012862000160\n",
       "251881    2012862000160\n",
       "Name: receipt_social_security_number, Length: 3014902, dtype: object"
      ]
     },
     "execution_count": 6,
     "metadata": {},
     "output_type": "execute_result"
    }
   ],
   "source": [
    "df['receipt_social_security_number'] = df['receipt_social_security_number'].apply(lambda x : x[:-2] if x != 'nan' else x)\n",
    "\n",
    "df['receipt_social_security_number']"
   ]
  },
  {
   "cell_type": "markdown",
   "id": "retired-juvenile",
   "metadata": {},
   "source": [
    "A impressão que dá é que o CNPJ ou CPF desta coluna estão com menos dígitos que o original, um CNPJ possui 14 dígitos e um CPF 11 dígitos.\n",
    "\n",
    "Uma hipótese para isto é que CNPJs do tipo **0X.XXX.XXX/XXXX-XX,** ao serem convertidos para um número de ponto flutuante acabam tendo seus **0** à esquerda ignorados.\n"
   ]
  },
  {
   "cell_type": "code",
   "execution_count": 7,
   "id": "flush-cooperation",
   "metadata": {},
   "outputs": [
    {
     "data": {
      "text/plain": [
       "<seaborn.axisgrid.FacetGrid at 0x12cf4e1c0>"
      ]
     },
     "execution_count": 7,
     "metadata": {},
     "output_type": "execute_result"
    },
    {
     "data": {
      "image/png": "[encoded data removed]",
      "text/plain": [
       "<Figure size 360x360 with 1 Axes>"
      ]
     },
     "metadata": {
      "needs_background": "light"
     },
     "output_type": "display_data"
    }
   ],
   "source": [
    "import seaborn as sns\n",
    "\n",
    "df['rssn_length'] = df['receipt_social_security_number'].apply(lambda x : len(x))\n",
    "\n",
    "sns.displot(df, x=df['rssn_length'], bins=14)"
   ]
  },
  {
   "cell_type": "markdown",
   "id": "israeli-drama",
   "metadata": {},
   "source": [
    "O histograma mostra que de fato uma parte dos dados possuiam **0s** à esquerda quando foram convertidos perderam parte do seu comprimento, logo, ignorando os **nan**, temos uma parte dos dados com muitos dígitos faltando, um problema são os que possuem tamanha entre 8 e 11, pois podem ser, a priori, tanto CPF quanto CNPJ, sendo necessária uma verificação adicional nestes casos. Aqueles com tamanho 12 e 13, constituem CNPJs, e portanto podem ser convertidos."
   ]
  },
  {
   "cell_type": "markdown",
   "id": "asian-average",
   "metadata": {},
   "source": [
    "As colunas criadas para o tratamento de **receipt_social_security_number** não possuem relevância para outras tarefas, logo serão apagadas."
   ]
  },
  {
   "cell_type": "code",
   "execution_count": 8,
   "id": "fixed-station",
   "metadata": {},
   "outputs": [],
   "source": [
    "df.drop(columns=['rssn_length', 'l'], inplace=True)"
   ]
  },
  {
   "cell_type": "markdown",
   "id": "different-macedonia",
   "metadata": {},
   "source": [
    "#### receipt_date"
   ]
  },
  {
   "cell_type": "code",
   "execution_count": 9,
   "id": "strange-thought",
   "metadata": {},
   "outputs": [
    {
     "data": {
      "text/html": [
       "<div>\n",
       "<style scoped>\n",
       "    .dataframe tbody tr th:only-of-type {\n",
       "        vertical-align: middle;\n",
       "    }\n",
       "\n",
       "    .dataframe tbody tr th {\n",
       "        vertical-align: top;\n",
       "    }\n",
       "\n",
       "    .dataframe thead th {\n",
       "        text-align: right;\n",
       "    }\n",
       "</style>\n",
       "<table border=\"1\" class=\"dataframe\">\n",
       "  <thead>\n",
       "    <tr style=\"text-align: right;\">\n",
       "      <th></th>\n",
       "      <th>Unnamed: 0</th>\n",
       "      <th>bugged_date</th>\n",
       "      <th>receipt_date</th>\n",
       "      <th>deputy_id</th>\n",
       "      <th>political_party</th>\n",
       "      <th>state_code</th>\n",
       "      <th>deputy_name</th>\n",
       "      <th>receipt_social_security_number</th>\n",
       "      <th>receipt_description</th>\n",
       "      <th>establishment_name</th>\n",
       "      <th>receipt_value</th>\n",
       "      <th>year</th>\n",
       "      <th>month</th>\n",
       "      <th>day_of_week</th>\n",
       "    </tr>\n",
       "  </thead>\n",
       "  <tbody>\n",
       "    <tr>\n",
       "      <th>0</th>\n",
       "      <td>2753519</td>\n",
       "      <td>0</td>\n",
       "      <td>2009-05-19</td>\n",
       "      <td>1772</td>\n",
       "      <td>PSB</td>\n",
       "      <td>SP</td>\n",
       "      <td>Abelardo Camarinha</td>\n",
       "      <td>4206050005140</td>\n",
       "      <td>Maintenance of Office</td>\n",
       "      <td>TIM CELULAR S/A</td>\n",
       "      <td>411</td>\n",
       "      <td>2009</td>\n",
       "      <td>5</td>\n",
       "      <td>1</td>\n",
       "    </tr>\n",
       "    <tr>\n",
       "      <th>1</th>\n",
       "      <td>2753520</td>\n",
       "      <td>0</td>\n",
       "      <td>2009-05-19</td>\n",
       "      <td>1772</td>\n",
       "      <td>PSB</td>\n",
       "      <td>SP</td>\n",
       "      <td>Abelardo Camarinha</td>\n",
       "      <td>4206050005140</td>\n",
       "      <td>Maintenance of Office</td>\n",
       "      <td>TIM CELULAR S/A</td>\n",
       "      <td>429</td>\n",
       "      <td>2009</td>\n",
       "      <td>5</td>\n",
       "      <td>1</td>\n",
       "    </tr>\n",
       "    <tr>\n",
       "      <th>2</th>\n",
       "      <td>2753521</td>\n",
       "      <td>0</td>\n",
       "      <td>2009-05-19</td>\n",
       "      <td>1772</td>\n",
       "      <td>PSB</td>\n",
       "      <td>SP</td>\n",
       "      <td>Abelardo Camarinha</td>\n",
       "      <td>4206050005140</td>\n",
       "      <td>Maintenance of Office</td>\n",
       "      <td>TIM CELULAR S/A</td>\n",
       "      <td>109</td>\n",
       "      <td>2009</td>\n",
       "      <td>5</td>\n",
       "      <td>1</td>\n",
       "    </tr>\n",
       "    <tr>\n",
       "      <th>3</th>\n",
       "      <td>2753522</td>\n",
       "      <td>0</td>\n",
       "      <td>2009-05-19</td>\n",
       "      <td>1772</td>\n",
       "      <td>PSB</td>\n",
       "      <td>SP</td>\n",
       "      <td>Abelardo Camarinha</td>\n",
       "      <td>4206050005140</td>\n",
       "      <td>Maintenance of Office</td>\n",
       "      <td>TIM CELULAR S/A</td>\n",
       "      <td>68</td>\n",
       "      <td>2009</td>\n",
       "      <td>5</td>\n",
       "      <td>1</td>\n",
       "    </tr>\n",
       "    <tr>\n",
       "      <th>4</th>\n",
       "      <td>2753523</td>\n",
       "      <td>0</td>\n",
       "      <td>2009-09-25</td>\n",
       "      <td>1772</td>\n",
       "      <td>PSB</td>\n",
       "      <td>SP</td>\n",
       "      <td>Abelardo Camarinha</td>\n",
       "      <td>2418000000131</td>\n",
       "      <td>Fuels and lubricants.</td>\n",
       "      <td>AUTO POSTO ALVORADA</td>\n",
       "      <td>4395</td>\n",
       "      <td>2009</td>\n",
       "      <td>9</td>\n",
       "      <td>4</td>\n",
       "    </tr>\n",
       "  </tbody>\n",
       "</table>\n",
       "</div>"
      ],
      "text/plain": [
       "   Unnamed: 0  bugged_date receipt_date  deputy_id political_party state_code  \\\n",
       "0     2753519            0   2009-05-19       1772             PSB         SP   \n",
       "1     2753520            0   2009-05-19       1772             PSB         SP   \n",
       "2     2753521            0   2009-05-19       1772             PSB         SP   \n",
       "3     2753522            0   2009-05-19       1772             PSB         SP   \n",
       "4     2753523            0   2009-09-25       1772             PSB         SP   \n",
       "\n",
       "          deputy_name receipt_social_security_number    receipt_description  \\\n",
       "0  Abelardo Camarinha                  4206050005140  Maintenance of Office   \n",
       "1  Abelardo Camarinha                  4206050005140  Maintenance of Office   \n",
       "2  Abelardo Camarinha                  4206050005140  Maintenance of Office   \n",
       "3  Abelardo Camarinha                  4206050005140  Maintenance of Office   \n",
       "4  Abelardo Camarinha                  2418000000131  Fuels and lubricants.   \n",
       "\n",
       "    establishment_name  receipt_value  year  month  day_of_week  \n",
       "0      TIM CELULAR S/A            411  2009      5            1  \n",
       "1      TIM CELULAR S/A            429  2009      5            1  \n",
       "2      TIM CELULAR S/A            109  2009      5            1  \n",
       "3      TIM CELULAR S/A             68  2009      5            1  \n",
       "4  AUTO POSTO ALVORADA           4395  2009      9            4  "
      ]
     },
     "execution_count": 9,
     "metadata": {},
     "output_type": "execute_result"
    }
   ],
   "source": [
    "df['receipt_date'] = pd.to_datetime(df['receipt_date'])\n",
    "\n",
    "df['month'] = df['receipt_date'].dt.month\n",
    "df['day_of_week'] = df['receipt_date'].dt.dayofweek\n",
    "\n",
    "df.head(5)"
   ]
  },
  {
   "cell_type": "markdown",
   "id": "competent-perspective",
   "metadata": {},
   "source": [
    "Os dados foram transformado para o tipo datetime."
   ]
  },
  {
   "cell_type": "markdown",
   "id": "local-proposition",
   "metadata": {},
   "source": [
    "#### receipt_value"
   ]
  },
  {
   "cell_type": "code",
   "execution_count": 10,
   "id": "distinct-firmware",
   "metadata": {},
   "outputs": [
    {
     "data": {
      "text/plain": [
       "<seaborn.axisgrid.FacetGrid at 0x10d8e8760>"
      ]
     },
     "execution_count": 10,
     "metadata": {},
     "output_type": "execute_result"
    },
    {
     "data": {
      "image/png": "[encoded data removed]",
      "text/plain": [
       "<Figure size 360x360 with 1 Axes>"
      ]
     },
     "metadata": {
      "needs_background": "light"
     },
     "output_type": "display_data"
    }
   ],
   "source": [
    "sns.displot(df, x=\"receipt_value\", bins=20)"
   ]
  },
  {
   "cell_type": "code",
   "execution_count": 11,
   "id": "parental-trouble",
   "metadata": {},
   "outputs": [
    {
     "data": {
      "text/plain": [
       "<seaborn.axisgrid.FacetGrid at 0x135ef6490>"
      ]
     },
     "execution_count": 11,
     "metadata": {},
     "output_type": "execute_result"
    },
    {
     "data": {
      "image/png": "[encoded data removed]",
      "text/plain": [
       "<Figure size 360x360 with 1 Axes>"
      ]
     },
     "metadata": {
      "needs_background": "light"
     },
     "output_type": "display_data"
    }
   ],
   "source": [
    "import numpy as np\n",
    "\n",
    "df_receipt = df[df[\"receipt_value\"] > 0].copy()\n",
    "df_receipt[\"LogReceipt\"] = np.log10(df_receipt[\"receipt_value\"])\n",
    "sns.displot(df_receipt, x=\"LogReceipt\", bins=20)"
   ]
  },
  {
   "cell_type": "code",
   "execution_count": 12,
   "id": "absolute-stranger",
   "metadata": {},
   "outputs": [
    {
     "data": {
      "text/html": [
       "<div>\n",
       "<style scoped>\n",
       "    .dataframe tbody tr th:only-of-type {\n",
       "        vertical-align: middle;\n",
       "    }\n",
       "\n",
       "    .dataframe tbody tr th {\n",
       "        vertical-align: top;\n",
       "    }\n",
       "\n",
       "    .dataframe thead th {\n",
       "        text-align: right;\n",
       "    }\n",
       "</style>\n",
       "<table border=\"1\" class=\"dataframe\">\n",
       "  <thead>\n",
       "    <tr style=\"text-align: right;\">\n",
       "      <th></th>\n",
       "      <th>Unnamed: 0</th>\n",
       "      <th>bugged_date</th>\n",
       "      <th>receipt_date</th>\n",
       "      <th>deputy_id</th>\n",
       "      <th>political_party</th>\n",
       "      <th>state_code</th>\n",
       "      <th>deputy_name</th>\n",
       "      <th>receipt_social_security_number</th>\n",
       "      <th>receipt_description</th>\n",
       "      <th>establishment_name</th>\n",
       "      <th>receipt_value</th>\n",
       "      <th>year</th>\n",
       "      <th>month</th>\n",
       "      <th>day_of_week</th>\n",
       "      <th>LogReceipt</th>\n",
       "    </tr>\n",
       "  </thead>\n",
       "  <tbody>\n",
       "    <tr>\n",
       "      <th>34449</th>\n",
       "      <td>1479100</td>\n",
       "      <td>0</td>\n",
       "      <td>2012-12-14</td>\n",
       "      <td>292</td>\n",
       "      <td>PTB</td>\n",
       "      <td>SP</td>\n",
       "      <td>Arnaldo Faria De Sá</td>\n",
       "      <td>5511195000158</td>\n",
       "      <td>Dissemination of the Parliamentary Activity.</td>\n",
       "      <td>BALCOLOR DIGITAL ATELIER GRAFICO LTDA</td>\n",
       "      <td>215000</td>\n",
       "      <td>2012</td>\n",
       "      <td>12</td>\n",
       "      <td>4</td>\n",
       "      <td>5.332438</td>\n",
       "    </tr>\n",
       "    <tr>\n",
       "      <th>30802</th>\n",
       "      <td>390710</td>\n",
       "      <td>0</td>\n",
       "      <td>2014-12-19</td>\n",
       "      <td>292</td>\n",
       "      <td>PTB</td>\n",
       "      <td>SP</td>\n",
       "      <td>Arnaldo Faria De Sá</td>\n",
       "      <td>54450705000130</td>\n",
       "      <td>Dissemination of the Parliamentary Activity.</td>\n",
       "      <td>GRAFICA TRES PONTAS</td>\n",
       "      <td>208320</td>\n",
       "      <td>2014</td>\n",
       "      <td>12</td>\n",
       "      <td>4</td>\n",
       "      <td>5.318731</td>\n",
       "    </tr>\n",
       "    <tr>\n",
       "      <th>34364</th>\n",
       "      <td>34364</td>\n",
       "      <td>0</td>\n",
       "      <td>2013-12-27</td>\n",
       "      <td>292</td>\n",
       "      <td>PTB</td>\n",
       "      <td>SP</td>\n",
       "      <td>Arnaldo Faria De Sá</td>\n",
       "      <td>5511195000158</td>\n",
       "      <td>Dissemination of the Parliamentary Activity.</td>\n",
       "      <td>BALCOLOR DIGITAL ATELIER GRAFICO LTDA</td>\n",
       "      <td>197370</td>\n",
       "      <td>2013</td>\n",
       "      <td>12</td>\n",
       "      <td>4</td>\n",
       "      <td>5.295281</td>\n",
       "    </tr>\n",
       "    <tr>\n",
       "      <th>36334</th>\n",
       "      <td>724095</td>\n",
       "      <td>0</td>\n",
       "      <td>2011-12-19</td>\n",
       "      <td>292</td>\n",
       "      <td>PTB</td>\n",
       "      <td>SP</td>\n",
       "      <td>Arnaldo Faria De Sá</td>\n",
       "      <td>5511195000158</td>\n",
       "      <td>Dissemination of the Parliamentary Activity.</td>\n",
       "      <td>BALCOLOR</td>\n",
       "      <td>197000</td>\n",
       "      <td>2011</td>\n",
       "      <td>12</td>\n",
       "      <td>0</td>\n",
       "      <td>5.294466</td>\n",
       "    </tr>\n",
       "    <tr>\n",
       "      <th>35989</th>\n",
       "      <td>723750</td>\n",
       "      <td>0</td>\n",
       "      <td>2011-12-26</td>\n",
       "      <td>974</td>\n",
       "      <td>PT</td>\n",
       "      <td>SP</td>\n",
       "      <td>Arlindo Chinaglia</td>\n",
       "      <td>9023310000104</td>\n",
       "      <td>Dissemination of the Parliamentary Activity.</td>\n",
       "      <td>ALL WIN PROPAGANDA LTDA</td>\n",
       "      <td>194100</td>\n",
       "      <td>2011</td>\n",
       "      <td>12</td>\n",
       "      <td>0</td>\n",
       "      <td>5.288026</td>\n",
       "    </tr>\n",
       "  </tbody>\n",
       "</table>\n",
       "</div>"
      ],
      "text/plain": [
       "       Unnamed: 0  bugged_date receipt_date  deputy_id political_party  \\\n",
       "34449     1479100            0   2012-12-14        292             PTB   \n",
       "30802      390710            0   2014-12-19        292             PTB   \n",
       "34364       34364            0   2013-12-27        292             PTB   \n",
       "36334      724095            0   2011-12-19        292             PTB   \n",
       "35989      723750            0   2011-12-26        974              PT   \n",
       "\n",
       "      state_code          deputy_name receipt_social_security_number  \\\n",
       "34449         SP  Arnaldo Faria De Sá                  5511195000158   \n",
       "30802         SP  Arnaldo Faria De Sá                 54450705000130   \n",
       "34364         SP  Arnaldo Faria De Sá                  5511195000158   \n",
       "36334         SP  Arnaldo Faria De Sá                  5511195000158   \n",
       "35989         SP    Arlindo Chinaglia                  9023310000104   \n",
       "\n",
       "                                receipt_description  \\\n",
       "34449  Dissemination of the Parliamentary Activity.   \n",
       "30802  Dissemination of the Parliamentary Activity.   \n",
       "34364  Dissemination of the Parliamentary Activity.   \n",
       "36334  Dissemination of the Parliamentary Activity.   \n",
       "35989  Dissemination of the Parliamentary Activity.   \n",
       "\n",
       "                          establishment_name  receipt_value  year  month  \\\n",
       "34449  BALCOLOR DIGITAL ATELIER GRAFICO LTDA         215000  2012     12   \n",
       "30802                    GRAFICA TRES PONTAS         208320  2014     12   \n",
       "34364  BALCOLOR DIGITAL ATELIER GRAFICO LTDA         197370  2013     12   \n",
       "36334                               BALCOLOR         197000  2011     12   \n",
       "35989                ALL WIN PROPAGANDA LTDA         194100  2011     12   \n",
       "\n",
       "       day_of_week  LogReceipt  \n",
       "34449            4    5.332438  \n",
       "30802            4    5.318731  \n",
       "34364            4    5.295281  \n",
       "36334            0    5.294466  \n",
       "35989            0    5.288026  "
      ]
     },
     "execution_count": 12,
     "metadata": {},
     "output_type": "execute_result"
    }
   ],
   "source": [
    "df_receipt.sort_values(\"receipt_value\", ascending=False).head(5)"
   ]
  },
  {
   "cell_type": "markdown",
   "id": "incoming-duplicate",
   "metadata": {},
   "source": [
    "Foi realizado um realiza um redimesionamento para reduzir a diferença proporcional."
   ]
  },
  {
   "cell_type": "markdown",
   "id": "endless-session",
   "metadata": {},
   "source": [
    "### Limpeza de Dados"
   ]
  },
  {
   "cell_type": "markdown",
   "id": "abroad-radar",
   "metadata": {},
   "source": [
    "A limpeza na base de dados envolveu procurar uma forma de preencher dados ausentes, remoção de colunas e dados duplicados. Sendo as etapas descritas a seguir."
   ]
  },
  {
   "cell_type": "markdown",
   "id": "permanent-leeds",
   "metadata": {},
   "source": [
    "#### Dados Faltantes"
   ]
  },
  {
   "cell_type": "code",
   "execution_count": 13,
   "id": "direct-wildlife",
   "metadata": {},
   "outputs": [
    {
     "data": {
      "text/plain": [
       "Unnamed: 0                        0\n",
       "bugged_date                       0\n",
       "receipt_date                      0\n",
       "deputy_id                         0\n",
       "political_party                   0\n",
       "state_code                        0\n",
       "deputy_name                       0\n",
       "receipt_social_security_number    0\n",
       "receipt_description               0\n",
       "establishment_name                0\n",
       "receipt_value                     0\n",
       "year                              0\n",
       "month                             0\n",
       "day_of_week                       0\n",
       "dtype: int64"
      ]
     },
     "execution_count": 13,
     "metadata": {},
     "output_type": "execute_result"
    }
   ],
   "source": [
    "df.isnull().sum()"
   ]
  },
  {
   "cell_type": "markdown",
   "id": "elementary-interest",
   "metadata": {},
   "source": [
    "Pela saída do método **isnull** temos que nenhum dado está faltando, mas isso é um engano, pois como visto antes, os dados em **receipt_social_security_number** que eram nan foram convertidos para a string \"nan\", de forma similar, vimos durante o notebook de visualização de dados que existe um estado chamado \"Vazio\" em **state_code**, que provavelmente serve para denotar quando não se tem a informação do estado do tal parlamentar. Vejamos mais sobre o caso de **state_code**:"
   ]
  },
  {
   "cell_type": "code",
   "execution_count": 14,
   "id": "social-renewal",
   "metadata": {},
   "outputs": [
    {
     "data": {
      "text/html": [
       "<div>\n",
       "<style scoped>\n",
       "    .dataframe tbody tr th:only-of-type {\n",
       "        vertical-align: middle;\n",
       "    }\n",
       "\n",
       "    .dataframe tbody tr th {\n",
       "        vertical-align: top;\n",
       "    }\n",
       "\n",
       "    .dataframe thead th {\n",
       "        text-align: right;\n",
       "    }\n",
       "</style>\n",
       "<table border=\"1\" class=\"dataframe\">\n",
       "  <thead>\n",
       "    <tr style=\"text-align: right;\">\n",
       "      <th></th>\n",
       "      <th>Unnamed: 0</th>\n",
       "      <th>bugged_date</th>\n",
       "      <th>receipt_date</th>\n",
       "      <th>deputy_id</th>\n",
       "      <th>political_party</th>\n",
       "      <th>state_code</th>\n",
       "      <th>deputy_name</th>\n",
       "      <th>receipt_social_security_number</th>\n",
       "      <th>receipt_description</th>\n",
       "      <th>establishment_name</th>\n",
       "      <th>receipt_value</th>\n",
       "      <th>year</th>\n",
       "      <th>month</th>\n",
       "      <th>day_of_week</th>\n",
       "    </tr>\n",
       "  </thead>\n",
       "  <tbody>\n",
       "    <tr>\n",
       "      <th>25412</th>\n",
       "      <td>2778931</td>\n",
       "      <td>0</td>\n",
       "      <td>2009-07-25</td>\n",
       "      <td>1543</td>\n",
       "      <td>SEM PARTIDO ASSOCIADO</td>\n",
       "      <td>Vazio</td>\n",
       "      <td>Athos Avelino</td>\n",
       "      <td>7575651000159</td>\n",
       "      <td>Airline tickets</td>\n",
       "      <td>Cia Aerea - GOL</td>\n",
       "      <td>334</td>\n",
       "      <td>2009</td>\n",
       "      <td>7</td>\n",
       "      <td>5</td>\n",
       "    </tr>\n",
       "    <tr>\n",
       "      <th>83815</th>\n",
       "      <td>2837334</td>\n",
       "      <td>0</td>\n",
       "      <td>2009-07-07</td>\n",
       "      <td>1757</td>\n",
       "      <td>SEM PARTIDO ASSOCIADO</td>\n",
       "      <td>Vazio</td>\n",
       "      <td>Fernando Estima</td>\n",
       "      <td>7575651000159</td>\n",
       "      <td>Airline tickets</td>\n",
       "      <td>Cia Aerea - GOL</td>\n",
       "      <td>539</td>\n",
       "      <td>2009</td>\n",
       "      <td>7</td>\n",
       "      <td>1</td>\n",
       "    </tr>\n",
       "    <tr>\n",
       "      <th>117164</th>\n",
       "      <td>2870683</td>\n",
       "      <td>0</td>\n",
       "      <td>2009-10-15</td>\n",
       "      <td>1673</td>\n",
       "      <td>SEM PARTIDO ASSOCIADO</td>\n",
       "      <td>Vazio</td>\n",
       "      <td>João Fontes</td>\n",
       "      <td>7575651000159</td>\n",
       "      <td>Airline tickets</td>\n",
       "      <td>Cia Aerea - GOL</td>\n",
       "      <td>149</td>\n",
       "      <td>2009</td>\n",
       "      <td>10</td>\n",
       "      <td>3</td>\n",
       "    </tr>\n",
       "    <tr>\n",
       "      <th>154597</th>\n",
       "      <td>2908116</td>\n",
       "      <td>0</td>\n",
       "      <td>2009-08-14</td>\n",
       "      <td>681</td>\n",
       "      <td>SEM PARTIDO ASSOCIADO</td>\n",
       "      <td>Vazio</td>\n",
       "      <td>Luiz Moreira</td>\n",
       "      <td>7575651000159</td>\n",
       "      <td>Airline tickets</td>\n",
       "      <td>Cia Aerea - GOL</td>\n",
       "      <td>398</td>\n",
       "      <td>2009</td>\n",
       "      <td>8</td>\n",
       "      <td>4</td>\n",
       "    </tr>\n",
       "    <tr>\n",
       "      <th>154598</th>\n",
       "      <td>2908117</td>\n",
       "      <td>0</td>\n",
       "      <td>2009-08-14</td>\n",
       "      <td>681</td>\n",
       "      <td>SEM PARTIDO ASSOCIADO</td>\n",
       "      <td>Vazio</td>\n",
       "      <td>Luiz Moreira</td>\n",
       "      <td>7575651000159</td>\n",
       "      <td>Airline tickets</td>\n",
       "      <td>Cia Aerea - GOL</td>\n",
       "      <td>678</td>\n",
       "      <td>2009</td>\n",
       "      <td>8</td>\n",
       "      <td>4</td>\n",
       "    </tr>\n",
       "    <tr>\n",
       "      <th>...</th>\n",
       "      <td>...</td>\n",
       "      <td>...</td>\n",
       "      <td>...</td>\n",
       "      <td>...</td>\n",
       "      <td>...</td>\n",
       "      <td>...</td>\n",
       "      <td>...</td>\n",
       "      <td>...</td>\n",
       "      <td>...</td>\n",
       "      <td>...</td>\n",
       "      <td>...</td>\n",
       "      <td>...</td>\n",
       "      <td>...</td>\n",
       "      <td>...</td>\n",
       "    </tr>\n",
       "    <tr>\n",
       "      <th>219116</th>\n",
       "      <td>2017961</td>\n",
       "      <td>0</td>\n",
       "      <td>2017-09-14</td>\n",
       "      <td>2864</td>\n",
       "      <td>SEM PARTIDO ASSOCIADO</td>\n",
       "      <td>Vazio</td>\n",
       "      <td>Sdd</td>\n",
       "      <td>23517924000165</td>\n",
       "      <td>Food and Meals</td>\n",
       "      <td>WASHINGTON KLAY CARDOSO</td>\n",
       "      <td>1850</td>\n",
       "      <td>2017</td>\n",
       "      <td>9</td>\n",
       "      <td>3</td>\n",
       "    </tr>\n",
       "    <tr>\n",
       "      <th>219117</th>\n",
       "      <td>2017962</td>\n",
       "      <td>0</td>\n",
       "      <td>2017-09-14</td>\n",
       "      <td>2864</td>\n",
       "      <td>SEM PARTIDO ASSOCIADO</td>\n",
       "      <td>Vazio</td>\n",
       "      <td>Sdd</td>\n",
       "      <td>23517924000165</td>\n",
       "      <td>Food and Meals</td>\n",
       "      <td>WASHINGTON KLAY CARDOSO</td>\n",
       "      <td>2000</td>\n",
       "      <td>2017</td>\n",
       "      <td>9</td>\n",
       "      <td>3</td>\n",
       "    </tr>\n",
       "    <tr>\n",
       "      <th>219118</th>\n",
       "      <td>2017963</td>\n",
       "      <td>0</td>\n",
       "      <td>2017-09-14</td>\n",
       "      <td>2864</td>\n",
       "      <td>SEM PARTIDO ASSOCIADO</td>\n",
       "      <td>Vazio</td>\n",
       "      <td>Sdd</td>\n",
       "      <td>23517924000165</td>\n",
       "      <td>Food and Meals</td>\n",
       "      <td>WASHINGTON KLAY CARDOSO</td>\n",
       "      <td>1600</td>\n",
       "      <td>2017</td>\n",
       "      <td>9</td>\n",
       "      <td>3</td>\n",
       "    </tr>\n",
       "    <tr>\n",
       "      <th>219119</th>\n",
       "      <td>2017964</td>\n",
       "      <td>0</td>\n",
       "      <td>2017-04-05</td>\n",
       "      <td>2864</td>\n",
       "      <td>SEM PARTIDO ASSOCIADO</td>\n",
       "      <td>Vazio</td>\n",
       "      <td>Sdd</td>\n",
       "      <td>31708000100</td>\n",
       "      <td>Taxi Service, Toll &amp; Parking</td>\n",
       "      <td>SINPETAXI</td>\n",
       "      <td>50</td>\n",
       "      <td>2017</td>\n",
       "      <td>4</td>\n",
       "      <td>2</td>\n",
       "    </tr>\n",
       "    <tr>\n",
       "      <th>219120</th>\n",
       "      <td>2017965</td>\n",
       "      <td>0</td>\n",
       "      <td>2017-04-05</td>\n",
       "      <td>2864</td>\n",
       "      <td>SEM PARTIDO ASSOCIADO</td>\n",
       "      <td>Vazio</td>\n",
       "      <td>Sdd</td>\n",
       "      <td>31708000100</td>\n",
       "      <td>Taxi Service, Toll &amp; Parking</td>\n",
       "      <td>SINPETAXI</td>\n",
       "      <td>52</td>\n",
       "      <td>2017</td>\n",
       "      <td>4</td>\n",
       "      <td>2</td>\n",
       "    </tr>\n",
       "  </tbody>\n",
       "</table>\n",
       "<p>3563 rows × 14 columns</p>\n",
       "</div>"
      ],
      "text/plain": [
       "        Unnamed: 0  bugged_date receipt_date  deputy_id  \\\n",
       "25412      2778931            0   2009-07-25       1543   \n",
       "83815      2837334            0   2009-07-07       1757   \n",
       "117164     2870683            0   2009-10-15       1673   \n",
       "154597     2908116            0   2009-08-14        681   \n",
       "154598     2908117            0   2009-08-14        681   \n",
       "...            ...          ...          ...        ...   \n",
       "219116     2017961            0   2017-09-14       2864   \n",
       "219117     2017962            0   2017-09-14       2864   \n",
       "219118     2017963            0   2017-09-14       2864   \n",
       "219119     2017964            0   2017-04-05       2864   \n",
       "219120     2017965            0   2017-04-05       2864   \n",
       "\n",
       "              political_party state_code      deputy_name  \\\n",
       "25412   SEM PARTIDO ASSOCIADO      Vazio    Athos Avelino   \n",
       "83815   SEM PARTIDO ASSOCIADO      Vazio  Fernando Estima   \n",
       "117164  SEM PARTIDO ASSOCIADO      Vazio      João Fontes   \n",
       "154597  SEM PARTIDO ASSOCIADO      Vazio     Luiz Moreira   \n",
       "154598  SEM PARTIDO ASSOCIADO      Vazio     Luiz Moreira   \n",
       "...                       ...        ...              ...   \n",
       "219116  SEM PARTIDO ASSOCIADO      Vazio              Sdd   \n",
       "219117  SEM PARTIDO ASSOCIADO      Vazio              Sdd   \n",
       "219118  SEM PARTIDO ASSOCIADO      Vazio              Sdd   \n",
       "219119  SEM PARTIDO ASSOCIADO      Vazio              Sdd   \n",
       "219120  SEM PARTIDO ASSOCIADO      Vazio              Sdd   \n",
       "\n",
       "       receipt_social_security_number           receipt_description  \\\n",
       "25412                   7575651000159               Airline tickets   \n",
       "83815                   7575651000159               Airline tickets   \n",
       "117164                  7575651000159               Airline tickets   \n",
       "154597                  7575651000159               Airline tickets   \n",
       "154598                  7575651000159               Airline tickets   \n",
       "...                               ...                           ...   \n",
       "219116                 23517924000165                Food and Meals   \n",
       "219117                 23517924000165                Food and Meals   \n",
       "219118                 23517924000165                Food and Meals   \n",
       "219119                    31708000100  Taxi Service, Toll & Parking   \n",
       "219120                    31708000100  Taxi Service, Toll & Parking   \n",
       "\n",
       "             establishment_name  receipt_value  year  month  day_of_week  \n",
       "25412           Cia Aerea - GOL            334  2009      7            5  \n",
       "83815           Cia Aerea - GOL            539  2009      7            1  \n",
       "117164          Cia Aerea - GOL            149  2009     10            3  \n",
       "154597          Cia Aerea - GOL            398  2009      8            4  \n",
       "154598          Cia Aerea - GOL            678  2009      8            4  \n",
       "...                         ...            ...   ...    ...          ...  \n",
       "219116  WASHINGTON KLAY CARDOSO           1850  2017      9            3  \n",
       "219117  WASHINGTON KLAY CARDOSO           2000  2017      9            3  \n",
       "219118  WASHINGTON KLAY CARDOSO           1600  2017      9            3  \n",
       "219119                SINPETAXI             50  2017      4            2  \n",
       "219120                SINPETAXI             52  2017      4            2  \n",
       "\n",
       "[3563 rows x 14 columns]"
      ]
     },
     "execution_count": 14,
     "metadata": {},
     "output_type": "execute_result"
    }
   ],
   "source": [
    "df[df['state_code'] == 'Vazio']"
   ]
  },
  {
   "cell_type": "markdown",
   "id": "adjacent-venezuela",
   "metadata": {},
   "source": [
    "Percebe-se que a coluna **political_party** também possui uma label para identificar a ausência de partido, contudo, o que chama a atenção é que em **deputy_name**, estão sendo utilizadas siglas, provavelmente sendo do gabinete de um partido ou algo similar. Vejamos quais são os nomes de deputados que estão associados à linhas onde o **state_code** e **political_party** assumem valores \"nulos\"."
   ]
  },
  {
   "cell_type": "code",
   "execution_count": 15,
   "id": "monetary-adult",
   "metadata": {},
   "outputs": [
    {
     "data": {
      "text/plain": [
       "array(['Athos Avelino', 'Fernando Estima', 'João Fontes', 'Luiz Moreira',\n",
       "       'Professor Luizinho', 'Liderança Do Psdb', 'Liderança Do Pt',\n",
       "       'Pdt', 'Pros', 'Sdd', 'Lid.Gov-Cd', 'Phs', 'Psol', 'Ptn',\n",
       "       'Lid.Gov-Cn', 'Pode'], dtype=object)"
      ]
     },
     "execution_count": 15,
     "metadata": {},
     "output_type": "execute_result"
    }
   ],
   "source": [
    "df[(df['state_code'] == 'Vazio') & (df['political_party'] == 'SEM PARTIDO ASSOCIADO')]['deputy_name'].unique()"
   ]
  },
  {
   "cell_type": "markdown",
   "id": "durable-review",
   "metadata": {},
   "source": [
    "Percebe-se que há o caso de deputados de verdade que possuem seu estado e partido ausentes, mas também, de partidos e bancadas, como é o caso de, por exemplo, Ptn. Deixaremos esses dados separados dos demais."
   ]
  },
  {
   "cell_type": "code",
   "execution_count": 16,
   "id": "isolated-dover",
   "metadata": {},
   "outputs": [],
   "source": [
    "deputy_names_to_drop = ['Sdd', 'Pdt', 'Pros', 'Phs', 'Psol', 'Ptn', 'Pode', 'Liderança Do Psdb', 'Liderança Do Pt', 'Lid.Gov-Cd', 'Lid.Gov-Cn']"
   ]
  },
  {
   "cell_type": "markdown",
   "id": "tutorial-horizon",
   "metadata": {},
   "source": [
    "A função **get_na** vai nos dizer a verdadeira quantidade de dados ausentes nas colunas mencionadas anteriormente."
   ]
  },
  {
   "cell_type": "code",
   "execution_count": 17,
   "id": "trained-fellowship",
   "metadata": {},
   "outputs": [
    {
     "name": "stdout",
     "output_type": "stream",
     "text": [
      "Dados faltantes\n",
      "deputy_name: 3556\n",
      "state_code: 3563\n",
      "political_party: 3563\n",
      "receipt_social_security_number: 520952\n"
     ]
    }
   ],
   "source": [
    "def get_na(df):\n",
    "    na_deputy_name = len(df[df['deputy_name'].isin(deputy_names_to_drop)])\n",
    "    na_state_code = len(df[df['state_code'] == 'Vazio'])\n",
    "    na_political_party = len(df[df['political_party'] == 'SEM PARTIDO ASSOCIADO'])\n",
    "    na_ssn = len(df[df['receipt_social_security_number'] == 'nan'])\n",
    "    print('Dados faltantes\\ndeputy_name: %d\\nstate_code: %d\\npolitical_party: %d\\nreceipt_social_security_number: %d' % \n",
    "          (na_deputy_name, na_state_code, na_political_party, na_ssn))\n",
    "    \n",
    "get_na(df)\n"
   ]
  },
  {
   "cell_type": "markdown",
   "id": "superb-immunology",
   "metadata": {},
   "source": [
    "Agora vamos separar os dados dos partidos/bancadas e dos deputados:"
   ]
  },
  {
   "cell_type": "code",
   "execution_count": 18,
   "id": "thrown-stage",
   "metadata": {},
   "outputs": [
    {
     "name": "stdout",
     "output_type": "stream",
     "text": [
      "Dados faltantes\n",
      "deputy_name: 0\n",
      "state_code: 7\n",
      "political_party: 7\n",
      "receipt_social_security_number: 520952\n",
      "\n",
      "\n",
      "Dados faltantes\n",
      "deputy_name: 3556\n",
      "state_code: 3556\n",
      "political_party: 3556\n",
      "receipt_social_security_number: 0\n"
     ]
    }
   ],
   "source": [
    "df_parties = df[df['deputy_name'].isin(deputy_names_to_drop)]\n",
    "\n",
    "df = df[(~df['deputy_name'].isin(deputy_names_to_drop)) | (df['state_code'] != 'Vazio') | (df['political_party'] != 'SEM PARTIDO ASSOCIADO')]\n",
    "\n",
    "get_na(df)\n",
    "print('\\n')\n",
    "get_na(df_parties)\n"
   ]
  },
  {
   "cell_type": "code",
   "execution_count": 19,
   "id": "hairy-control",
   "metadata": {},
   "outputs": [
    {
     "name": "stdout",
     "output_type": "stream",
     "text": [
      "3556\n"
     ]
    }
   ],
   "source": [
    "print(len(df_parties))"
   ]
  },
  {
   "cell_type": "markdown",
   "id": "coordinate-toyota",
   "metadata": {},
   "source": [
    "Percebe-se que todas as linhas de **df_parties** não possuem valores para **state_code** e **political_party**, mas é de se esperar, uma vez que um partido não tem estado ou não, e o partido está incluso no nome. Uma ressalva é que apesar da função acusar a falta de dados em **deputy_name**, isso ocorre para ela assumir como ausência de dados nessa coluna quando o nome é de um partido.\n",
    "\n",
    "Em relação aos deputados vejamos os casos.\n"
   ]
  },
  {
   "cell_type": "code",
   "execution_count": 20,
   "id": "racial-seeking",
   "metadata": {},
   "outputs": [
    {
     "data": {
      "text/html": [
       "<div>\n",
       "<style scoped>\n",
       "    .dataframe tbody tr th:only-of-type {\n",
       "        vertical-align: middle;\n",
       "    }\n",
       "\n",
       "    .dataframe tbody tr th {\n",
       "        vertical-align: top;\n",
       "    }\n",
       "\n",
       "    .dataframe thead th {\n",
       "        text-align: right;\n",
       "    }\n",
       "</style>\n",
       "<table border=\"1\" class=\"dataframe\">\n",
       "  <thead>\n",
       "    <tr style=\"text-align: right;\">\n",
       "      <th></th>\n",
       "      <th>Unnamed: 0</th>\n",
       "      <th>bugged_date</th>\n",
       "      <th>receipt_date</th>\n",
       "      <th>deputy_id</th>\n",
       "      <th>political_party</th>\n",
       "      <th>state_code</th>\n",
       "      <th>deputy_name</th>\n",
       "      <th>receipt_social_security_number</th>\n",
       "      <th>receipt_description</th>\n",
       "      <th>establishment_name</th>\n",
       "      <th>receipt_value</th>\n",
       "      <th>year</th>\n",
       "      <th>month</th>\n",
       "      <th>day_of_week</th>\n",
       "    </tr>\n",
       "  </thead>\n",
       "  <tbody>\n",
       "    <tr>\n",
       "      <th>25412</th>\n",
       "      <td>2778931</td>\n",
       "      <td>0</td>\n",
       "      <td>2009-07-25 00:00:00</td>\n",
       "      <td>1543</td>\n",
       "      <td>SEM PARTIDO ASSOCIADO</td>\n",
       "      <td>Vazio</td>\n",
       "      <td>Athos Avelino</td>\n",
       "      <td>7575651000159</td>\n",
       "      <td>Airline tickets</td>\n",
       "      <td>Cia Aerea - GOL</td>\n",
       "      <td>334</td>\n",
       "      <td>2009</td>\n",
       "      <td>7</td>\n",
       "      <td>5</td>\n",
       "    </tr>\n",
       "    <tr>\n",
       "      <th>83815</th>\n",
       "      <td>2837334</td>\n",
       "      <td>0</td>\n",
       "      <td>2009-07-07 00:00:00</td>\n",
       "      <td>1757</td>\n",
       "      <td>SEM PARTIDO ASSOCIADO</td>\n",
       "      <td>Vazio</td>\n",
       "      <td>Fernando Estima</td>\n",
       "      <td>7575651000159</td>\n",
       "      <td>Airline tickets</td>\n",
       "      <td>Cia Aerea - GOL</td>\n",
       "      <td>539</td>\n",
       "      <td>2009</td>\n",
       "      <td>7</td>\n",
       "      <td>1</td>\n",
       "    </tr>\n",
       "    <tr>\n",
       "      <th>117164</th>\n",
       "      <td>2870683</td>\n",
       "      <td>0</td>\n",
       "      <td>2009-10-15 00:00:00</td>\n",
       "      <td>1673</td>\n",
       "      <td>SEM PARTIDO ASSOCIADO</td>\n",
       "      <td>Vazio</td>\n",
       "      <td>João Fontes</td>\n",
       "      <td>7575651000159</td>\n",
       "      <td>Airline tickets</td>\n",
       "      <td>Cia Aerea - GOL</td>\n",
       "      <td>149</td>\n",
       "      <td>2009</td>\n",
       "      <td>10</td>\n",
       "      <td>3</td>\n",
       "    </tr>\n",
       "    <tr>\n",
       "      <th>154597</th>\n",
       "      <td>2908116</td>\n",
       "      <td>0</td>\n",
       "      <td>2009-08-14 00:00:00</td>\n",
       "      <td>681</td>\n",
       "      <td>SEM PARTIDO ASSOCIADO</td>\n",
       "      <td>Vazio</td>\n",
       "      <td>Luiz Moreira</td>\n",
       "      <td>7575651000159</td>\n",
       "      <td>Airline tickets</td>\n",
       "      <td>Cia Aerea - GOL</td>\n",
       "      <td>398</td>\n",
       "      <td>2009</td>\n",
       "      <td>8</td>\n",
       "      <td>4</td>\n",
       "    </tr>\n",
       "    <tr>\n",
       "      <th>154598</th>\n",
       "      <td>2908117</td>\n",
       "      <td>0</td>\n",
       "      <td>2009-08-14 00:00:00</td>\n",
       "      <td>681</td>\n",
       "      <td>SEM PARTIDO ASSOCIADO</td>\n",
       "      <td>Vazio</td>\n",
       "      <td>Luiz Moreira</td>\n",
       "      <td>7575651000159</td>\n",
       "      <td>Airline tickets</td>\n",
       "      <td>Cia Aerea - GOL</td>\n",
       "      <td>678</td>\n",
       "      <td>2009</td>\n",
       "      <td>8</td>\n",
       "      <td>4</td>\n",
       "    </tr>\n",
       "    <tr>\n",
       "      <th>209868</th>\n",
       "      <td>2963387</td>\n",
       "      <td>0</td>\n",
       "      <td>2009-10-18 01:00:00</td>\n",
       "      <td>1410</td>\n",
       "      <td>SEM PARTIDO ASSOCIADO</td>\n",
       "      <td>Vazio</td>\n",
       "      <td>Professor Luizinho</td>\n",
       "      <td>7575651000159</td>\n",
       "      <td>Airline tickets</td>\n",
       "      <td>Cia Aerea - GOL</td>\n",
       "      <td>1105</td>\n",
       "      <td>2009</td>\n",
       "      <td>10</td>\n",
       "      <td>6</td>\n",
       "    </tr>\n",
       "    <tr>\n",
       "      <th>209869</th>\n",
       "      <td>2963388</td>\n",
       "      <td>0</td>\n",
       "      <td>2009-10-22 00:00:00</td>\n",
       "      <td>1410</td>\n",
       "      <td>SEM PARTIDO ASSOCIADO</td>\n",
       "      <td>Vazio</td>\n",
       "      <td>Professor Luizinho</td>\n",
       "      <td>7575651000159</td>\n",
       "      <td>Airline tickets</td>\n",
       "      <td>Cia Aerea - GOL</td>\n",
       "      <td>4</td>\n",
       "      <td>2009</td>\n",
       "      <td>10</td>\n",
       "      <td>3</td>\n",
       "    </tr>\n",
       "  </tbody>\n",
       "</table>\n",
       "</div>"
      ],
      "text/plain": [
       "        Unnamed: 0  bugged_date        receipt_date  deputy_id  \\\n",
       "25412      2778931            0 2009-07-25 00:00:00       1543   \n",
       "83815      2837334            0 2009-07-07 00:00:00       1757   \n",
       "117164     2870683            0 2009-10-15 00:00:00       1673   \n",
       "154597     2908116            0 2009-08-14 00:00:00        681   \n",
       "154598     2908117            0 2009-08-14 00:00:00        681   \n",
       "209868     2963387            0 2009-10-18 01:00:00       1410   \n",
       "209869     2963388            0 2009-10-22 00:00:00       1410   \n",
       "\n",
       "              political_party state_code         deputy_name  \\\n",
       "25412   SEM PARTIDO ASSOCIADO      Vazio       Athos Avelino   \n",
       "83815   SEM PARTIDO ASSOCIADO      Vazio     Fernando Estima   \n",
       "117164  SEM PARTIDO ASSOCIADO      Vazio         João Fontes   \n",
       "154597  SEM PARTIDO ASSOCIADO      Vazio        Luiz Moreira   \n",
       "154598  SEM PARTIDO ASSOCIADO      Vazio        Luiz Moreira   \n",
       "209868  SEM PARTIDO ASSOCIADO      Vazio  Professor Luizinho   \n",
       "209869  SEM PARTIDO ASSOCIADO      Vazio  Professor Luizinho   \n",
       "\n",
       "       receipt_social_security_number receipt_description establishment_name  \\\n",
       "25412                   7575651000159     Airline tickets    Cia Aerea - GOL   \n",
       "83815                   7575651000159     Airline tickets    Cia Aerea - GOL   \n",
       "117164                  7575651000159     Airline tickets    Cia Aerea - GOL   \n",
       "154597                  7575651000159     Airline tickets    Cia Aerea - GOL   \n",
       "154598                  7575651000159     Airline tickets    Cia Aerea - GOL   \n",
       "209868                  7575651000159     Airline tickets    Cia Aerea - GOL   \n",
       "209869                  7575651000159     Airline tickets    Cia Aerea - GOL   \n",
       "\n",
       "        receipt_value  year  month  day_of_week  \n",
       "25412             334  2009      7            5  \n",
       "83815             539  2009      7            1  \n",
       "117164            149  2009     10            3  \n",
       "154597            398  2009      8            4  \n",
       "154598            678  2009      8            4  \n",
       "209868           1105  2009     10            6  \n",
       "209869              4  2009     10            3  "
      ]
     },
     "execution_count": 20,
     "metadata": {},
     "output_type": "execute_result"
    }
   ],
   "source": [
    "df[(df['state_code'] == 'Vazio') | (df['political_party'] == 'Vazio')]"
   ]
  },
  {
   "cell_type": "markdown",
   "id": "infrared-offer",
   "metadata": {},
   "source": [
    "Os deputados Athos Avelino, Fernando Estima, João Fontes, Luiz Moreira, e Professor Luizinho, possuem dados de estado e partido faltantes. Por meio de uma pesquisa no site da [Câmara dos Deputados](https://www.camara.leg.br), foi possível preencher manualmente os dados faltantes."
   ]
  },
  {
   "cell_type": "code",
   "execution_count": 21,
   "id": "latin-logic",
   "metadata": {},
   "outputs": [
    {
     "name": "stdout",
     "output_type": "stream",
     "text": [
      "Dados faltantes\n",
      "deputy_name: 0\n",
      "state_code: 0\n",
      "political_party: 0\n",
      "receipt_social_security_number: 520952\n"
     ]
    }
   ],
   "source": [
    "fill_dict = {'Athos Avelino': ['PPS', 'MG'],\n",
    "             'Fernando Estima': ['PL', 'SP'],\n",
    "             'João Fontes': ['PT', 'SE'],\n",
    "             'Luiz Moreira': ['PFL', 'BA'],\n",
    "             'Professor Luizinho': ['PT', 'SP']\n",
    "}\n",
    "\n",
    "for (key, val) in fill_dict.items():\n",
    "    df.loc[df['deputy_name'] == key, 'political_party'] = val[0]\n",
    "    df.loc[df['deputy_name'] == key, 'state_code'] = val[1]\n",
    "\n",
    "get_na(df)\n"
   ]
  },
  {
   "cell_type": "markdown",
   "id": "russian-confirmation",
   "metadata": {},
   "source": [
    "Como vimos, após uma análise mais cuidadosa dos dados, não foram encontradas colunas com valores **nan** ou **none**, porém notamos que as colunas **political_party** e **state_code** possuem valores \"SEM PARTIDO ASSOCIADO\" e \"Vazio\", enquanto que a coluna **deputy_name** em algumas instâncias se encontram com nomes de partidos, o que não é interessante para a análise que foi proposta de avaliar os gastos de deputados. Esse cojunto de valores para uma mesma instância impossibilita a identificação do deputado a qual se refere, portanto foi decidido que não valeria a pena manter essas informações na tabela.\n",
    "\n",
    "Também foram encontrados valores de string **nan** para a coluna de **receipt_social_security_number**, porém a falta dessa informação não atrapalha na avaliação dos dados, então foi decidido manter tais instâncias.\n",
    "\n",
    "#### Remoção de Colunas\n",
    "\n",
    "A coluna **Unnamed: 0** não parece ter uma informação útil, e portanto será removida."
   ]
  },
  {
   "cell_type": "code",
   "execution_count": 22,
   "id": "composed-dylan",
   "metadata": {},
   "outputs": [],
   "source": [
    "df.drop(columns=['Unnamed: 0'], inplace=True)\n",
    "df_parties.drop(columns=['Unnamed: 0'], inplace=True)"
   ]
  },
  {
   "cell_type": "markdown",
   "id": "about-bargain",
   "metadata": {},
   "source": [
    "#### Dados duplicados"
   ]
  },
  {
   "cell_type": "code",
   "execution_count": 23,
   "id": "optical-documentation",
   "metadata": {},
   "outputs": [
    {
     "data": {
      "text/html": [
       "<div>\n",
       "<style scoped>\n",
       "    .dataframe tbody tr th:only-of-type {\n",
       "        vertical-align: middle;\n",
       "    }\n",
       "\n",
       "    .dataframe tbody tr th {\n",
       "        vertical-align: top;\n",
       "    }\n",
       "\n",
       "    .dataframe thead th {\n",
       "        text-align: right;\n",
       "    }\n",
       "</style>\n",
       "<table border=\"1\" class=\"dataframe\">\n",
       "  <thead>\n",
       "    <tr style=\"text-align: right;\">\n",
       "      <th></th>\n",
       "      <th>bugged_date</th>\n",
       "      <th>receipt_date</th>\n",
       "      <th>deputy_id</th>\n",
       "      <th>political_party</th>\n",
       "      <th>state_code</th>\n",
       "      <th>deputy_name</th>\n",
       "      <th>receipt_social_security_number</th>\n",
       "      <th>receipt_description</th>\n",
       "      <th>establishment_name</th>\n",
       "      <th>receipt_value</th>\n",
       "      <th>year</th>\n",
       "      <th>month</th>\n",
       "      <th>day_of_week</th>\n",
       "    </tr>\n",
       "  </thead>\n",
       "  <tbody>\n",
       "    <tr>\n",
       "      <th>172</th>\n",
       "      <td>0</td>\n",
       "      <td>2009-12-15</td>\n",
       "      <td>1772</td>\n",
       "      <td>PSB</td>\n",
       "      <td>SP</td>\n",
       "      <td>Abelardo Camarinha</td>\n",
       "      <td>7575651000159</td>\n",
       "      <td>Airline tickets</td>\n",
       "      <td>Cia Aerea - GOL</td>\n",
       "      <td>4</td>\n",
       "      <td>2009</td>\n",
       "      <td>12</td>\n",
       "      <td>1</td>\n",
       "    </tr>\n",
       "    <tr>\n",
       "      <th>173</th>\n",
       "      <td>0</td>\n",
       "      <td>2009-12-15</td>\n",
       "      <td>1772</td>\n",
       "      <td>PSB</td>\n",
       "      <td>SP</td>\n",
       "      <td>Abelardo Camarinha</td>\n",
       "      <td>7575651000159</td>\n",
       "      <td>Airline tickets</td>\n",
       "      <td>Cia Aerea - GOL</td>\n",
       "      <td>957</td>\n",
       "      <td>2009</td>\n",
       "      <td>12</td>\n",
       "      <td>1</td>\n",
       "    </tr>\n",
       "    <tr>\n",
       "      <th>181</th>\n",
       "      <td>0</td>\n",
       "      <td>2009-10-27</td>\n",
       "      <td>1772</td>\n",
       "      <td>PSB</td>\n",
       "      <td>SP</td>\n",
       "      <td>Abelardo Camarinha</td>\n",
       "      <td>7575651000159</td>\n",
       "      <td>Airline tickets</td>\n",
       "      <td>Cia Aerea - GOL</td>\n",
       "      <td>387</td>\n",
       "      <td>2009</td>\n",
       "      <td>10</td>\n",
       "      <td>1</td>\n",
       "    </tr>\n",
       "    <tr>\n",
       "      <th>182</th>\n",
       "      <td>0</td>\n",
       "      <td>2009-10-27</td>\n",
       "      <td>1772</td>\n",
       "      <td>PSB</td>\n",
       "      <td>SP</td>\n",
       "      <td>Abelardo Camarinha</td>\n",
       "      <td>7575651000159</td>\n",
       "      <td>Airline tickets</td>\n",
       "      <td>Cia Aerea - GOL</td>\n",
       "      <td>387</td>\n",
       "      <td>2009</td>\n",
       "      <td>10</td>\n",
       "      <td>1</td>\n",
       "    </tr>\n",
       "    <tr>\n",
       "      <th>183</th>\n",
       "      <td>0</td>\n",
       "      <td>2009-10-30</td>\n",
       "      <td>1772</td>\n",
       "      <td>PSB</td>\n",
       "      <td>SP</td>\n",
       "      <td>Abelardo Camarinha</td>\n",
       "      <td>7575651000159</td>\n",
       "      <td>Airline tickets</td>\n",
       "      <td>Cia Aerea - GOL</td>\n",
       "      <td>294</td>\n",
       "      <td>2009</td>\n",
       "      <td>10</td>\n",
       "      <td>4</td>\n",
       "    </tr>\n",
       "    <tr>\n",
       "      <th>...</th>\n",
       "      <td>...</td>\n",
       "      <td>...</td>\n",
       "      <td>...</td>\n",
       "      <td>...</td>\n",
       "      <td>...</td>\n",
       "      <td>...</td>\n",
       "      <td>...</td>\n",
       "      <td>...</td>\n",
       "      <td>...</td>\n",
       "      <td>...</td>\n",
       "      <td>...</td>\n",
       "      <td>...</td>\n",
       "      <td>...</td>\n",
       "    </tr>\n",
       "    <tr>\n",
       "      <th>251781</th>\n",
       "      <td>0</td>\n",
       "      <td>2017-02-06</td>\n",
       "      <td>2930</td>\n",
       "      <td>PR</td>\n",
       "      <td>RN</td>\n",
       "      <td>Zenaide Maia</td>\n",
       "      <td>2575829000148</td>\n",
       "      <td>Airline tickets</td>\n",
       "      <td>Cia Aerea - AVIANCA</td>\n",
       "      <td>80</td>\n",
       "      <td>2017</td>\n",
       "      <td>2</td>\n",
       "      <td>0</td>\n",
       "    </tr>\n",
       "    <tr>\n",
       "      <th>251782</th>\n",
       "      <td>0</td>\n",
       "      <td>2017-02-13</td>\n",
       "      <td>2930</td>\n",
       "      <td>PR</td>\n",
       "      <td>RN</td>\n",
       "      <td>Zenaide Maia</td>\n",
       "      <td>2575829000148</td>\n",
       "      <td>Airline tickets</td>\n",
       "      <td>Cia Aerea - AVIANCA</td>\n",
       "      <td>80</td>\n",
       "      <td>2017</td>\n",
       "      <td>2</td>\n",
       "      <td>0</td>\n",
       "    </tr>\n",
       "    <tr>\n",
       "      <th>251783</th>\n",
       "      <td>0</td>\n",
       "      <td>2017-02-13</td>\n",
       "      <td>2930</td>\n",
       "      <td>PR</td>\n",
       "      <td>RN</td>\n",
       "      <td>Zenaide Maia</td>\n",
       "      <td>2575829000148</td>\n",
       "      <td>Airline tickets</td>\n",
       "      <td>Cia Aerea - AVIANCA</td>\n",
       "      <td>80</td>\n",
       "      <td>2017</td>\n",
       "      <td>2</td>\n",
       "      <td>0</td>\n",
       "    </tr>\n",
       "    <tr>\n",
       "      <th>251785</th>\n",
       "      <td>0</td>\n",
       "      <td>2017-03-13</td>\n",
       "      <td>2930</td>\n",
       "      <td>PR</td>\n",
       "      <td>RN</td>\n",
       "      <td>Zenaide Maia</td>\n",
       "      <td>2575829000148</td>\n",
       "      <td>Airline tickets</td>\n",
       "      <td>Cia Aerea - AVIANCA</td>\n",
       "      <td>80</td>\n",
       "      <td>2017</td>\n",
       "      <td>3</td>\n",
       "      <td>0</td>\n",
       "    </tr>\n",
       "    <tr>\n",
       "      <th>251786</th>\n",
       "      <td>0</td>\n",
       "      <td>2017-03-13</td>\n",
       "      <td>2930</td>\n",
       "      <td>PR</td>\n",
       "      <td>RN</td>\n",
       "      <td>Zenaide Maia</td>\n",
       "      <td>2575829000148</td>\n",
       "      <td>Airline tickets</td>\n",
       "      <td>Cia Aerea - AVIANCA</td>\n",
       "      <td>80</td>\n",
       "      <td>2017</td>\n",
       "      <td>3</td>\n",
       "      <td>0</td>\n",
       "    </tr>\n",
       "  </tbody>\n",
       "</table>\n",
       "<p>288006 rows × 13 columns</p>\n",
       "</div>"
      ],
      "text/plain": [
       "        bugged_date receipt_date  deputy_id political_party state_code  \\\n",
       "172               0   2009-12-15       1772             PSB         SP   \n",
       "173               0   2009-12-15       1772             PSB         SP   \n",
       "181               0   2009-10-27       1772             PSB         SP   \n",
       "182               0   2009-10-27       1772             PSB         SP   \n",
       "183               0   2009-10-30       1772             PSB         SP   \n",
       "...             ...          ...        ...             ...        ...   \n",
       "251781            0   2017-02-06       2930              PR         RN   \n",
       "251782            0   2017-02-13       2930              PR         RN   \n",
       "251783            0   2017-02-13       2930              PR         RN   \n",
       "251785            0   2017-03-13       2930              PR         RN   \n",
       "251786            0   2017-03-13       2930              PR         RN   \n",
       "\n",
       "               deputy_name receipt_social_security_number receipt_description  \\\n",
       "172     Abelardo Camarinha                  7575651000159     Airline tickets   \n",
       "173     Abelardo Camarinha                  7575651000159     Airline tickets   \n",
       "181     Abelardo Camarinha                  7575651000159     Airline tickets   \n",
       "182     Abelardo Camarinha                  7575651000159     Airline tickets   \n",
       "183     Abelardo Camarinha                  7575651000159     Airline tickets   \n",
       "...                    ...                            ...                 ...   \n",
       "251781        Zenaide Maia                  2575829000148     Airline tickets   \n",
       "251782        Zenaide Maia                  2575829000148     Airline tickets   \n",
       "251783        Zenaide Maia                  2575829000148     Airline tickets   \n",
       "251785        Zenaide Maia                  2575829000148     Airline tickets   \n",
       "251786        Zenaide Maia                  2575829000148     Airline tickets   \n",
       "\n",
       "         establishment_name  receipt_value  year  month  day_of_week  \n",
       "172         Cia Aerea - GOL              4  2009     12            1  \n",
       "173         Cia Aerea - GOL            957  2009     12            1  \n",
       "181         Cia Aerea - GOL            387  2009     10            1  \n",
       "182         Cia Aerea - GOL            387  2009     10            1  \n",
       "183         Cia Aerea - GOL            294  2009     10            4  \n",
       "...                     ...            ...   ...    ...          ...  \n",
       "251781  Cia Aerea - AVIANCA             80  2017      2            0  \n",
       "251782  Cia Aerea - AVIANCA             80  2017      2            0  \n",
       "251783  Cia Aerea - AVIANCA             80  2017      2            0  \n",
       "251785  Cia Aerea - AVIANCA             80  2017      3            0  \n",
       "251786  Cia Aerea - AVIANCA             80  2017      3            0  \n",
       "\n",
       "[288006 rows x 13 columns]"
      ]
     },
     "execution_count": 23,
     "metadata": {},
     "output_type": "execute_result"
    }
   ],
   "source": [
    "df[df.duplicated(keep=False)]"
   ]
  },
  {
   "cell_type": "code",
   "execution_count": 24,
   "id": "legitimate-therapy",
   "metadata": {},
   "outputs": [
    {
     "data": {
      "text/html": [
       "<div>\n",
       "<style scoped>\n",
       "    .dataframe tbody tr th:only-of-type {\n",
       "        vertical-align: middle;\n",
       "    }\n",
       "\n",
       "    .dataframe tbody tr th {\n",
       "        vertical-align: top;\n",
       "    }\n",
       "\n",
       "    .dataframe thead th {\n",
       "        text-align: right;\n",
       "    }\n",
       "</style>\n",
       "<table border=\"1\" class=\"dataframe\">\n",
       "  <thead>\n",
       "    <tr style=\"text-align: right;\">\n",
       "      <th></th>\n",
       "      <th>bugged_date</th>\n",
       "      <th>receipt_date</th>\n",
       "      <th>deputy_id</th>\n",
       "      <th>political_party</th>\n",
       "      <th>state_code</th>\n",
       "      <th>deputy_name</th>\n",
       "      <th>receipt_social_security_number</th>\n",
       "      <th>receipt_description</th>\n",
       "      <th>establishment_name</th>\n",
       "      <th>receipt_value</th>\n",
       "      <th>year</th>\n",
       "      <th>month</th>\n",
       "      <th>day_of_week</th>\n",
       "    </tr>\n",
       "  </thead>\n",
       "  <tbody>\n",
       "    <tr>\n",
       "      <th>216424</th>\n",
       "      <td>0</td>\n",
       "      <td>2011-10-28</td>\n",
       "      <td>2439</td>\n",
       "      <td>SEM PARTIDO ASSOCIADO</td>\n",
       "      <td>Vazio</td>\n",
       "      <td>Liderança Do Pt</td>\n",
       "      <td>3606027000110</td>\n",
       "      <td>Consultancies, Researches and Technical Works.</td>\n",
       "      <td>AGAPE INFORMATICA</td>\n",
       "      <td>1000</td>\n",
       "      <td>2011</td>\n",
       "      <td>10</td>\n",
       "      <td>4</td>\n",
       "    </tr>\n",
       "    <tr>\n",
       "      <th>216425</th>\n",
       "      <td>0</td>\n",
       "      <td>2011-10-28</td>\n",
       "      <td>2439</td>\n",
       "      <td>SEM PARTIDO ASSOCIADO</td>\n",
       "      <td>Vazio</td>\n",
       "      <td>Liderança Do Pt</td>\n",
       "      <td>3606027000110</td>\n",
       "      <td>Consultancies, Researches and Technical Works.</td>\n",
       "      <td>AGAPE INFORMATICA</td>\n",
       "      <td>1000</td>\n",
       "      <td>2011</td>\n",
       "      <td>10</td>\n",
       "      <td>4</td>\n",
       "    </tr>\n",
       "    <tr>\n",
       "      <th>198918</th>\n",
       "      <td>0</td>\n",
       "      <td>2012-09-13</td>\n",
       "      <td>2442</td>\n",
       "      <td>SEM PARTIDO ASSOCIADO</td>\n",
       "      <td>Vazio</td>\n",
       "      <td>Liderança Do Psdb</td>\n",
       "      <td>2449992000164</td>\n",
       "      <td>Telephony</td>\n",
       "      <td>VIVO</td>\n",
       "      <td>275</td>\n",
       "      <td>2012</td>\n",
       "      <td>9</td>\n",
       "      <td>3</td>\n",
       "    </tr>\n",
       "    <tr>\n",
       "      <th>198920</th>\n",
       "      <td>0</td>\n",
       "      <td>2012-09-13</td>\n",
       "      <td>2442</td>\n",
       "      <td>SEM PARTIDO ASSOCIADO</td>\n",
       "      <td>Vazio</td>\n",
       "      <td>Liderança Do Psdb</td>\n",
       "      <td>2449992000164</td>\n",
       "      <td>Telephony</td>\n",
       "      <td>VIVO</td>\n",
       "      <td>275</td>\n",
       "      <td>2012</td>\n",
       "      <td>9</td>\n",
       "      <td>3</td>\n",
       "    </tr>\n",
       "    <tr>\n",
       "      <th>198954</th>\n",
       "      <td>0</td>\n",
       "      <td>2012-03-22</td>\n",
       "      <td>2442</td>\n",
       "      <td>SEM PARTIDO ASSOCIADO</td>\n",
       "      <td>Vazio</td>\n",
       "      <td>Liderança Do Psdb</td>\n",
       "      <td>7033375000105</td>\n",
       "      <td>Food and Meals</td>\n",
       "      <td>IRENE R DE MACEDO EPP</td>\n",
       "      <td>50</td>\n",
       "      <td>2012</td>\n",
       "      <td>3</td>\n",
       "      <td>3</td>\n",
       "    </tr>\n",
       "    <tr>\n",
       "      <th>...</th>\n",
       "      <td>...</td>\n",
       "      <td>...</td>\n",
       "      <td>...</td>\n",
       "      <td>...</td>\n",
       "      <td>...</td>\n",
       "      <td>...</td>\n",
       "      <td>...</td>\n",
       "      <td>...</td>\n",
       "      <td>...</td>\n",
       "      <td>...</td>\n",
       "      <td>...</td>\n",
       "      <td>...</td>\n",
       "      <td>...</td>\n",
       "    </tr>\n",
       "    <tr>\n",
       "      <th>191882</th>\n",
       "      <td>0</td>\n",
       "      <td>2017-09-11</td>\n",
       "      <td>2715</td>\n",
       "      <td>SEM PARTIDO ASSOCIADO</td>\n",
       "      <td>Vazio</td>\n",
       "      <td>Pdt</td>\n",
       "      <td>26421230000118</td>\n",
       "      <td>Dissemination of the Parliamentary Activity.</td>\n",
       "      <td>HMP COMUNICACAO LTDA</td>\n",
       "      <td>7300</td>\n",
       "      <td>2017</td>\n",
       "      <td>9</td>\n",
       "      <td>0</td>\n",
       "    </tr>\n",
       "    <tr>\n",
       "      <th>195618</th>\n",
       "      <td>0</td>\n",
       "      <td>2017-09-06</td>\n",
       "      <td>3172</td>\n",
       "      <td>SEM PARTIDO ASSOCIADO</td>\n",
       "      <td>Vazio</td>\n",
       "      <td>Pode</td>\n",
       "      <td>3346671000954</td>\n",
       "      <td>Food and Meals</td>\n",
       "      <td>TAIOBA SELF-SERVICE LTDA-EPP</td>\n",
       "      <td>324</td>\n",
       "      <td>2017</td>\n",
       "      <td>9</td>\n",
       "      <td>2</td>\n",
       "    </tr>\n",
       "    <tr>\n",
       "      <th>195619</th>\n",
       "      <td>0</td>\n",
       "      <td>2017-09-06</td>\n",
       "      <td>3172</td>\n",
       "      <td>SEM PARTIDO ASSOCIADO</td>\n",
       "      <td>Vazio</td>\n",
       "      <td>Pode</td>\n",
       "      <td>3346671000954</td>\n",
       "      <td>Food and Meals</td>\n",
       "      <td>TAIOBA SELF-SERVICE LTDA-EPP</td>\n",
       "      <td>324</td>\n",
       "      <td>2017</td>\n",
       "      <td>9</td>\n",
       "      <td>2</td>\n",
       "    </tr>\n",
       "    <tr>\n",
       "      <th>219113</th>\n",
       "      <td>0</td>\n",
       "      <td>2017-08-08</td>\n",
       "      <td>2864</td>\n",
       "      <td>SEM PARTIDO ASSOCIADO</td>\n",
       "      <td>Vazio</td>\n",
       "      <td>Sdd</td>\n",
       "      <td>23517924000165</td>\n",
       "      <td>Food and Meals</td>\n",
       "      <td>WASHINGTON KLAY CARDOSO</td>\n",
       "      <td>2000</td>\n",
       "      <td>2017</td>\n",
       "      <td>8</td>\n",
       "      <td>1</td>\n",
       "    </tr>\n",
       "    <tr>\n",
       "      <th>219114</th>\n",
       "      <td>0</td>\n",
       "      <td>2017-08-08</td>\n",
       "      <td>2864</td>\n",
       "      <td>SEM PARTIDO ASSOCIADO</td>\n",
       "      <td>Vazio</td>\n",
       "      <td>Sdd</td>\n",
       "      <td>23517924000165</td>\n",
       "      <td>Food and Meals</td>\n",
       "      <td>WASHINGTON KLAY CARDOSO</td>\n",
       "      <td>2000</td>\n",
       "      <td>2017</td>\n",
       "      <td>8</td>\n",
       "      <td>1</td>\n",
       "    </tr>\n",
       "  </tbody>\n",
       "</table>\n",
       "<p>149 rows × 13 columns</p>\n",
       "</div>"
      ],
      "text/plain": [
       "        bugged_date receipt_date  deputy_id        political_party state_code  \\\n",
       "216424            0   2011-10-28       2439  SEM PARTIDO ASSOCIADO      Vazio   \n",
       "216425            0   2011-10-28       2439  SEM PARTIDO ASSOCIADO      Vazio   \n",
       "198918            0   2012-09-13       2442  SEM PARTIDO ASSOCIADO      Vazio   \n",
       "198920            0   2012-09-13       2442  SEM PARTIDO ASSOCIADO      Vazio   \n",
       "198954            0   2012-03-22       2442  SEM PARTIDO ASSOCIADO      Vazio   \n",
       "...             ...          ...        ...                    ...        ...   \n",
       "191882            0   2017-09-11       2715  SEM PARTIDO ASSOCIADO      Vazio   \n",
       "195618            0   2017-09-06       3172  SEM PARTIDO ASSOCIADO      Vazio   \n",
       "195619            0   2017-09-06       3172  SEM PARTIDO ASSOCIADO      Vazio   \n",
       "219113            0   2017-08-08       2864  SEM PARTIDO ASSOCIADO      Vazio   \n",
       "219114            0   2017-08-08       2864  SEM PARTIDO ASSOCIADO      Vazio   \n",
       "\n",
       "              deputy_name receipt_social_security_number  \\\n",
       "216424    Liderança Do Pt                  3606027000110   \n",
       "216425    Liderança Do Pt                  3606027000110   \n",
       "198918  Liderança Do Psdb                  2449992000164   \n",
       "198920  Liderança Do Psdb                  2449992000164   \n",
       "198954  Liderança Do Psdb                  7033375000105   \n",
       "...                   ...                            ...   \n",
       "191882                Pdt                 26421230000118   \n",
       "195618               Pode                  3346671000954   \n",
       "195619               Pode                  3346671000954   \n",
       "219113                Sdd                 23517924000165   \n",
       "219114                Sdd                 23517924000165   \n",
       "\n",
       "                                   receipt_description  \\\n",
       "216424  Consultancies, Researches and Technical Works.   \n",
       "216425  Consultancies, Researches and Technical Works.   \n",
       "198918                                       Telephony   \n",
       "198920                                       Telephony   \n",
       "198954                                  Food and Meals   \n",
       "...                                                ...   \n",
       "191882    Dissemination of the Parliamentary Activity.   \n",
       "195618                                  Food and Meals   \n",
       "195619                                  Food and Meals   \n",
       "219113                                  Food and Meals   \n",
       "219114                                  Food and Meals   \n",
       "\n",
       "                  establishment_name  receipt_value  year  month  day_of_week  \n",
       "216424             AGAPE INFORMATICA           1000  2011     10            4  \n",
       "216425             AGAPE INFORMATICA           1000  2011     10            4  \n",
       "198918                          VIVO            275  2012      9            3  \n",
       "198920                          VIVO            275  2012      9            3  \n",
       "198954         IRENE R DE MACEDO EPP             50  2012      3            3  \n",
       "...                              ...            ...   ...    ...          ...  \n",
       "191882          HMP COMUNICACAO LTDA           7300  2017      9            0  \n",
       "195618  TAIOBA SELF-SERVICE LTDA-EPP            324  2017      9            2  \n",
       "195619  TAIOBA SELF-SERVICE LTDA-EPP            324  2017      9            2  \n",
       "219113       WASHINGTON KLAY CARDOSO           2000  2017      8            1  \n",
       "219114       WASHINGTON KLAY CARDOSO           2000  2017      8            1  \n",
       "\n",
       "[149 rows x 13 columns]"
      ]
     },
     "execution_count": 24,
     "metadata": {},
     "output_type": "execute_result"
    }
   ],
   "source": [
    "df_parties[df_parties.duplicated(keep=False)]"
   ]
  },
  {
   "cell_type": "markdown",
   "id": "becoming-piano",
   "metadata": {},
   "source": [
    "Percebe-se que ambas as bases de dados possuem dados duplicados que serão removidos, com exceção da primeira ocorrência do dado duplicado."
   ]
  },
  {
   "cell_type": "code",
   "execution_count": 25,
   "id": "mineral-miami",
   "metadata": {},
   "outputs": [
    {
     "name": "stdout",
     "output_type": "stream",
     "text": [
      "len(df) = 3011346, len(df_parties) = 3556\n",
      "len(df) = 2841668, len(df_parties) = 3478\n"
     ]
    }
   ],
   "source": [
    "print('len(df) = %d, len(df_parties) = %d' % (len(df), len(df_parties)))\n",
    "df.drop_duplicates(keep='first', inplace=True)\n",
    "df_parties.drop_duplicates(keep='first', inplace=True)\n",
    "print('len(df) = %d, len(df_parties) = %d' % (len(df), len(df_parties)))"
   ]
  },
  {
   "cell_type": "markdown",
   "id": "communist-gathering",
   "metadata": {},
   "source": [
    "Como resultado ambas as bases tiveram uma redução no seu tamanho, em linhas.\n",
    "\n",
    "## Perguntas\n",
    "\n",
    "Foram elaboradas no total sete perguntas para serem respondidas com o conjunto de dados apresentado anteriormente, sendo estas perguntas apresentadas a seguir.\n",
    "\n",
    "### 1. Qual seria a média dos valores dos recibos para 2021? "
   ]
  },
  {
   "cell_type": "code",
   "execution_count": 26,
   "id": "representative-catch",
   "metadata": {},
   "outputs": [
    {
     "data": {
      "text/plain": [
       "<AxesSubplot:xlabel='year', ylabel='receipt_value'>"
      ]
     },
     "execution_count": 26,
     "metadata": {},
     "output_type": "execute_result"
    },
    {
     "data": {
      "image/png": "[encoded data removed]",
      "text/plain": [
       "<Figure size 432x288 with 1 Axes>"
      ]
     },
     "metadata": {
      "needs_background": "light"
     },
     "output_type": "display_data"
    }
   ],
   "source": [
    "import matplotlib.pyplot as plt\n",
    "\n",
    "dft = df.groupby('year').mean()\n",
    "\n",
    "sns.scatterplot(data=dft, x='year', y='receipt_value')"
   ]
  },
  {
   "cell_type": "code",
   "execution_count": 27,
   "id": "exotic-range",
   "metadata": {},
   "outputs": [],
   "source": [
    "from scipy.stats import linregress\n",
    "\n",
    "regress = linregress(dft.index, dft['receipt_value'])\n",
    "\n",
    "a = regress.slope\n",
    "b = regress.intercept\n",
    "\n",
    "def predict(year):\n",
    "    return year * a + b"
   ]
  },
  {
   "cell_type": "code",
   "execution_count": 28,
   "id": "single-kenya",
   "metadata": {},
   "outputs": [
    {
     "data": {
      "text/plain": [
       "array([[1.        , 0.97342821],\n",
       "       [0.97342821, 1.        ]])"
      ]
     },
     "execution_count": 28,
     "metadata": {},
     "output_type": "execute_result"
    }
   ],
   "source": [
    "np.corrcoef(dft.index, dft['receipt_value'])"
   ]
  },
  {
   "cell_type": "code",
   "execution_count": 29,
   "id": "bigger-missile",
   "metadata": {},
   "outputs": [
    {
     "data": {
      "text/plain": [
       "Text(0.5, 0, 'Ano')"
      ]
     },
     "execution_count": 29,
     "metadata": {},
     "output_type": "execute_result"
    },
    {
     "data": {
      "image/png": "[encoded data removed]",
      "text/plain": [
       "<Figure size 432x288 with 1 Axes>"
      ]
     },
     "metadata": {
      "needs_background": "light"
     },
     "output_type": "display_data"
    }
   ],
   "source": [
    "yhat = [predict(year) for year in range(2009, 2018)]\n",
    "\n",
    "plt.plot(dft.index, dft['receipt_value'])\n",
    "plt.plot(dft.index, yhat, 'r--')\n",
    "plt.title('Evolução dos valor médio das notas')\n",
    "plt.ylabel('Valor médio')\n",
    "plt.xlabel('Ano')"
   ]
  },
  {
   "cell_type": "code",
   "execution_count": 30,
   "id": "subject-bottom",
   "metadata": {},
   "outputs": [
    {
     "data": {
      "text/plain": [
       "848.8315043215043"
      ]
     },
     "execution_count": 30,
     "metadata": {},
     "output_type": "execute_result"
    }
   ],
   "source": [
    "predict(2021)"
   ]
  },
  {
   "cell_type": "markdown",
   "id": "present-leone",
   "metadata": {},
   "source": [
    "Como se percebe há uma correlação muito forte entre o ano e o valor médio dos recibos. Por meio de uma regressão linear, podemos obter uma boa estimativa de quanto será o valor médio do recibo neste ano de 2021, no caso, o valor obtido foi de aproximadamente **R$ 848**. Curiosamente, este valor seria um incremento de cerca de 11% em relação ao que foi registrado em 2017, enquanto que, a inflação no período tem sido, segundo o IPCA, perto de 17%."
   ]
  },
  {
   "cell_type": "markdown",
   "id": "different-siemens",
   "metadata": {},
   "source": [
    "### 2. Existem deputados que são outliers com relação a gastos com gasolina? Se sim, quais? "
   ]
  },
  {
   "cell_type": "code",
   "execution_count": 31,
   "id": "recognized-berlin",
   "metadata": {},
   "outputs": [
    {
     "data": {
      "text/plain": [
       "<AxesSubplot:>"
      ]
     },
     "execution_count": 31,
     "metadata": {},
     "output_type": "execute_result"
    },
    {
     "data": {
      "image/png": "[encoded data removed]",
      "text/plain": [
       "<Figure size 432x288 with 1 Axes>"
      ]
     },
     "metadata": {
      "needs_background": "light"
     },
     "output_type": "display_data"
    }
   ],
   "source": [
    "df_fuel = df.loc[df['receipt_description'] == 'Fuels and lubricants.']\n",
    "df_fuel = df_fuel.groupby('deputy_name').sum()\n",
    "df_fuel.boxplot(column='receipt_value')"
   ]
  },
  {
   "cell_type": "markdown",
   "id": "funky-horse",
   "metadata": {},
   "source": [
    "Pelo *boxplot* percebe-se que o volume de gastos por deputados para esta categoria tem uma mediana em aproximadamente **R\\$ 100.000,00**, e há a presença de vários outliers, todos com valores de gastos acima do limite superior que é cerca de **R$ 400.000,00**.\n",
    "\n",
    "Vejamos o caso dos deputados com gastos acima de **R$ 400.000,00** em combustíveis:"
   ]
  },
  {
   "cell_type": "code",
   "execution_count": 32,
   "id": "conditional-plaza",
   "metadata": {},
   "outputs": [
    {
     "data": {
      "text/plain": [
       "deputy_name\n",
       "Aelton Freitas             470906\n",
       "Aníbal Gomes               414394\n",
       "Assis Do Couto             429928\n",
       "Claudio Cajado             427742\n",
       "Daniel Almeida             428248\n",
       "Décio Lima                 401941\n",
       "Edio Lopes                 404699\n",
       "Flaviano Melo              478069\n",
       "Geraldo Resende            403970\n",
       "Givaldo Carimbão           470643\n",
       "Gonzaga Patriota           530738\n",
       "Gorete Pereira             445578\n",
       "Jaime Martins              495759\n",
       "Jefferson Campos           489743\n",
       "José Airton Cirilo         490817\n",
       "José Carlos Araújo         455045\n",
       "Jovair Arantes             549163\n",
       "João Campos                478549\n",
       "João Carlos Bacelar        454473\n",
       "Júlio Cesar                480298\n",
       "Lincoln Portela            455119\n",
       "Lázaro Botelho             450604\n",
       "Lúcio Vale                 410133\n",
       "Manoel Junior              412220\n",
       "Marcos Montes              410339\n",
       "Mauro Lopes                480662\n",
       "Nelson Marquezelli         469825\n",
       "Nelson Meurer              474770\n",
       "Osmar Serraglio            442603\n",
       "Paulo Magalhães            498301\n",
       "Pedro Chaves               425320\n",
       "Raimundo Gomes De Matos    409230\n",
       "Renato Molling             459428\n",
       "Ricardo Tripoli            438429\n",
       "Silvio Costa               434247\n",
       "Wolney Queiroz             445454\n",
       "Name: receipt_value, dtype: int64"
      ]
     },
     "execution_count": 32,
     "metadata": {},
     "output_type": "execute_result"
    }
   ],
   "source": [
    "df_outliers = df_fuel[df_fuel['receipt_value'] > 400000]\n",
    "df_outliers['receipt_value']"
   ]
  },
  {
   "cell_type": "code",
   "execution_count": 33,
   "id": "pending-wedding",
   "metadata": {},
   "outputs": [
    {
     "name": "stdout",
     "output_type": "stream",
     "text": [
      "36\n"
     ]
    }
   ],
   "source": [
    "print(len(df_outliers))"
   ]
  },
  {
   "cell_type": "markdown",
   "id": "residential-corruption",
   "metadata": {},
   "source": [
    "Existem ao todo 36 deputados que podemos considerar como outliers em gastos nessa categoria. Vejamos os estados destes:"
   ]
  },
  {
   "cell_type": "code",
   "execution_count": 34,
   "id": "saved-painting",
   "metadata": {},
   "outputs": [
    {
     "name": "stderr",
     "output_type": "stream",
     "text": [
      "<ipython-input-34-0c7c90171bb3>:5: SettingWithCopyWarning: \n",
      "A value is trying to be set on a copy of a slice from a DataFrame.\n",
      "Try using .loc[row_indexer,col_indexer] = value instead\n",
      "\n",
      "See the caveats in the documentation: https://pandas.pydata.org/pandas-docs/stable/user_guide/indexing.html#returning-a-view-versus-a-copy\n",
      "  df_outliers['state'] = states\n"
     ]
    }
   ],
   "source": [
    "states = []\n",
    "for deputy in df_outliers.index:\n",
    "    states.append(df.loc[df['deputy_name'] == deputy, 'state_code'].unique()[0])\n",
    "    \n",
    "df_outliers['state'] = states"
   ]
  },
  {
   "cell_type": "code",
   "execution_count": 35,
   "id": "allied-indianapolis",
   "metadata": {},
   "outputs": [],
   "source": [
    "counts = df_outliers['state'].value_counts()\n",
    "counts_df = pd.DataFrame({'state': counts.index, 'count': counts.values})"
   ]
  },
  {
   "cell_type": "code",
   "execution_count": 36,
   "id": "norwegian-simpson",
   "metadata": {},
   "outputs": [
    {
     "data": {
      "text/plain": [
       "<AxesSubplot:xlabel='state', ylabel='count'>"
      ]
     },
     "execution_count": 36,
     "metadata": {},
     "output_type": "execute_result"
    },
    {
     "data": {
      "image/png": "[encoded data removed]",
      "text/plain": [
       "<Figure size 432x288 with 1 Axes>"
      ]
     },
     "metadata": {
      "needs_background": "light"
     },
     "output_type": "display_data"
    }
   ],
   "source": [
    "sns.barplot(data=counts_df, x='state', y='count')"
   ]
  },
  {
   "cell_type": "markdown",
   "id": "personal-elements",
   "metadata": {},
   "source": [
    "Percebe-se a presença de deputados de 17 estados diferentes, de todas as regiões do país, o estado de Minas Gerais e a Bahia são o que possuem o maior número de deputados que podem ser considerados outliers, com 5 cada."
   ]
  },
  {
   "cell_type": "markdown",
   "id": "further-scroll",
   "metadata": {},
   "source": [
    "### 3. Qual empresa de combustível recebeu mais? Existe alguma relação com possíveis outliers da análise anterior? "
   ]
  },
  {
   "cell_type": "code",
   "execution_count": 37,
   "id": "czech-arbor",
   "metadata": {},
   "outputs": [
    {
     "data": {
      "text/plain": [
       "establishment_name\n",
       "CASCOL COMBUSTIVEIS PARA VEICULOS LTDA            2858271\n",
       "POSTO TOCANTINS LTDA                               962593\n",
       "POSTO HOMERO CASTELO BRANCO LTDA                   651180\n",
       "POSTOS MATARIPE ABASTECIMENTOS E SERVICOS LTDA     642045\n",
       "SAO JOAO POSTOS DE ABASTECIMENTOS E SERVICOS       602538\n",
       "Name: receipt_value, dtype: int64"
      ]
     },
     "execution_count": 37,
     "metadata": {},
     "output_type": "execute_result"
    }
   ],
   "source": [
    "df_fuel_establishment = df.loc[df['receipt_description'] == 'Fuels and lubricants.']\n",
    "df_fuel_establishment = df_fuel_establishment.groupby('establishment_name').sum()\n",
    "df_fuel_establishment.sort_values(by='receipt_value', ascending=False)['receipt_value'].head()"
   ]
  },
  {
   "cell_type": "markdown",
   "id": "apart-window",
   "metadata": {},
   "source": [
    "Como pode ser visto através da organização dos dados filtrados pelos gastos em combustíveis, a empresa que mais recebeu dinheiro foi a **CASCOL COMBUSTIVEIS PARA VEICULOS LTDA**, que pode-se notar ter recebido um valor exorbitantemente maior se comparado ao segundo lugar. Após pesquisa, foi constatado que tal posto se localiza em Brasília, então pode-se deduzir uma ligação entre tais gastos e a localização da Câmara dos Deputados, ainda assim, é algo que chama a atenção."
   ]
  },
  {
   "cell_type": "code",
   "execution_count": 38,
   "id": "limiting-lebanon",
   "metadata": {},
   "outputs": [
    {
     "data": {
      "text/plain": [
       "<AxesSubplot:>"
      ]
     },
     "execution_count": 38,
     "metadata": {},
     "output_type": "execute_result"
    },
    {
     "data": {
      "image/png": "[encoded data removed]",
      "text/plain": [
       "<Figure size 432x288 with 1 Axes>"
      ]
     },
     "metadata": {
      "needs_background": "light"
     },
     "output_type": "display_data"
    }
   ],
   "source": [
    "df_relation = df.loc[(df['deputy_name'].isin(df_outliers.index)) & (df['establishment_name'] == 'CASCOL COMBUSTIVEIS PARA VEICULOS LTDA')]\n",
    "df_relation = df_relation.groupby('deputy_name').sum()\n",
    "df_relation.boxplot(column='receipt_value')"
   ]
  },
  {
   "cell_type": "code",
   "execution_count": 39,
   "id": "aquatic-glass",
   "metadata": {},
   "outputs": [
    {
     "data": {
      "text/html": [
       "<div>\n",
       "<style scoped>\n",
       "    .dataframe tbody tr th:only-of-type {\n",
       "        vertical-align: middle;\n",
       "    }\n",
       "\n",
       "    .dataframe tbody tr th {\n",
       "        vertical-align: top;\n",
       "    }\n",
       "\n",
       "    .dataframe thead th {\n",
       "        text-align: right;\n",
       "    }\n",
       "</style>\n",
       "<table border=\"1\" class=\"dataframe\">\n",
       "  <thead>\n",
       "    <tr style=\"text-align: right;\">\n",
       "      <th></th>\n",
       "      <th>bugged_date</th>\n",
       "      <th>deputy_id</th>\n",
       "      <th>receipt_value</th>\n",
       "      <th>year</th>\n",
       "      <th>month</th>\n",
       "      <th>day_of_week</th>\n",
       "    </tr>\n",
       "    <tr>\n",
       "      <th>deputy_name</th>\n",
       "      <th></th>\n",
       "      <th></th>\n",
       "      <th></th>\n",
       "      <th></th>\n",
       "      <th></th>\n",
       "      <th></th>\n",
       "    </tr>\n",
       "  </thead>\n",
       "  <tbody>\n",
       "    <tr>\n",
       "      <th>Gonzaga Patriota</th>\n",
       "      <td>0</td>\n",
       "      <td>9179</td>\n",
       "      <td>50618</td>\n",
       "      <td>135059</td>\n",
       "      <td>403</td>\n",
       "      <td>130</td>\n",
       "    </tr>\n",
       "  </tbody>\n",
       "</table>\n",
       "</div>"
      ],
      "text/plain": [
       "                  bugged_date  deputy_id  receipt_value    year  month  \\\n",
       "deputy_name                                                              \n",
       "Gonzaga Patriota            0       9179          50618  135059    403   \n",
       "\n",
       "                  day_of_week  \n",
       "deputy_name                    \n",
       "Gonzaga Patriota          130  "
      ]
     },
     "execution_count": 39,
     "metadata": {},
     "output_type": "execute_result"
    }
   ],
   "source": [
    "df_relation.loc[df_relation['receipt_value'] > 10000]"
   ]
  },
  {
   "cell_type": "markdown",
   "id": "radio-rouge",
   "metadata": {},
   "source": [
    "Através do boxplot dos dados onde se encontram apenas os gastos dos deputados considerados outliers em gastos com combustível nesse estabelecimento específico (citado anteriormente), somos capazes de identificar apenas um outlier entre estes, com um gasto muito superior ao padrão. Ao investigarmos quem foi esse outlier, identificou-se **Gonzaga Patriota** como autor de compras que totalizaram **R$ 50618 reais**, o que representa cerca de 10% do total gasto por ele nessa categoria (como constatado na questão anterior), porém dado o tamanho das compras que ele fez nesse posto em comparação com outros, é algo que necessita uma certa atenção."
   ]
  },
  {
   "cell_type": "markdown",
   "id": "orange-manual",
   "metadata": {},
   "source": [
    "### 4. Existem estabelecimentos com compras de apenas um deputado? "
   ]
  },
  {
   "cell_type": "code",
   "execution_count": 47,
   "id": "mounted-cycling",
   "metadata": {},
   "outputs": [],
   "source": [
    "establishment_counts = df['establishment_name'].value_counts() "
   ]
  },
  {
   "cell_type": "code",
   "execution_count": 52,
   "id": "informative-auction",
   "metadata": {},
   "outputs": [],
   "source": [
    "one_time_establishment = establishment_counts[establishment_counts.values == 1].index.to_list()"
   ]
  },
  {
   "cell_type": "code",
   "execution_count": 82,
   "id": "adequate-patio",
   "metadata": {},
   "outputs": [],
   "source": [
    "search_df = df[~df['establishment_name'].isin(one_time_establishment)]\n",
    "unique_establishment_name = search_df['establishment_name'].unique()\n",
    "\n",
    "one_deputy_establishment = []\n",
    "\n",
    "i = 0\n",
    "total = len(unique_establishment_name)\n",
    "\n",
    "for establishment in unique_establishment_name:\n",
    "    i += 1\n",
    "    print('%d/%d' % (i, total))\n",
    "    clear_output()\n",
    "    if len(search_df.loc[search_df['establishment_name'] == establishment, 'deputy_name'].unique()) == 1:\n",
    "        one_deputy_establishment.append(establishment)"
   ]
  },
  {
   "cell_type": "code",
   "execution_count": 61,
   "id": "supposed-updating",
   "metadata": {},
   "outputs": [
    {
     "data": {
      "text/plain": [
       "131518"
      ]
     },
     "execution_count": 61,
     "metadata": {},
     "output_type": "execute_result"
    }
   ],
   "source": [
    "establishment_list = one_deputy_establishment + one_time_establishment\n",
    "len(establishment_list)"
   ]
  },
  {
   "cell_type": "markdown",
   "id": "departmental-mattress",
   "metadata": {},
   "source": [
    "Existem ao todo 131.518 estabelescimentos que tiveram compras de apenas um deputado, porém, em alguns casos, são estabelescimentos que só aparecem em uma única compra. Vejamos se existem outliers em relação ao volume de compras."
   ]
  },
  {
   "cell_type": "code",
   "execution_count": 64,
   "id": "joined-smell",
   "metadata": {},
   "outputs": [
    {
     "data": {
      "text/plain": [
       "<AxesSubplot:>"
      ]
     },
     "execution_count": 64,
     "metadata": {},
     "output_type": "execute_result"
    },
    {
     "data": {
      "image/png": "[encoded data removed]",
      "text/plain": [
       "<Figure size 432x288 with 1 Axes>"
      ]
     },
     "metadata": {
      "needs_background": "light"
     },
     "output_type": "display_data"
    }
   ],
   "source": [
    "est_group = df[df['establishment_name'].isin(establishment_list)].groupby('establishment_name').sum()\n",
    "est_group.boxplot(column='receipt_value')"
   ]
  },
  {
   "cell_type": "markdown",
   "id": "express-extent",
   "metadata": {},
   "source": [
    "Percebe-se pelo boxplot um grande número de outliers, contudo, como grande parte dessses estabelecimentos possuem um volume de vendas baixo (i.e. só venderam uma vez na base de dados), a mediana tende a ser baixa. Vejamos o caso de quem vendeu mais de **R$ 600.000,00**:"
   ]
  },
  {
   "cell_type": "code",
   "execution_count": 81,
   "id": "understanding-nickel",
   "metadata": {},
   "outputs": [
    {
     "name": "stdout",
     "output_type": "stream",
     "text": [
      "Estabelescimento: ADMINISTRADORA IMOBILIARIA ASSIS LTDA \n",
      "Categoria: ['Maintenance of Office' 'Publication Subscription'] \n",
      "Volume: R$ 766503 \n",
      "Deputado(a) comprador: ['Magda Mofatto']\n",
      "Estabelescimento: ADVOCACIA ROGERIO AVELAR S/C \n",
      "Categoria: ['Consultancies, Researches and Technical Works.'] \n",
      "Volume: R$ 746000 \n",
      "Deputado(a) comprador: ['Aureo']\n",
      "Estabelescimento: AMV GRAFICA LTDA \n",
      "Categoria: ['Dissemination of the Parliamentary Activity.'] \n",
      "Volume: R$ 692596 \n",
      "Deputado(a) comprador: ['João Campos']\n",
      "Estabelescimento: Book Servicos Graficos Ltda \n",
      "Categoria: ['Dissemination of the Parliamentary Activity.'] \n",
      "Volume: R$ 759350 \n",
      "Deputado(a) comprador: ['José Rocha']\n",
      "Estabelescimento: LOCAL NEGOCIOS IMOBILIARIOS LTDA \n",
      "Categoria: ['Maintenance of Office'] \n",
      "Volume: R$ 763614 \n",
      "Deputado(a) comprador: ['Guilherme Mussi']\n",
      "Estabelescimento: MATHEUS & MENDES SOCIEDADE DE ADVOGADOS \n",
      "Categoria: ['Consultancies, Researches and Technical Works.'] \n",
      "Volume: R$ 950132 \n",
      "Deputado(a) comprador: ['Beto Mansur']\n",
      "Estabelescimento: MOTO SERVICE LTDA \n",
      "Categoria: ['Renting of motor vehicles or chartering of boats'\n",
      " 'Rental or Chartering of Motor Vehicles'] \n",
      "Volume: R$ 612600 \n",
      "Deputado(a) comprador: ['Lelo Coimbra']\n"
     ]
    }
   ],
   "source": [
    "top_est = est_group[est_group['receipt_value'] > 600000].index.to_list()\n",
    "\n",
    "for top in top_est:\n",
    "    print('Estabelescimento:', top, \n",
    "          '\\nCategoria:', df[df['establishment_name'] == top]['receipt_description'].unique(),\n",
    "          '\\nVolume: R$', est_group.loc[top]['receipt_value'],\n",
    "          '\\nDeputado(a) comprador:', df[df['establishment_name'] == top]['deputy_name'].unique())"
   ]
  },
  {
   "cell_type": "markdown",
   "id": "unable-infection",
   "metadata": {},
   "source": [
    "Percebe-se que a empresa que mais recebeu recursos desse tipo é um escritório de advocacia, porém existe outro escritório que figura entre os mais remunerados, ainda, existem empresas gráficas que receberam um bom volume e só foram contratadas por um deputado(a), além de duas imobiliárias, e uma empresa que oferece serviço de aluguel de motos. Ainda, nenhum deputado aparece mais de uma vez como comprador destes estabelecimentos."
   ]
  },
  {
   "cell_type": "markdown",
   "id": "quality-impossible",
   "metadata": {},
   "source": [
    "### 5. Qual deputado tem a maior média de gastos? "
   ]
  },
  {
   "cell_type": "code",
   "execution_count": 45,
   "id": "nominated-frequency",
   "metadata": {},
   "outputs": [
    {
     "data": {
      "text/plain": [
       "deputy_name\n",
       "Adão Pretto         17700.000000\n",
       "Armando Vergílio     3159.963889\n",
       "Lucas Vergilio       3118.405405\n",
       "Renato Cozzolino     2729.500000\n",
       "Altineu Côrtes       2721.387755\n",
       "Name: receipt_value, dtype: float64"
      ]
     },
     "execution_count": 45,
     "metadata": {},
     "output_type": "execute_result"
    }
   ],
   "source": [
    "dft = df.groupby('deputy_name').mean()\n",
    "dft.sort_values(by='receipt_value', ascending=False)['receipt_value'].head()"
   ]
  },
  {
   "cell_type": "code",
   "execution_count": 46,
   "id": "central-millennium",
   "metadata": {},
   "outputs": [
    {
     "data": {
      "text/html": [
       "<div>\n",
       "<style scoped>\n",
       "    .dataframe tbody tr th:only-of-type {\n",
       "        vertical-align: middle;\n",
       "    }\n",
       "\n",
       "    .dataframe tbody tr th {\n",
       "        vertical-align: top;\n",
       "    }\n",
       "\n",
       "    .dataframe thead th {\n",
       "        text-align: right;\n",
       "    }\n",
       "</style>\n",
       "<table border=\"1\" class=\"dataframe\">\n",
       "  <thead>\n",
       "    <tr style=\"text-align: right;\">\n",
       "      <th></th>\n",
       "      <th>bugged_date</th>\n",
       "      <th>receipt_date</th>\n",
       "      <th>deputy_id</th>\n",
       "      <th>political_party</th>\n",
       "      <th>state_code</th>\n",
       "      <th>deputy_name</th>\n",
       "      <th>receipt_social_security_number</th>\n",
       "      <th>receipt_description</th>\n",
       "      <th>establishment_name</th>\n",
       "      <th>receipt_value</th>\n",
       "      <th>year</th>\n",
       "      <th>month</th>\n",
       "      <th>day_of_week</th>\n",
       "    </tr>\n",
       "  </thead>\n",
       "  <tbody>\n",
       "    <tr>\n",
       "      <th>1730</th>\n",
       "      <td>0</td>\n",
       "      <td>2009-01-15</td>\n",
       "      <td>846</td>\n",
       "      <td>PT</td>\n",
       "      <td>RS</td>\n",
       "      <td>Adão Pretto</td>\n",
       "      <td>7141271000106</td>\n",
       "      <td>Dissemination of the Parliamentary Activity.</td>\n",
       "      <td>PONTOCOM GRAFICA E EDITORA</td>\n",
       "      <td>17700</td>\n",
       "      <td>2009</td>\n",
       "      <td>1</td>\n",
       "      <td>3</td>\n",
       "    </tr>\n",
       "  </tbody>\n",
       "</table>\n",
       "</div>"
      ],
      "text/plain": [
       "      bugged_date receipt_date  deputy_id political_party state_code  \\\n",
       "1730            0   2009-01-15        846              PT         RS   \n",
       "\n",
       "      deputy_name receipt_social_security_number  \\\n",
       "1730  Adão Pretto                  7141271000106   \n",
       "\n",
       "                               receipt_description  \\\n",
       "1730  Dissemination of the Parliamentary Activity.   \n",
       "\n",
       "              establishment_name  receipt_value  year  month  day_of_week  \n",
       "1730  PONTOCOM GRAFICA E EDITORA          17700  2009      1            3  "
      ]
     },
     "execution_count": 46,
     "metadata": {},
     "output_type": "execute_result"
    }
   ],
   "source": [
    "df.loc[df['deputy_name'] == 'Adão Pretto'] "
   ]
  },
  {
   "cell_type": "markdown",
   "id": "synthetic-examination",
   "metadata": {},
   "source": [
    "Como pode ser visto através da ordenação de maneira decrescente do dataframe a partir da média dos valores dos recibos de cada deputado, o deputado com maior média de gastos foi o **Adão Pretto**. O curioso é que esse deputado possui apenas um recibo cadastrado em todo o dataframe. Após pesquisas, constatamos que [tal deputado foi a óbito aproxidamente um mês depois da data do recibo](https://pt.wikipedia.org/wiki/Adão_Pretto)."
   ]
  },
  {
   "cell_type": "markdown",
   "id": "impressive-customer",
   "metadata": {},
   "source": [
    "### 6. Qual foi o deputado que mais gastou em ano eleitoral? "
   ]
  },
  {
   "cell_type": "code",
   "execution_count": 47,
   "id": "sporting-province",
   "metadata": {},
   "outputs": [
    {
     "data": {
      "text/plain": [
       "deputy_name\n",
       "Bruno Araújo      1021203\n",
       "Edio Lopes         985666\n",
       "Gladson Cameli     980001\n",
       "Paes Landim        936326\n",
       "Silas Câmara       935034\n",
       "Name: receipt_value, dtype: int64"
      ]
     },
     "execution_count": 47,
     "metadata": {},
     "output_type": "execute_result"
    }
   ],
   "source": [
    "deputy_election_years = [2010, 2014] # Anos que houveram eleições para deputado federal\n",
    "local_election_years = [2012, 2016] # Anos que houveram eleições para prefeito e vereador\n",
    "\n",
    "df_deputy = df.loc[df['year'].isin(deputy_election_years)]\n",
    "df_deputy = df_deputy.groupby('deputy_name').sum()\n",
    "df_deputy = df_deputy.sort_values(by='receipt_value', ascending=False).head()\n",
    "df_deputy['receipt_value']"
   ]
  },
  {
   "cell_type": "code",
   "execution_count": 48,
   "id": "silver-balloon",
   "metadata": {},
   "outputs": [
    {
     "data": {
      "text/plain": [
       "deputy_name\n",
       "Felipe Bornier    1175485\n",
       "Edio Lopes        1124023\n",
       "Paes Landim       1039567\n",
       "Fábio Faria       1021506\n",
       "Flaviano Melo     1007227\n",
       "Name: receipt_value, dtype: int64"
      ]
     },
     "execution_count": 48,
     "metadata": {},
     "output_type": "execute_result"
    }
   ],
   "source": [
    "df_local = df.loc[df['year'].isin(local_election_years)]\n",
    "df_local = df_local.groupby('deputy_name').sum()\n",
    "df_local = df_local.sort_values(by='receipt_value', ascending=False).head()\n",
    "df_local['receipt_value']"
   ]
  },
  {
   "cell_type": "code",
   "execution_count": 49,
   "id": "legendary-screening",
   "metadata": {},
   "outputs": [
    {
     "data": {
      "text/plain": [
       "deputy_name\n",
       "Edio Lopes        2109689\n",
       "Felipe Bornier    2060048\n",
       "Paes Landim       1975893\n",
       "Silas Câmara      1929109\n",
       "Zé Geraldo        1891848\n",
       "Name: receipt_value, dtype: int64"
      ]
     },
     "execution_count": 49,
     "metadata": {},
     "output_type": "execute_result"
    }
   ],
   "source": [
    "df_final = df.loc[df['year'].isin(deputy_election_years + local_election_years)]\n",
    "df_final = df_final.groupby('deputy_name').sum()\n",
    "df_final = df_final.sort_values(by='receipt_value', ascending=False).head()\n",
    "df_final['receipt_value']"
   ]
  },
  {
   "cell_type": "markdown",
   "id": "synthetic-scientist",
   "metadata": {},
   "source": [
    "Para melhor análise, foi feita a avaliação dos maiores gastos nos anos eleitorais para deputados (2010 e 2014), para prefeitos (2012 e 2016) e por fim de todos os 4 anos juntos. Como pode ser visto nas ordenações de maior para menor dos dataframes expostos, o deputado com maior gasto em anos eleitorais que envolvem eleições de deputados foi **Bruno Araújo**, já nos anos eleitorais que envolvem eleições para prefeitos foi **Felipe Bornier** e por fim em todos os 4 anos eleitorais no período estudado o deputado que mais gastou foi **Edio Lopes**. É interessante notar como Edio aparece entre os dois primeiros lugares em todos os casos.\n",
    "\n",
    "Ainda, vejamos se há algum padrão entre esses deputados em relação aos seus estados."
   ]
  },
  {
   "cell_type": "code",
   "execution_count": 50,
   "id": "studied-share",
   "metadata": {},
   "outputs": [
    {
     "name": "stdout",
     "output_type": "stream",
     "text": [
      "['PE' 'RR' 'AC' 'PI' 'AM'] ['RR' 'RN' 'RJ' 'AC' 'PI'] ['RR' 'RJ' 'PI' 'AM' 'PA']\n"
     ]
    }
   ],
   "source": [
    "print(df.loc[df['deputy_name'].isin(df_deputy.index[:5]), 'state_code'].unique(),\n",
    "df.loc[df['deputy_name'].isin(df_local.index[:5]), 'state_code'].unique(),\n",
    "df.loc[df['deputy_name'].isin(df_final.index[:5]), 'state_code'].unique())"
   ]
  },
  {
   "cell_type": "markdown",
   "id": "organizational-samoa",
   "metadata": {},
   "source": [
    "Para os três casos o que se percebe é a presença de deputados da região Norte e Nordeste, porém, para o caso de anos com eleições de deputados, ou também se observado todos os anos eleitorais, há a presença de um deputado do Sudeste, ainda, nota-se a ausência de deputados da região Centro-Oeste e Sul entre os mais que mais gastam nestes anos. Note que, os deputados do estado de Roraima (RR), Amazonas (AM) possuem as duas maiores médias de valor gasto por recibo, enquanto que os deputados do Rio de Janeiro (RJ) não figuram entre aqueles com a maior médio de valor gasto por recibo:"
   ]
  },
  {
   "cell_type": "code",
   "execution_count": 51,
   "id": "impressive-yemen",
   "metadata": {},
   "outputs": [
    {
     "data": {
      "image/png": "[encoded data removed]",
      "text/plain": [
       "<Figure size 432x288 with 1 Axes>"
      ]
     },
     "metadata": {
      "needs_background": "light"
     },
     "output_type": "display_data"
    }
   ],
   "source": [
    "bar_plot = sns.barplot(data=df, x=\"state_code\", y=\"receipt_value\", ci=None)\n",
    "\n",
    "for item in bar_plot.get_xticklabels():\n",
    "    item.set_rotation(90)"
   ]
  },
  {
   "cell_type": "markdown",
   "id": "legitimate-heart",
   "metadata": {},
   "source": [
    "### 7. Qual é a categoria onde os gastos são maiores? E qual é a categoria onde os gastos são menores?"
   ]
  },
  {
   "cell_type": "code",
   "execution_count": 52,
   "id": "italic-easter",
   "metadata": {},
   "outputs": [
    {
     "data": {
      "image/png": "[encoded data removed]",
      "text/plain": [
       "<Figure size 1152x576 with 1 Axes>"
      ]
     },
     "metadata": {},
     "output_type": "display_data"
    }
   ],
   "source": [
    "dfg = df.groupby('receipt_description').sum()\n",
    "sns.set(rc = {'figure.figsize':(16, 8)})\n",
    "\n",
    "\n",
    "bar_plot = sns.barplot(data=dfg, y=dfg.index, x='receipt_value')"
   ]
  },
  {
   "cell_type": "markdown",
   "id": "surprised-favor",
   "metadata": {},
   "source": [
    "Pelo gráfico, podemos visualizar que a categoria **Airline tickets** (passagens áreas) é que teve o maior volume de gastos, com aproximadamente **R$ 425.000.000,00**, contudo, determinar a categoria com o menor volume de gastos pelo gráfico é um literalmente um teste ótico. Vejamos a seguir quem foi a menor:"
   ]
  },
  {
   "cell_type": "code",
   "execution_count": 53,
   "id": "extensive-seattle",
   "metadata": {},
   "outputs": [
    {
     "data": {
      "text/plain": [
       "receipt_description\n",
       "Land, Sea or River Tickets                           343647\n",
       "Participation in Course, Lecture or Similar Event    344494\n",
       "Leasing or Chartering of Boats                       484181\n",
       "Name: receipt_value, dtype: int64"
      ]
     },
     "execution_count": 53,
     "metadata": {},
     "output_type": "execute_result"
    }
   ],
   "source": [
    "dfg.sort_values(by='receipt_value', ascending=True)['receipt_value'][:3]"
   ]
  },
  {
   "cell_type": "markdown",
   "id": "recognized-belief",
   "metadata": {},
   "source": [
    "Pela tabela acima, temos que a categoria **Land, Sea or River Tickets** possui o menor volume de gastos, porém é quase um empate com a categoria **Participation in Course, Lecture or Similar Event**, dada a característica da primeira categoria, e a categoria de maiores gastos, pode-se notar que definitivamente os deputados preferem viajar de avião à utilizar outros meios de transporte."
   ]
  },
  {
   "cell_type": "markdown",
   "id": "perfect-howard",
   "metadata": {},
   "source": [
    "## Conclusão\n",
    "\n",
    "Portanto, a partir da resolução das perguntas propostas, pode-se notar que os deputados gastam bastante com gasolina, no entanto não é categoria em que os gastos são maiores, sendo esta a de **Passagens Aéreas** (**Airline tickets**). O volume de gasto nessa categoria foi cerca de **R\\$ 425.000.000,00** no período. Dentre as categorias em que os deputados menos gastam, estão: **Land, Sea or River Tickets ,Participation in Course, Lecture or Similar Event** e **Leasing or Chartering of Boats**.\n",
    "\n",
    "Na categoria de **Fuels and lubricants**, que é basicamente gastos com combustíveis, notou-se que 36 deputados obtiveram gastos superiores ao valor de **R\\$ 400.000,00**, e sendo 5 deputados do estado de Minas Gerias e 5 da Bahia. Na busca de encontrar respostas para descobrir qual seria o posto de combustíveis que mais recebeu dinheiro, encontramos que foi o posto **CASCOL COMBUSTIVEIS PARA VEICULOS LTDA**, do qual é situado em Brasília. Pode-se deduzir que isso acontece devido à proximidade física dele com a Câmara dos Deputados e a cidade. Dentre os 36 deputados, o que mais gastou nesse estabelecimento foi o deputado Gonzaga Patriota, eleito pelo estado de Pernambuco. No caso deste deputado, do total de gastos que ele teve com combustíveis, cerca de 10% foi nesse estabelecimento, o que é algo muito peculiar. \n",
    "\n",
    "Ao analisar estabelecimentos que possuiam apenas compras de um deputado, foram detectados milhares de casos, contudo, o que chama a atenção é a maior parte possuir um pequeno volume enquanto há um grupo com um alto volume de gastos, entre estes \"campeões\", foram encontrados gastos com escritórios de advocacia, empresas que oferecem serviço de aluguel de motos, além de duas imobiliárias. As categorias destes gastos estão entre as que os deputados mais gastam, porém causa estranheza neste caso, não ter sido optado por um fornecedor mais estabelecida (i.e. que também fornece estes serviços para outros parlamentares).\n",
    "\n",
    "É de se esperar que em anos eleitorais deputados irão gastar mais recursos financeiros, uma vez que é época das suas próprias campanhas ou de aliados. Foi encontrado que nos anos eleitorias de eleição federal, logo que envolve eleições para deputados, os deputados que mais gastaram foram  **Bruno Araújo e  Edio Lopes**. Já nas eleições municipais foram **Felipe Bornier e Edio Lopes**. Quando se olha os estados dos deputados que mais gastam nestes anos, tem-se que políticos de **Roraima(RR) e Amazonas(AM)** aparecem entre os primeiros em todos os anos, ainda, há a ausência de deputados da região Centro-Oeste e Sul entre os que mais gastam em anos eleitorais.\n",
    "\n",
    "Uma limitação que encontramos foi em relação que a maior parte dos dados da base de dados utilizada serem categóricos, o que limitou muito realizar operações que poderiam envolver o agrupamento de dados. Para melhorias, seria interessante procurar adicionar em outra fonte, dados numéricos para serem incorporados à base de dados, por outro lado, outra melhoria seria a atualização da base, pois a mesma está desatualizada, sendo os dados do período de 2009-2017, e portanto, não possui informações dos gastos dos deputados que estão exercendo o mandato atualmente.\n",
    "\n",
    "Por fim, a partir deste trabalho, pode-se perceber que quando investigados os gastos de deputados irão surgir informações e conjecturas suspeitas, além disso, é possível identificar padrões dos gastos dos parlamentares, como por exemplo, o tipo de maior gasto. Por conseguinte, conclui-se que é necessário investigar as despesas dos deputados, pois há casos onde estes estão gastando quantias exorbitantes em estabelecimentos, produtos ou serviços. Um futuro trabalho que poderia ser relizado seria o de concatenar todas esses dados analisados e criar um dashboard para ser disponibilizado para acesso ao público em geral. Ou seja, criar uma aplicação com o objetivo de fiscalização de gastos dos políticos. "
   ]
  }
 ],
 "metadata": {
  "kernelspec": {
   "display_name": "Python 3",
   "language": "python",
   "name": "python3"
  },
  "language_info": {
   "codemirror_mode": {
    "name": "ipython",
    "version": 3
   },
   "file_extension": ".py",
   "mimetype": "text/x-python",
   "name": "python",
   "nbconvert_exporter": "python",
   "pygments_lexer": "ipython3",
   "version": "3.8.2"
  }
 },
 "nbformat": 4,
 "nbformat_minor": 5
}
